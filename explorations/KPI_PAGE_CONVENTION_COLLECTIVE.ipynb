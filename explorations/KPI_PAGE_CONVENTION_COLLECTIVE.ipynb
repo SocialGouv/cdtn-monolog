{
 "cells": [
  {
   "cell_type": "markdown",
   "id": "7a3c12c9",
   "metadata": {},
   "source": [
    "# PAGE - CONVENTION COLLECTIVE\n",
    "\n",
    "**Définition** : \n",
    "\n",
    "Ce notebook permet de générer les KPIs autours de la page des conventions collectives :\n",
    "\n",
    " * Convertion des conventions collectives : Taux de visites où l'utilisateur a cliqué sur une contribution\n",
    "\n",
    "\n",
    "## Récupération des données"
   ]
  },
  {
   "cell_type": "code",
   "execution_count": null,
   "id": "fff5c5f0",
   "metadata": {},
   "outputs": [],
   "source": [
    "import pandas as pd\n",
    "import time\n",
    "import json\n",
    "import math\n",
    "from tqdm.notebook import tqdm\n",
    "import plotly.express as px\n",
    "import plotly.graph_objects as go\n",
    "from datetime import datetime\n",
    "from src.elasticsearch_connector import ElasticsearchConnector\n",
    "#from typing import List, Dict\n",
    "\n",
    "\n",
    "pd.set_option('display.max_columns', 100)\n",
    "pd.set_option('display.max_rows', 100)"
   ]
  },
  {
   "cell_type": "markdown",
   "id": "4c0d7dc7-95af-4ac2-bc7e-1cd633285f8c",
   "metadata": {},
   "source": [
    "### Interval\n",
    "\n",
    "Renseignez la date de début (incluse) et de fin (non incluse) souhaitées pour la récupération des données"
   ]
  },
  {
   "cell_type": "code",
   "execution_count": null,
   "id": "5b356180-62cf-4981-a259-a9d32664f8de",
   "metadata": {},
   "outputs": [],
   "source": [
    "date_debut = '2024-10-01'\n",
    "date_fin = '2024-10-31'"
   ]
  },
  {
   "cell_type": "markdown",
   "id": "6bbb83a2-42cf-4737-a8ef-359e402df210",
   "metadata": {},
   "source": [
    "### Convention collectives supportées\n",
    "\n",
    "Utilisé pour filtrer dans la requête ES et allégé le processus"
   ]
  },
  {
   "cell_type": "code",
   "execution_count": null,
   "id": "9464c8dc-38da-49e9-b1d5-452d6c1e3357",
   "metadata": {},
   "outputs": [],
   "source": [
    "cc_ids = ['2511','1596','1597','3127','1404','3043','1517','1527','2941','1043','2609','2596','2614','1483','3239','2264','2216','2148','2098','2120','1996','1979','1702','1672','1516','1518','1606','1501','1505','1486','1480','1351','1266','1147','1090','0843','0675','0292','0275','0176','0086','0044','0016','0029','3248','2420','0413','0787','0573']  # Liste des identifiants des conventions collectives"
   ]
  },
  {
   "cell_type": "markdown",
   "id": "dd07dd65",
   "metadata": {},
   "source": [
    "### Requête ES"
   ]
  },
  {
   "cell_type": "code",
   "execution_count": null,
   "id": "d53a28c2",
   "metadata": {},
   "outputs": [],
   "source": [
    "es_connector = ElasticsearchConnector(env='monolog')\n",
    "\n",
    "# Construire dynamiquement les conditions sur les URLs\n",
    "convention_clauses = [\n",
    "    {\"prefix\": {\"url\": f\"https://code.travail.gouv.fr/convention-collective/{cc_id}\"}} for cc_id in cc_ids\n",
    "]\n",
    "\n",
    "# Construire dynamiquement les conditions sur les URLs des contributions\n",
    "contribution_clauses = [\n",
    "    {\"prefix\": {\"url\": f\"https://code.travail.gouv.fr/contribution/{cc_id}-\"}} for cc_id in cc_ids\n",
    "]\n",
    "\n",
    "# Combiner les clauses dans le should\n",
    "should_clauses = convention_clauses + contribution_clauses\n",
    "\n",
    "QUERY = {\n",
    "  \"query\": {\n",
    "    \"bool\": {\n",
    "      \"must\": [\n",
    "        {\n",
    "          \"bool\": {\n",
    "            \"should\": should_clauses,  # Liste dynamique des préfixes pour conventions et contributions\n",
    "            \"minimum_should_match\": 1\n",
    "          }\n",
    "        },\n",
    "        {\n",
    "          \"range\": {\n",
    "            \"logfile\": {\n",
    "              \"gte\": date_debut,\n",
    "              \"lt\": date_fin\n",
    "            }\n",
    "          }\n",
    "        },\n",
    "        {\n",
    "          \"terms\": {\n",
    "            \"type\": [\n",
    "              \"visit_content\"\n",
    "            ]\n",
    "          }\n",
    "        }\n",
    "      ]\n",
    "    }\n",
    "  }\n",
    "}"
   ]
  },
  {
   "cell_type": "code",
   "execution_count": null,
   "id": "b39eb07a",
   "metadata": {},
   "outputs": [],
   "source": [
    "inital_logs = es_connector.execute_query(QUERY, \"logs-new\")"
   ]
  },
  {
   "cell_type": "markdown",
   "id": "f078799e",
   "metadata": {},
   "source": [
    "## Taux de visites où l'utilisateur a cliqué sur une contribution"
   ]
  },
  {
   "cell_type": "markdown",
   "id": "83cc1531-a045-420b-8b78-ee70d13cc457",
   "metadata": {},
   "source": [
    "### Calcul du nombre de visites sur les conventions collectives ayant abouti à un click sur une contribution\n",
    "\n",
    "Pour ce calcul, on va prendre toutes les visites sur les pages de conventions collectives qui ont également une visites sur les contributions personnalisées. \n",
    "\n",
    "Note:\n",
    "Afin de simplifier le processus et éviter de récupérer l'ensemble des events depuis ES, on va vérifier que la contribution a été visité dans un délai de moins de 2 minutes. Cela permet d'exclure les visites où l'utilisateur arrive sur une contribution mais pas directement depuis la convention collective.\n",
    "Ce qui serait top, c'est de récupérer tout les events depuis ES, de prendre les visites où l'utilisateur est passé sur une convention collective puis direct après sur une contribution (et en plus sur une contribution de la même convention collective). Cela demande beaucoup d'effort et d'énergie pour le moment."
   ]
  },
  {
   "cell_type": "code",
   "execution_count": null,
   "id": "79604d1a",
   "metadata": {},
   "outputs": [],
   "source": [
    "logs = inital_logs.copy()\n",
    "\n",
    "# Convertir timestamp en datetime pour trier facilement\n",
    "logs['date'] = pd.to_datetime(logs['timestamp'], unit='s')\n",
    "\n",
    "# Trier par idVisit et timestamp\n",
    "sorted_logs = logs.sort_values(by=['idVisit', 'date'])\n",
    "\n",
    "def filter_visits(group):\n",
    "    urls = group['url'].tolist()\n",
    "    timestamps = group['date'].tolist()\n",
    "    \n",
    "    # Vérifier qu'il y a au moins deux URLs pour comparer\n",
    "    if len(urls) > 1:\n",
    "        # Vérifier que la première URL est une convention collective\n",
    "        if urls[0].startswith(\"https://code.travail.gouv.fr/convention-collective/\"):\n",
    "            # Vérifier que la deuxième URL est une contribution\n",
    "            if urls[1].startswith(\"https://code.travail.gouv.fr/contribution/\"):\n",
    "                # Calculer la différence de temps (en secondes)\n",
    "                time_diff = (timestamps[1] - timestamps[0]).total_seconds()\n",
    "                if time_diff <= 120:  # 2 minutes = 120 secondes\n",
    "                    return True\n",
    "    return False\n",
    "\n",
    "# Appliquer le filtre sur les groupes\n",
    "grouped_logs = sorted_logs.groupby('idVisit')\n",
    "valid_visits = grouped_logs.filter(filter_visits)\n",
    "\n",
    "# Extraire l'identifiant de la convention collective de l'URL\n",
    "valid_visits['convention_id'] = valid_visits['url'].str.extract(r\"convention-collective/(\\d+)\")\n",
    "\n",
    "# Filtrer les visites contenant uniquement les conventions collectives\n",
    "convention_visits = valid_visits.dropna(subset=['convention_id'])\n",
    "\n",
    "# Compter les visites uniques par convention collective\n",
    "unique_visits = convention_visits.groupby('convention_id')['idVisit'].nunique().reset_index()\n",
    "unique_visits.rename(columns={'idVisit': 'unique_visits'}, inplace=True)"
   ]
  },
  {
   "cell_type": "markdown",
   "id": "6f2bd408",
   "metadata": {},
   "source": [
    "### Calcul du nombre de visites par convention collective"
   ]
  },
  {
   "cell_type": "code",
   "execution_count": null,
   "id": "7fd85d5f",
   "metadata": {},
   "outputs": [],
   "source": [
    "visits_per_cc = inital_logs.copy()\n",
    "\n",
    "# Convertir le timestamp (en secondes) en datetime\n",
    "visits_per_cc['timestamp'] = pd.to_datetime(visits_per_cc['timestamp'], unit='s')\n",
    "\n",
    "# Extraire l'identifiant de la convention collective\n",
    "visits_per_cc['convention_id'] = visits_per_cc['url'].str.extract(r\"convention-collective/(\\d+)\")\n",
    "\n",
    "# Filtrer les événements liés aux conventions collectives\n",
    "cc_visits = visits_per_cc.dropna(subset=['convention_id'])\n",
    "\n",
    "# Calculer le nombre de visites uniques pour chaque convention collective\n",
    "unique_visits_cc = cc_visits.groupby('convention_id')['idVisit'].nunique().reset_index()\n",
    "unique_visits_cc.rename(columns={'idVisit': 'unique_visits'}, inplace=True)"
   ]
  },
  {
   "cell_type": "markdown",
   "id": "25f72e2d-75ff-444c-97f3-e6b45aded91d",
   "metadata": {},
   "source": [
    "### Ratio du nombre de visites avec convertion pour chaque convention collective"
   ]
  },
  {
   "cell_type": "code",
   "execution_count": null,
   "id": "8465d919-58e3-4242-b589-9b3c0de8f413",
   "metadata": {},
   "outputs": [],
   "source": [
    "# Renommer les colonnes pour éviter les conflits\n",
    "unique_visits.rename(columns={\"unique_visits\": \"visits_converted\"}, inplace=True)\n",
    "unique_visits_cc.rename(columns={\"unique_visits\": \"visits_total\"}, inplace=True)\n",
    "\n",
    "# Fusionner les deux DataFrames sur convention_id\n",
    "merged_df = pd.merge(unique_visits, unique_visits_cc, on=\"convention_id\", how=\"inner\")\n",
    "\n",
    "# Calculer le ratio\n",
    "merged_df['ratio'] = merged_df['visits_converted'] / merged_df['visits_total'] * 100"
   ]
  },
  {
   "cell_type": "code",
   "execution_count": null,
   "id": "d2516377-9b13-409d-8480-403999fb4ffd",
   "metadata": {},
   "outputs": [],
   "source": [
    "# Trie par ratio\n",
    "merged_df = merged_df.sort_values(by='visits_total', ascending=False)\n",
    "\n",
    "styled_df = (\n",
    "    merged_df.style\n",
    "    .format({\"ratio\": \"{:.2f}%\"})\n",
    ")\n",
    "\n",
    "styled_df"
   ]
  },
  {
   "cell_type": "markdown",
   "id": "3e35ab76-10cd-4dc4-bed7-4ab73d7a1e29",
   "metadata": {},
   "source": [
    "### Sauvegarde du tableau dans un fichier CSV\n",
    "\n",
    "Le fichier est disponible dans le dossier `explorations/outputs`"
   ]
  },
  {
   "cell_type": "code",
   "execution_count": null,
   "id": "8f33f2a9-5c0c-4834-bf38-e9357a634f3a",
   "metadata": {},
   "outputs": [],
   "source": [
    "merged_df.to_csv(f\"./outputs/ratio_completion_convention_collective_{date_debut}_{date_fin}.csv\", index=False, encoding='utf-8')"
   ]
  },
  {
   "cell_type": "code",
   "execution_count": null,
   "id": "0a3e0c92-2a1c-452e-948b-b762622eeb85",
   "metadata": {},
   "outputs": [],
   "source": []
  }
 ],
 "metadata": {
  "kernelspec": {
   "display_name": "Python 3 (ipykernel)",
   "language": "python",
   "name": "python3"
  },
  "language_info": {
   "codemirror_mode": {
    "name": "ipython",
    "version": 3
   },
   "file_extension": ".py",
   "mimetype": "text/x-python",
   "name": "python",
   "nbconvert_exporter": "python",
   "pygments_lexer": "ipython3",
   "version": "3.9.6"
  }
 },
 "nbformat": 4,
 "nbformat_minor": 5
}
