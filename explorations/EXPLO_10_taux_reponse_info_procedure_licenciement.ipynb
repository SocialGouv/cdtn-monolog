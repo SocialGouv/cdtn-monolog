{
 "cells": [
  {
   "cell_type": "markdown",
   "id": "9bedfd34",
   "metadata": {},
   "source": [
    "# Sur les 18 pages info procédure de licenciement combien ont trouvé leur réponse\n",
    "\n",
    "**Définition** : Ce que je veux faire\n",
    "\n",
    "**Formule** : \n",
    "\n",
    "## On commence par le chargement des données\n",
    "on décommente ce dont on a besoin"
   ]
  },
  {
   "cell_type": "code",
   "execution_count": null,
   "id": "f0351673",
   "metadata": {},
   "outputs": [],
   "source": [
    "import pandas as pd\n",
    "import time\n",
    "import json\n",
    "import math\n",
    "from tqdm.notebook import tqdm\n",
    "import plotly.express as px\n",
    "import plotly.graph_objects as go\n",
    "from datetime import datetime\n",
    "from src.elasticsearch_connector import ElasticsearchConnector\n",
    "#from typing import List, Dict\n",
    "\n",
    "\n",
    "pd.set_option('display.max_columns', 100)\n",
    "pd.set_option('display.max_rows', 100)"
   ]
  },
  {
   "cell_type": "markdown",
   "id": "84c7b1c8",
   "metadata": {},
   "source": [
    "## Si on veut lire en requêtant Elastic Search"
   ]
  },
  {
   "cell_type": "code",
   "execution_count": null,
   "id": "94d801d8",
   "metadata": {},
   "outputs": [],
   "source": [
    "es_connector = ElasticsearchConnector(env='monolog')\n",
    "\n",
    "QUERY = {\n",
    "  \"query\": {\n",
    "    \"bool\": { \n",
    "      \"must\": [\n",
    "        {\n",
    "          \"range\": {\n",
    "            \"logfile\": {\n",
    "              \"gte\": \"2023-02-01\",\n",
    "              \"lt\": \"2023-03-01\"\n",
    "            }\n",
    "          }\n",
    "        }\n",
    "      ]\n",
    "    }\n",
    "  }\n",
    "}"
   ]
  },
  {
   "cell_type": "code",
   "execution_count": null,
   "id": "e6482fdb",
   "metadata": {},
   "outputs": [],
   "source": [
    "logs = es_connector.execute_query(QUERY, \"logs-new\")"
   ]
  },
  {
   "cell_type": "code",
   "execution_count": null,
   "id": "71d0acfe",
   "metadata": {},
   "outputs": [],
   "source": [
    "logs = logs.append(logs2)"
   ]
  },
  {
   "cell_type": "code",
   "execution_count": null,
   "id": "87ae75e1",
   "metadata": {},
   "outputs": [],
   "source": [
    "logs.shape"
   ]
  },
  {
   "cell_type": "code",
   "execution_count": null,
   "id": "91fa9fd4",
   "metadata": {},
   "outputs": [],
   "source": [
    "logs.head()"
   ]
  },
  {
   "cell_type": "code",
   "execution_count": null,
   "id": "02162040",
   "metadata": {},
   "outputs": [],
   "source": [
    "def filter_df_startwith_url(df: pd.DataFrame, url):\n",
    "    return df[df['url'].str.match(f'^{url}', na=False)].copy()"
   ]
  },
  {
   "cell_type": "code",
   "execution_count": null,
   "id": "3e2e3f11",
   "metadata": {},
   "outputs": [],
   "source": [
    "def format_url_and_get_month_and_datetime_columns(df: pd.DataFrame):\n",
    "    df['url'] = df['url'].str.split('#').str[0].str.split('?').str[0]\n",
    "    df['month'] = pd.DatetimeIndex(df['logfile']).month\n",
    "    df['datetime'] = df['timestamp'].apply(datetime.fromtimestamp)\n",
    "    return df"
   ]
  },
  {
   "cell_type": "code",
   "execution_count": null,
   "id": "e53738f1",
   "metadata": {},
   "outputs": [],
   "source": [
    "def clean_dataset_from_useless_rows(df: pd.DataFrame):\n",
    "    #df = df.drop_duplicates(subset=['idVisit', 'url', 'type']).copy()\n",
    "    return df[df['type'].isin(['visit_content', 'outil', 'themes', 'select_result', 'search', 'home',\n",
    "                                    'pagecc_clickcontrib', 'modeles_courriers'])]"
   ]
  },
  {
   "cell_type": "code",
   "execution_count": null,
   "id": "378ab1c4",
   "metadata": {},
   "outputs": [],
   "source": [
    "logs_formated = format_url_and_get_month_and_datetime_columns(logs)"
   ]
  },
  {
   "cell_type": "code",
   "execution_count": null,
   "id": "6fa0d953",
   "metadata": {},
   "outputs": [],
   "source": [
    "#logs_contrib = filter_df_startwith_url(logs_formated, 'https://code.travail.gouv.fr/contribution/')\n",
    "#logs_april_contrib_without_duplicates = logs_contrib.drop_duplicates(subset=['idVisit', 'url', 'type']).copy()"
   ]
  },
  {
   "cell_type": "code",
   "execution_count": null,
   "id": "bf108f86",
   "metadata": {},
   "outputs": [],
   "source": [
    "logs_formated.shape[0]"
   ]
  },
  {
   "cell_type": "markdown",
   "id": "98bf4904",
   "metadata": {},
   "source": [
    "# Début de l'explo\n",
    "\n",
    "Commentaire"
   ]
  },
  {
   "cell_type": "code",
   "execution_count": null,
   "id": "19fd4841",
   "metadata": {},
   "outputs": [],
   "source": [
    "logs_information_licenciement = logs_formated[\n",
    "    (logs_formated['url'].notna()) & \n",
    "    (logs_formated['url'].str.contains('information/')) &\n",
    "    (logs_formated['url'].str.contains('licenciement'))\n",
    "].copy()"
   ]
  },
  {
   "cell_type": "code",
   "execution_count": null,
   "id": "f5a482d5",
   "metadata": {},
   "outputs": [],
   "source": [
    "logs_information_licenciement"
   ]
  },
  {
   "cell_type": "code",
   "execution_count": null,
   "id": "646a50c5",
   "metadata": {},
   "outputs": [],
   "source": [
    "logs_information_licenciement[logs_information_licenciement['feedbackType']=='Fermeture de l’établi pour non conformité 27/12/22\\nTout le personnel doit être licencié \\nChômage partiel refusé le 17 février \\nLa demande du 24/1']"
   ]
  },
  {
   "cell_type": "code",
   "execution_count": null,
   "id": "a6cb6e3a",
   "metadata": {},
   "outputs": [],
   "source": [
    "logs_information_licenciement[logs_information_licenciement['idVisit']=='32720971']"
   ]
  },
  {
   "cell_type": "code",
   "execution_count": null,
   "id": "c8c14241",
   "metadata": {},
   "outputs": [],
   "source": [
    "logs_information_licenciement[\n",
    "    logs_information_licenciement['feedbackType'].notna()\n",
    "].feedbackType.value_counts().to_frame()"
   ]
  }
 ],
 "metadata": {
  "kernelspec": {
   "display_name": "Python 3 (ipykernel)",
   "language": "python",
   "name": "python3"
  },
  "language_info": {
   "codemirror_mode": {
    "name": "ipython",
    "version": 3
   },
   "file_extension": ".py",
   "mimetype": "text/x-python",
   "name": "python",
   "nbconvert_exporter": "python",
   "pygments_lexer": "ipython3",
   "version": "3.10.10"
  }
 },
 "nbformat": 4,
 "nbformat_minor": 5
}
