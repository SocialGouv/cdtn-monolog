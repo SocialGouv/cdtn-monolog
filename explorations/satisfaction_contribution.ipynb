{
 "cells": [
  {
   "cell_type": "markdown",
   "metadata": {},
   "source": [
    "# Pourcentage de satisfaction des pages `contributions` génériques et personnalisées\n",
    "\n",
    "Dans cette exploration, le but est de récupérer le pourcentage de personne qui ont répondue `Oui` ou `Non` à la question : `Avez-vous trouvé la réponse à votre question ?`\n",
    "\n",
    "Nous allons appliquer cette analyse à chacune des pages `contributions` génériques et personnalisées."
   ]
  },
  {
   "cell_type": "markdown",
   "metadata": {},
   "source": [
    "## 1. Chargement des librairies"
   ]
  },
  {
   "cell_type": "code",
   "execution_count": null,
   "metadata": {},
   "outputs": [],
   "source": [
    "import pandas as pd\n",
    "import time\n",
    "import json\n",
    "import math\n",
    "from tqdm.notebook import tqdm\n",
    "import plotly.express as px\n",
    "import plotly.graph_objects as go\n",
    "from datetime import datetime\n",
    "from src.elasticsearch_connector import ElasticsearchConnector\n",
    "\n",
    "pd.set_option('display.max_columns', 1000)\n",
    "pd.set_option('display.max_rows', 1000)\n",
    "pd.set_option('display.max_colwidth', 1000)"
   ]
  },
  {
   "cell_type": "markdown",
   "metadata": {},
   "source": [
    "## 2. Récupération des queries sur elasticsearch"
   ]
  },
  {
   "cell_type": "code",
   "execution_count": null,
   "metadata": {},
   "outputs": [],
   "source": [
    "es_connector = ElasticsearchConnector(env='monolog')\n",
    "\n",
    "QUERY_LOG_CONTRIB = {\n",
    "    \"query\": {\n",
    "        \"bool\": { \n",
    "          \"must\": [\n",
    "            {\n",
    "              \"prefix\": {\n",
    "                \"url\": \"https://code.travail.gouv.fr/contribution\" \n",
    "              }\n",
    "            },\n",
    "            {\n",
    "              \"range\": {\n",
    "               \"logfile\": {\n",
    "                    \"gte\": \"2023-09-01\",\n",
    "                    \"lte\": \"2023-10-01\"\n",
    "               }\n",
    "              }\n",
    "            }\n",
    "          ]\n",
    "        }\n",
    "      }\n",
    "}"
   ]
  },
  {
   "cell_type": "code",
   "execution_count": null,
   "metadata": {},
   "outputs": [],
   "source": [
    "logs = es_connector.execute_query(QUERY_LOG_CONTRIB, \"logs-new\")"
   ]
  },
  {
   "cell_type": "markdown",
   "metadata": {},
   "source": [
    "## 3. Vue d'ensemble"
   ]
  },
  {
   "cell_type": "markdown",
   "metadata": {},
   "source": [
    "### Analyse des contributions génériques et conventionnelles"
   ]
  },
  {
   "cell_type": "code",
   "execution_count": null,
   "metadata": {},
   "outputs": [],
   "source": [
    "# Récupération de l'ensemble des feedback\n",
    "logs_feedback = logs[logs[\"type\"] == \"feedback\"] "
   ]
  },
  {
   "cell_type": "code",
   "execution_count": null,
   "metadata": {},
   "outputs": [],
   "source": [
    "# Nombre total de feedback\n",
    "logs_feedback[\"feedbackType\"].count()"
   ]
  },
  {
   "cell_type": "code",
   "execution_count": null,
   "metadata": {},
   "outputs": [],
   "source": [
    "# Nombre total de feedback négatif\n",
    "logs_feedback[logs_feedback[\"feedbackType\"] == \"negative\"][\"feedbackType\"].count()"
   ]
  },
  {
   "cell_type": "code",
   "execution_count": null,
   "metadata": {},
   "outputs": [],
   "source": [
    "# Nombre total de feedback positif\n",
    "logs_feedback[logs_feedback[\"feedbackType\"] == \"positive\"][\"feedbackType\"].count()"
   ]
  },
  {
   "cell_type": "code",
   "execution_count": null,
   "metadata": {},
   "outputs": [],
   "source": [
    "# Pourcentage d'avis positive\n",
    "logs_feedback[logs_feedback[\"feedbackType\"] == \"positive\"][\"feedbackType\"].count() / logs_feedback[\"feedbackType\"].count() * 100"
   ]
  },
  {
   "cell_type": "code",
   "execution_count": null,
   "metadata": {},
   "outputs": [],
   "source": [
    "# Pourcentage d'avis négatif\n",
    "logs_feedback[logs_feedback[\"feedbackType\"] == \"negative\"][\"feedbackType\"].count() / logs_feedback[\"feedbackType\"].count() * 100"
   ]
  },
  {
   "cell_type": "markdown",
   "metadata": {},
   "source": [
    "### Pour les contenus génériques"
   ]
  },
  {
   "cell_type": "code",
   "execution_count": null,
   "metadata": {},
   "outputs": [],
   "source": [
    "# Récupération des logs des urls de contribution génériques\n",
    "logs_feedback_generic = logs_feedback[~logs_feedback[\"url\"].str.contains(\"contribution/[0-9]{1,4}-\")]"
   ]
  },
  {
   "cell_type": "code",
   "execution_count": null,
   "metadata": {},
   "outputs": [],
   "source": [
    "# Nombre total de feedback\n",
    "logs_feedback_generic[\"feedbackType\"].count()"
   ]
  },
  {
   "cell_type": "code",
   "execution_count": null,
   "metadata": {},
   "outputs": [],
   "source": [
    "# Nombre total de feedback négatif\n",
    "logs_feedback_generic[logs_feedback_generic[\"feedbackType\"] == \"negative\"][\"feedbackType\"].count()"
   ]
  },
  {
   "cell_type": "code",
   "execution_count": null,
   "metadata": {},
   "outputs": [],
   "source": [
    "# Nombre total de feedback positif\n",
    "logs_feedback_generic[logs_feedback_generic[\"feedbackType\"] == \"positive\"][\"feedbackType\"].count()"
   ]
  },
  {
   "cell_type": "code",
   "execution_count": null,
   "metadata": {},
   "outputs": [],
   "source": [
    "# Pourcentage d'avis positive\n",
    "logs_feedback_generic[logs_feedback_generic[\"feedbackType\"] == \"positive\"][\"feedbackType\"].count() / logs_feedback_generic[\"feedbackType\"].count() * 100"
   ]
  },
  {
   "cell_type": "code",
   "execution_count": null,
   "metadata": {},
   "outputs": [],
   "source": [
    "# Pourcentage d'avis négatif\n",
    "logs_feedback_generic[logs_feedback_generic[\"feedbackType\"] == \"negative\"][\"feedbackType\"].count() / logs_feedback_generic[\"feedbackType\"].count() * 100"
   ]
  },
  {
   "cell_type": "code",
   "execution_count": null,
   "metadata": {},
   "outputs": [],
   "source": [
    "# Nombre total de feedback\n",
    "logs_feedback_generic[\"feedbackType\"].count()"
   ]
  },
  {
   "cell_type": "code",
   "execution_count": null,
   "metadata": {},
   "outputs": [],
   "source": [
    "# Nombre total de feedback négatif\n",
    "logs_feedback_generic[logs_feedback_generic[\"feedbackType\"] == \"negative\"][\"feedbackType\"].count()"
   ]
  },
  {
   "cell_type": "code",
   "execution_count": null,
   "metadata": {},
   "outputs": [],
   "source": [
    "# Nombre total de feedback positif\n",
    "logs_feedback_generic[logs_feedback_generic[\"feedbackType\"] == \"positive\"][\"feedbackType\"].count()"
   ]
  },
  {
   "cell_type": "code",
   "execution_count": null,
   "metadata": {},
   "outputs": [],
   "source": [
    "# Pourcentage d'avis positive\n",
    "logs_feedback_generic[logs_feedback_generic[\"feedbackType\"] == \"positive\"][\"feedbackType\"].count() / logs_feedback_generic[\"feedbackType\"].count() * 100"
   ]
  },
  {
   "cell_type": "code",
   "execution_count": null,
   "metadata": {},
   "outputs": [],
   "source": [
    "# Pourcentage d'avis négatif\n",
    "logs_feedback_generic[logs_feedback_generic[\"feedbackType\"] == \"negative\"][\"feedbackType\"].count() / logs_feedback_generic[\"feedbackType\"].count() * 100"
   ]
  },
  {
   "cell_type": "markdown",
   "metadata": {},
   "source": [
    "### Pour les contenus liés aux conventions collectives"
   ]
  },
  {
   "cell_type": "code",
   "execution_count": null,
   "metadata": {},
   "outputs": [],
   "source": [
    "# Récupération des logs des urls de contribution liées à une convention collective\n",
    "logs_feedback_ccs = logs_feedback[logs_feedback[\"url\"].str.contains(\"contribution/[0-9]{1,4}-\")]"
   ]
  },
  {
   "cell_type": "code",
   "execution_count": null,
   "metadata": {},
   "outputs": [],
   "source": [
    "# Nombre total de feedback\n",
    "logs_feedback_ccs[\"feedbackType\"].count()"
   ]
  },
  {
   "cell_type": "code",
   "execution_count": null,
   "metadata": {},
   "outputs": [],
   "source": [
    "# Nombre total de feedback négatif\n",
    "logs_feedback_ccs[logs_feedback_ccs[\"feedbackType\"] == \"negative\"][\"feedbackType\"].count()"
   ]
  },
  {
   "cell_type": "code",
   "execution_count": null,
   "metadata": {},
   "outputs": [],
   "source": [
    "# Nombre total de feedback positif\n",
    "logs_feedback_ccs[logs_feedback_ccs[\"feedbackType\"] == \"positive\"][\"feedbackType\"].count()"
   ]
  },
  {
   "cell_type": "code",
   "execution_count": null,
   "metadata": {},
   "outputs": [],
   "source": [
    "# Pourcentage d'avis positive\n",
    "logs_feedback_ccs[logs_feedback_ccs[\"feedbackType\"] == \"positive\"][\"feedbackType\"].count() / logs_feedback_ccs[\"feedbackType\"].count() * 100"
   ]
  },
  {
   "cell_type": "code",
   "execution_count": null,
   "metadata": {},
   "outputs": [],
   "source": [
    "# Pourcentage d'avis négatif\n",
    "logs_feedback_ccs[logs_feedback_ccs[\"feedbackType\"] == \"negative\"][\"feedbackType\"].count() / logs_feedback_ccs[\"feedbackType\"].count() * 100"
   ]
  },
  {
   "cell_type": "markdown",
   "metadata": {},
   "source": [
    "## Vue pour chaque page"
   ]
  },
  {
   "cell_type": "markdown",
   "metadata": {},
   "source": [
    "### Contributions génériques"
   ]
  },
  {
   "cell_type": "code",
   "execution_count": null,
   "metadata": {},
   "outputs": [],
   "source": [
    "logs_feedback_generic_grouped = logs_feedback_generic.groupby([\"url\", \"feedbackType\"]).size().reset_index(name='counts').sort_values(by=['url'])\n",
    "\n",
    "logs_feedback_generic_grouped[\"ratio\"] = logs_feedback_generic_grouped[\"counts\"] / logs_feedback_generic_grouped.groupby(\"url\")[\"counts\"].transform('sum') * 100\n",
    "\n",
    "logs_feedback_generic_grouped"
   ]
  },
  {
   "cell_type": "markdown",
   "metadata": {},
   "source": [
    "### Pour les conventions collectives"
   ]
  },
  {
   "cell_type": "code",
   "execution_count": null,
   "metadata": {},
   "outputs": [],
   "source": [
    "logs_feedback_ccs_grouped = logs_feedback_ccs.groupby([\"url\", \"feedbackType\"]).size().reset_index(name='counts').sort_values(by=['url'])\n",
    "\n",
    "# get the ratio of each group per url\n",
    "logs_feedback_ccs_grouped[\"ratio\"] = logs_feedback_ccs_grouped[\"counts\"] / logs_feedback_ccs_grouped.groupby(\"url\")[\"counts\"].transform('sum') * 100\n",
    "\n",
    "logs_feedback_ccs_grouped"
   ]
  },
  {
   "cell_type": "markdown",
   "metadata": {},
   "source": [
    "## Vue groupée par convention collective et contenu générique"
   ]
  },
  {
   "cell_type": "markdown",
   "metadata": {},
   "source": [
    "### Génériques"
   ]
  },
  {
   "cell_type": "code",
   "execution_count": null,
   "metadata": {},
   "outputs": [],
   "source": [
    "logs_feedback_generic_grouped_summarized = logs_feedback_generic.groupby([\"feedbackType\"]).size().reset_index(name='counts')\n",
    "\n",
    "logs_feedback_generic_grouped_summarized[\"ratio\"] = logs_feedback_generic_grouped_summarized[\"counts\"] / logs_feedback_generic_grouped_summarized[\"counts\"].sum() * 100\n",
    "\n",
    "logs_feedback_generic_grouped_summarized"
   ]
  },
  {
   "cell_type": "markdown",
   "metadata": {},
   "source": [
    "### Conventions collectives"
   ]
  },
  {
   "cell_type": "code",
   "execution_count": null,
   "metadata": {},
   "outputs": [],
   "source": [
    "logs_feedback_ccs_grouped_summarized = logs_feedback_ccs.groupby([\"feedbackType\"]).size().reset_index(name='counts')\n",
    "\n",
    "logs_feedback_ccs_grouped_summarized[\"ratio\"] = logs_feedback_ccs_grouped_summarized[\"counts\"] / logs_feedback_ccs_grouped_summarized[\"counts\"].sum() * 100\n",
    "\n",
    "logs_feedback_ccs_grouped_summarized"
   ]
  }
 ],
 "metadata": {
  "kernelspec": {
   "display_name": "Python 3 (ipykernel)",
   "language": "python",
   "name": "python3"
  },
  "language_info": {
   "codemirror_mode": {
    "name": "ipython",
    "version": 3
   },
   "file_extension": ".py",
   "mimetype": "text/x-python",
   "name": "python",
   "nbconvert_exporter": "python",
   "pygments_lexer": "ipython3",
   "version": "3.9.6"
  }
 },
 "nbformat": 4,
 "nbformat_minor": 2
}
