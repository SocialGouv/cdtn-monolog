{
 "cells": [
  {
   "cell_type": "markdown",
   "id": "3506335e",
   "metadata": {},
   "source": [
    "# Recherche des parcours types des utilisateurs sur le cdtn\n",
    "\n",
    "**Définition** : On souhaite définir quels sont les parcours les plus populaires sur le site en utilisant les données de matomo. On peut découper le parcours en plusieurs étapes : Un point d'entrée puis une sucession de navigation / recherches dans les pages du cdtn et visites sur les pages correspondantes.\n",
    "\n",
    "Les utilisateurs peuvent entrer sur le CDTN par :\n",
    "- Moteurs de recherche\n",
    "- Une entrée directe\n",
    "- un site web\n",
    "- les réseaux sociaux\n",
    "- une campagne\n",
    "- je ne sais pas si on a un moyen de voir ceux qui arriveraient via le widget CDTN intégré sur un site tier\n",
    "\n",
    "Une fois dans le cdtn, les utilisateurs peuvent naviguer en interne par :\n",
    "- une recherche sur le cdtn\n",
    "- navigation via les thèmes\n",
    "\n",
    "Les types de pages que peuvent consulter les utilisateurs au cours du parcours :\n",
    "- la home\n",
    "- les outils\n",
    "- les contributions\n",
    "- les modèles de courriers\n",
    "- les convention collective\n",
    "- les fiches service-public\n",
    "- les fiches ministère travail\n",
    "- les pages information\n",
    "- les dossiers\n",
    "- le glossaire\n",
    "- les articles \"code-du-travail\"\n",
    "\n",
    "\n",
    "## On commence par le chargement des données\n",
    "on décommente ce dont on a besoin"
   ]
  },
  {
   "cell_type": "code",
   "execution_count": null,
   "id": "5c35ae28",
   "metadata": {},
   "outputs": [],
   "source": [
    "import pandas as pd\n",
    "import numpy as np\n",
    "import time\n",
    "import json\n",
    "import math\n",
    "from tqdm.notebook import tqdm\n",
    "import plotly.express as px\n",
    "import plotly.graph_objects as go\n",
    "from datetime import datetime\n",
    "import itertools\n",
    "import time\n",
    "tqdm.pandas()\n",
    "\n",
    "#from typing import List, Dict\n",
    "\n",
    "\n",
    "pd.set_option('display.max_columns', 100)\n",
    "pd.set_option('display.max_rows', 200)\n",
    "pd.set_option('display.max_colwidth', 300)"
   ]
  },
  {
   "cell_type": "markdown",
   "id": "17642d56",
   "metadata": {},
   "source": [
    "## On récupère les données via celle déjà télécharger"
   ]
  },
  {
   "cell_type": "code",
   "execution_count": null,
   "id": "464db23e",
   "metadata": {},
   "outputs": [],
   "source": [
    "from join_multiple_file import pd_read_pattern, PATH_CDTN_MONOLOG\n",
    "\n",
    "logs_january = pd_read_pattern(PATH_CDTN_MONOLOG + \"/data-all-logs-january/*\")\n",
    "logs_february = pd_read_pattern(PATH_CDTN_MONOLOG + \"/data-all-logs-february/*\")\n",
    "logs_march = pd_read_pattern(PATH_CDTN_MONOLOG + \"/data-all-logs-march/*\")\n",
    "logs_april = pd_read_pattern(PATH_CDTN_MONOLOG + \"/data-all-logs-april/*\")\n",
    "logs_may = pd_read_pattern(PATH_CDTN_MONOLOG + \"/data-all-logs-may/*\")\n",
    "logs_june = pd_read_pattern(PATH_CDTN_MONOLOG + \"/data-all-logs-june/*\")\n",
    "logs_july = pd_read_pattern(PATH_CDTN_MONOLOG + \"/data-all-logs-july/*\")"
   ]
  },
  {
   "cell_type": "code",
   "execution_count": null,
   "id": "ce9ae447",
   "metadata": {},
   "outputs": [],
   "source": [
    "def format_url_and_get_month_and_datetime_columns(df: pd.DataFrame):\n",
    "    df['url'] = df['url'].str.split('#').str[0].str.split('?').str[0]\n",
    "    df['month'] = pd.DatetimeIndex(df['logfile']).month\n",
    "    df['datetime'] = df['timestamp'].apply(datetime.fromtimestamp)\n",
    "    return df"
   ]
  },
  {
   "cell_type": "code",
   "execution_count": null,
   "id": "bc87125b",
   "metadata": {},
   "outputs": [],
   "source": [
    "def clean_dataset_from_useless_rows(df):\n",
    "    df_shortened = df[df['type'].isin(['visit_content', 'outil', 'themes', 'select_result', 'search', 'home',\n",
    "                                    'pagecc_clickcontrib', 'modeles_courriers'])]\n",
    "    return df_shortened.loc[\n",
    "        (df_shortened['idVisit'].shift() != df_shortened['idVisit']) |\n",
    "        (df_shortened['url'].shift() != df_shortened['url']) |\n",
    "        (df_shortened['type'].shift() != df_shortened['type']) |\n",
    "        (df_shortened['referrerTypeName'].shift() != df_shortened['referrerTypeName'])\n",
    "    ]"
   ]
  },
  {
   "cell_type": "code",
   "execution_count": null,
   "id": "a3f953a9",
   "metadata": {},
   "outputs": [],
   "source": [
    "logs = pd.concat([logs_january, logs_february, logs_march, logs_april, logs_may, logs_june, logs_july]).copy()"
   ]
  },
  {
   "cell_type": "code",
   "execution_count": null,
   "id": "c0c8e131",
   "metadata": {},
   "outputs": [],
   "source": [
    "logs = format_url_and_get_month_and_datetime_columns(logs)"
   ]
  },
  {
   "cell_type": "code",
   "execution_count": null,
   "id": "ab7c9cab",
   "metadata": {},
   "outputs": [],
   "source": [
    "cleaned_logs = clean_dataset_from_useless_rows(logs.copy())"
   ]
  },
  {
   "cell_type": "code",
   "execution_count": null,
   "id": "f402d335",
   "metadata": {},
   "outputs": [],
   "source": [
    "#logs_without_duplicates = logs.drop_duplicates(subset=['idVisit', 'url', 'type']).copy()\n",
    "#logs_without_duplicates.shape[0]"
   ]
  },
  {
   "cell_type": "markdown",
   "id": "1f4f8488",
   "metadata": {},
   "source": [
    "# Exploration des données "
   ]
  },
  {
   "cell_type": "code",
   "execution_count": null,
   "id": "57bb8209",
   "metadata": {},
   "outputs": [],
   "source": [
    "logs.shape"
   ]
  },
  {
   "cell_type": "code",
   "execution_count": null,
   "id": "1618a5cc",
   "metadata": {},
   "outputs": [],
   "source": [
    "logs.head()"
   ]
  },
  {
   "cell_type": "code",
   "execution_count": null,
   "id": "22e92c54",
   "metadata": {},
   "outputs": [],
   "source": [
    "cleaned_logs.shape"
   ]
  },
  {
   "cell_type": "code",
   "execution_count": null,
   "id": "37f1af0a",
   "metadata": {
    "scrolled": true
   },
   "outputs": [],
   "source": [
    "cleaned_logs.head()"
   ]
  },
  {
   "cell_type": "markdown",
   "id": "91fa1ccd",
   "metadata": {},
   "source": [
    "Afin de restreindre le champs des possibles et commencer par petits incréments, on se propose d'analyser la première quinzaine de juillet"
   ]
  },
  {
   "cell_type": "code",
   "execution_count": null,
   "id": "50fd12e3",
   "metadata": {},
   "outputs": [],
   "source": [
    "cleaned_logs_july = cleaned_logs[\n",
    "    (cleaned_logs['logfile']>'2022-06-30') &\n",
    "    (cleaned_logs['logfile']<'2022-08-01')\n",
    "].copy()"
   ]
  },
  {
   "cell_type": "code",
   "execution_count": null,
   "id": "509947e3",
   "metadata": {},
   "outputs": [],
   "source": [
    "logs_first_fortnight_july = cleaned_logs[\n",
    "    (cleaned_logs['logfile']>'2022-06-30') &\n",
    "    (cleaned_logs['logfile']<'2022-07-16')\n",
    "].copy()"
   ]
  },
  {
   "cell_type": "markdown",
   "id": "60201413",
   "metadata": {},
   "source": [
    "## Commencons par travailler sur le point d'entrée\n",
    "\n",
    "On souhaite obtenir un point d'entrée sous la forme d'un élément de la liste suivante : \n",
    "- Moteurs de recherche\n",
    "- Une entrée directe\n",
    "- un site web\n",
    "- les réseaux sociaux\n",
    "- une campagne"
   ]
  },
  {
   "cell_type": "code",
   "execution_count": null,
   "id": "138a876b",
   "metadata": {},
   "outputs": [],
   "source": [
    "def get_entry_point(df: pd.DataFrame):\n",
    "    return df.referrerTypeName.iloc[0]"
   ]
  },
  {
   "cell_type": "code",
   "execution_count": null,
   "id": "dd112e1c",
   "metadata": {},
   "outputs": [],
   "source": [
    "logs_first_fortnight_july[:60].groupby('idVisit').apply(get_entry_point)"
   ]
  },
  {
   "cell_type": "markdown",
   "id": "94453c6b",
   "metadata": {},
   "source": [
    "## Continuons sur la suite du parcours utilisateur (actions qu'il peut faire ou type de pages qu'il peut voir)\n",
    "\n",
    "On souhaite récupérer une liste d'éléments représentant les étapes sur lesquels passent l'utilisateur :\n",
    "\n",
    "Les étapes peuvent être le fait de vouloir de naviguer entre les pages en utilisant la recherche ou les thèmes :\n",
    "- [ ] une recherche sur le cdtn\n",
    "- [ ] navigation via les thèmes\n",
    "\n",
    "Ou bien le contenu que l'utilisateur visite :\n",
    "- [X] la home\n",
    "- [X] les outils\n",
    "- [X] les contributions\n",
    "- [X] les modèles de courriers\n",
    "- [X] les convention collective\n",
    "- [X] les fiches service-public\n",
    "- [X] les fiches ministère travail\n",
    "- [X] les pages information\n",
    "- [X] les dossiers\n",
    "- [X] le glossaire\n",
    "- [X] les articles \"code-du-travail\"\n",
    "- [X] les articles \"droits-du-travail\""
   ]
  },
  {
   "cell_type": "code",
   "execution_count": null,
   "id": "3d194602",
   "metadata": {},
   "outputs": [],
   "source": [
    "sep_char = '_'\n",
    "urls = {\n",
    "    'outils': 'https://code.travail.gouv.fr/outils',\n",
    "    'contribution_with_/': 'https://code.travail.gouv.fr/contribution/',\n",
    "    'modeles_de_courriers': 'https://code.travail.gouv.fr/modeles-de-courriers',\n",
    "    'convention_collective_with_/': 'https://code.travail.gouv.fr/convention-collective/',\n",
    "    'fiche_service_public_with_/': 'https://code.travail.gouv.fr/fiche-service-public/',\n",
    "    'fiche_ministere_travail_with_/': 'https://code.travail.gouv.fr/fiche-ministere-travail/',\n",
    "    'home': 'https://code.travail.gouv.fr/',\n",
    "    'code_du_travail_with_/': 'https://code.travail.gouv.fr/code-du-travail/',\n",
    "    'information_with_/': 'https://code.travail.gouv.fr/information/',\n",
    "    'glossaire': 'https://code.travail.gouv.fr/glossaire',\n",
    "    'dossiers_with_/': 'https://code.travail.gouv.fr/dossiers/',\n",
    "    'droit_du_travail': 'https://code.travail.gouv.fr/droit-du-travail',\n",
    "    'themes': 'https://code.travail.gouv.fr/themes'\n",
    "}\n",
    "\n",
    "urls_len = {\n",
    "    'outils': len(urls['outils']),\n",
    "    'contribution_with_/': len(urls['contribution_with_/']),\n",
    "    'modeles_de_courriers': len(urls['modeles_de_courriers']),\n",
    "    'convention_collective_with_/': len(urls['convention_collective_with_/']),\n",
    "    'fiche_service_public_with_/': len(urls['fiche_service_public_with_/']),\n",
    "    'fiche_ministere_travail_with_/': len(urls['fiche_ministere_travail_with_/']),\n",
    "    'home': len(urls['home']),\n",
    "    'code_du_travail_with_/': len(urls['code_du_travail_with_/']),\n",
    "    'information_with_/': len(urls['information_with_/']),\n",
    "    'glossaire': len(urls['glossaire']),\n",
    "    'dossiers_with_/': len(urls['dossiers_with_/']),\n",
    "    'droit_du_travail': len(urls['droit_du_travail']),\n",
    "    'themes': len(urls['themes']),\n",
    "}\n",
    "\n",
    "def get_page_from_url(url, pattern_to_remove):\n",
    "    return url.split(pattern_to_remove)[1].split('/')[0]\n",
    "\n",
    "def is_my_url_domain_and_subdirectory_finishing_by_a_slash(url, url_key_domain):\n",
    "    return urls_len[url_key_domain] < len(url) and url[urls_len[url_key_domain]] == '/'\n",
    "    \n",
    "\n",
    "def get_action_from_series(log: pd.Series): \n",
    "    url = log.url\n",
    "    if(log.type == 'visit_content'):\n",
    "        if url.startswith(urls['outils']):\n",
    "            if url == urls['outils']:\n",
    "                return 'Boite à outils'\n",
    "            elif is_my_url_domain_and_subdirectory_finishing_by_a_slash(url, 'outils'):\n",
    "                return \"Visite d'un outil\" + sep_char + get_page_from_url(url, urls['outils'] + '/')\n",
    "        \n",
    "        elif url.startswith(urls['contribution_with_/']):\n",
    "            return \"Visite d'une contribution\" + sep_char + get_page_from_url(url, urls['contribution_with_/'])\n",
    "        \n",
    "        elif url.startswith(urls['modeles_de_courriers']):\n",
    "            if url == urls['modeles_de_courriers']:\n",
    "                return 'Boite de modèles de courriers'\n",
    "            elif is_my_url_domain_and_subdirectory_finishing_by_a_slash(url, 'modeles_de_courriers'):\n",
    "                return 'Visite de modèle de courrier' + sep_char + get_page_from_url(url, urls['modeles_de_courriers'] + '/')\n",
    "        \n",
    "        elif url.startswith(urls['convention_collective_with_/']):\n",
    "            return 'Visite de convention collective' + sep_char + get_page_from_url(url, urls['convention_collective_with_/'])\n",
    "        \n",
    "        elif url.startswith(urls['fiche_service_public_with_/']):\n",
    "            return 'Visite de fiche service public' + sep_char + get_page_from_url(url, urls['fiche_service_public_with_/'])\n",
    "        \n",
    "        elif url.startswith(urls['fiche_ministere_travail_with_/']):\n",
    "            return 'Visite de fiche ministère travail' + sep_char + get_page_from_url(url, urls['fiche_ministere_travail_with_/'])\n",
    "        \n",
    "        elif url == urls['home']:\n",
    "            return 'Visite de la home'\n",
    "        \n",
    "        elif url.startswith(urls['code_du_travail_with_/']):\n",
    "            return \"Visite d'un article code-du-travail\" + sep_char + get_page_from_url(url, urls['code_du_travail_with_/'])\n",
    "        \n",
    "        elif url.startswith(urls['information_with_/']):\n",
    "            return 'Visite de page information' + sep_char + get_page_from_url(url, urls['information_with_/'])\n",
    "        \n",
    "        elif url.startswith(urls['glossaire']):\n",
    "            return 'Visite du glossaire' \n",
    "        \n",
    "        elif url.startswith(urls['dossiers_with_/']):\n",
    "            return \"Visite d'un dossier\" + sep_char + get_page_from_url(url, urls['dossiers_with_/'])\n",
    "        \n",
    "        elif url.startswith(urls['droit_du_travail']):\n",
    "            return 'Visite de la page droit du travail'\n",
    "        \n",
    "    elif(log.type == 'outil'):  \n",
    "        if url.startswith(urls['outils']):\n",
    "            if url == urls['outils']:\n",
    "                return 'Boite à outils'\n",
    "            elif is_my_url_domain_and_subdirectory_finishing_by_a_slash(url, 'outils'):\n",
    "                return \"Visite d'un outil\" + sep_char + get_page_from_url(url, urls['outils'] + '/')\n",
    "    \n",
    "    elif(log.type == 'themes'): \n",
    "        if url.startswith(urls['themes']):\n",
    "            if url == urls['themes']:\n",
    "                return 'Boite à themes'\n",
    "            elif is_my_url_domain_and_subdirectory_finishing_by_a_slash(url, 'themes'):\n",
    "                return \"Visite d'un thème\" + sep_char + get_page_from_url(url, urls['themes'] + '/')\n",
    "        \n",
    "    elif log.type == 'select_result' or log.type == 'search': \n",
    "        return 'Usage du moteur de recherche'\n",
    "    \n",
    "    elif log.type == 'home':  \n",
    "        return 'Visite de la home'\n",
    "    \n",
    "    elif log.type == 'pagecc_clickcontrib': \n",
    "        if url.startswith(urls['convention_collective_with_/']):\n",
    "            return 'Visite de convention collective' + sep_char + get_page_from_url(url, urls['convention_collective_with_/'])\n",
    "            \n",
    "    elif log.type == 'modeles_courriers':  \n",
    "        if url == urls['modeles_de_courriers']:\n",
    "            return 'Boite de modèles de courriers'\n",
    "        elif is_my_url_domain_and_subdirectory_finishing_by_a_slash(url, 'modeles_de_courriers'):\n",
    "            return 'Visite de modèle de courrier' + sep_char + get_page_from_url(url, urls['modeles_de_courriers'] + '/')\n",
    "    \n",
    "    return np.NaN\n",
    "    \n",
    "def get_list_of_actions(df: pd.DataFrame):\n",
    "    actions_list = df.apply(get_action_from_series, axis=1).dropna().tolist()\n",
    "    return [key.split(sep_char)[0] for key,_value in itertools.groupby(actions_list)]\n"
   ]
  },
  {
   "cell_type": "code",
   "execution_count": null,
   "id": "0420e8a2",
   "metadata": {
    "scrolled": true
   },
   "outputs": [],
   "source": [
    "logs_first_fortnight_july[:100].groupby('idVisit').apply(get_list_of_actions)"
   ]
  },
  {
   "cell_type": "markdown",
   "id": "e7686ce5",
   "metadata": {},
   "source": [
    "## Synthèse du parcours utilisateur"
   ]
  },
  {
   "cell_type": "code",
   "execution_count": null,
   "id": "eddb20c4",
   "metadata": {},
   "outputs": [],
   "source": [
    "def get_user_journey(df: pd.DataFrame):\n",
    "    s = pd.DataFrame()\n",
    "    s['entry_point'] = [get_entry_point(df)]\n",
    "    s['actions'] = [get_list_of_actions(df)]\n",
    "    return s"
   ]
  },
  {
   "cell_type": "code",
   "execution_count": null,
   "id": "68ccba60",
   "metadata": {},
   "outputs": [],
   "source": [
    "start_time = time.time()\n",
    "\n",
    "users_journey = logs_first_fortnight_july[:100000].groupby('idVisit').progress_apply(get_user_journey).droplevel(1)\n",
    "\n",
    "print(\"--- %s seconds ---\" % (time.time() - start_time))"
   ]
  },
  {
   "cell_type": "code",
   "execution_count": null,
   "id": "349b4794",
   "metadata": {},
   "outputs": [],
   "source": [
    "# Get list of user without actions and print there logs\n",
    "users_journey['user_journey_length'] = users_journey['actions'].apply(lambda x: len(x))\n",
    "\n",
    "users_with_none_actions = users_journey[users_journey['user_journey_length']==0].index.tolist()\n",
    "print(users_with_none_actions)\n",
    "\n",
    "for visit in users_with_none_actions[:50]:\n",
    "    display(logs_first_fortnight_july[logs_first_fortnight_july['idVisit']==visit][[\n",
    "        'idVisit', 'url', 'type', 'outil', \n",
    "    ]])"
   ]
  },
  {
   "cell_type": "markdown",
   "id": "1506bf5c",
   "metadata": {},
   "source": [
    "# Classement des parcours utilisateurs les plus faits"
   ]
  },
  {
   "cell_type": "code",
   "execution_count": null,
   "id": "a09ca35e",
   "metadata": {},
   "outputs": [],
   "source": [
    "def get_ranking_users_journey(users_journey):\n",
    "    users_journey['actions_chained'] = users_journey['actions'].apply(lambda x: ' => '.join(x))\n",
    "    return users_journey.groupby(by=['entry_point', 'actions_chained']).count().sort_values(['actions'], ascending=False)\n"
   ]
  },
  {
   "cell_type": "code",
   "execution_count": null,
   "id": "331bb543",
   "metadata": {},
   "outputs": [],
   "source": [
    "ranking_users_journey = get_ranking_users_journey(users_journey)\n",
    "ranking_users_journey"
   ]
  },
  {
   "cell_type": "markdown",
   "id": "973867c0",
   "metadata": {},
   "source": [
    "# Déterminer puis classer les parcours utilisateurs les plus faits (de bout en bout)"
   ]
  },
  {
   "cell_type": "code",
   "execution_count": null,
   "id": "1810ba7f",
   "metadata": {},
   "outputs": [],
   "source": [
    "def get_ranking_users_journey_from_df(df):\n",
    "    start_time = time.time()\n",
    "\n",
    "    users_journey = df.groupby('idVisit').progress_apply(get_user_journey).droplevel(1)\n",
    "    ranking_users_journey = get_ranking_users_journey(users_journey)\n",
    "\n",
    "    print(\"--- %s seconds ---\" % (time.time() - start_time))\n",
    "    return ranking_users_journey"
   ]
  },
  {
   "cell_type": "code",
   "execution_count": null,
   "id": "91a375da",
   "metadata": {
    "scrolled": true
   },
   "outputs": [],
   "source": [
    "ranking_users_journey = get_ranking_users_journey_from_df(cleaned_logs_july[:500000])\n",
    "ranking_users_journey[:30]"
   ]
  },
  {
   "cell_type": "code",
   "execution_count": null,
   "id": "fa048789",
   "metadata": {},
   "outputs": [],
   "source": [
    "ranking_users_journey = get_ranking_users_journey_from_df(cleaned_logs_july)"
   ]
  },
  {
   "cell_type": "code",
   "execution_count": null,
   "id": "1eb30bff",
   "metadata": {
    "scrolled": true
   },
   "outputs": [],
   "source": [
    "ranking_users_journey[:100]"
   ]
  },
  {
   "cell_type": "markdown",
   "id": "4341b538",
   "metadata": {},
   "source": [
    "Le faire pour toute l'année semble complexe, on va séparer en trimestes en espérant que ca se passe mieux \n",
    "\n",
    "### Premier trimestre : "
   ]
  },
  {
   "cell_type": "code",
   "execution_count": null,
   "id": "1e07c931",
   "metadata": {},
   "outputs": [],
   "source": [
    "ranking_users_journey_first_quarter = get_ranking_users_journey_from_df(logs_first_quarter)"
   ]
  },
  {
   "cell_type": "code",
   "execution_count": null,
   "id": "fb851099",
   "metadata": {},
   "outputs": [],
   "source": [
    "ranking_users_journey_first_quarter[:20]"
   ]
  },
  {
   "cell_type": "markdown",
   "id": "596b97a4",
   "metadata": {},
   "source": [
    "### Second trimestre"
   ]
  },
  {
   "cell_type": "code",
   "execution_count": null,
   "id": "5e98cae4",
   "metadata": {},
   "outputs": [],
   "source": [
    "ranking_users_journey_second_quarter = get_ranking_users_journey_from_df(logs_second_quarter)"
   ]
  },
  {
   "cell_type": "code",
   "execution_count": null,
   "id": "6034d3c5",
   "metadata": {},
   "outputs": [],
   "source": [
    "ranking_users_journey_second_quarter[:20]"
   ]
  },
  {
   "cell_type": "markdown",
   "id": "cc73a73d",
   "metadata": {},
   "source": [
    "### Troisième trimestre"
   ]
  },
  {
   "cell_type": "code",
   "execution_count": null,
   "id": "8f91c54b",
   "metadata": {},
   "outputs": [],
   "source": [
    "ranking_users_journey_third_quarter = get_ranking_users_journey_from_df(logs_third_quarter)"
   ]
  },
  {
   "cell_type": "code",
   "execution_count": null,
   "id": "c7e58859",
   "metadata": {},
   "outputs": [],
   "source": [
    "ranking_users_journey_third_quarter[:20]"
   ]
  },
  {
   "cell_type": "markdown",
   "id": "b6509896",
   "metadata": {},
   "source": [
    "### Ensemble de l'année 2022"
   ]
  },
  {
   "cell_type": "code",
   "execution_count": null,
   "id": "f2167a8a",
   "metadata": {},
   "outputs": [],
   "source": [
    "ranking_users_journey_2022 = get_ranking_users_journey_from_df(cleaned_logs)"
   ]
  },
  {
   "cell_type": "code",
   "execution_count": null,
   "id": "70e92e38",
   "metadata": {},
   "outputs": [],
   "source": [
    "ranking_users_journey_2022[:30]"
   ]
  },
  {
   "cell_type": "code",
   "execution_count": null,
   "id": "2ed6120f",
   "metadata": {},
   "outputs": [],
   "source": [
    "ranking_users_journey_2022.to_excel('test.xlsx', sheet_name='Sheet_name_1')"
   ]
  },
  {
   "cell_type": "code",
   "execution_count": null,
   "id": "d3564426",
   "metadata": {},
   "outputs": [],
   "source": [
    "# Nombre d'étapes associé au nombre de visiteurs ayant fait autant d'étapes\n",
    "cleaned_logs.loc[\n",
    "        (cleaned_logs['idVisit'].shift() != cleaned_logs['idVisit']) |\n",
    "        (cleaned_logs['url'].shift() != cleaned_logs['url'])\n",
    "    ].groupby(['idVisit']).agg(\n",
    "    {'logfile': 'count'}).reset_index().groupby('logfile').count()"
   ]
  },
  {
   "cell_type": "markdown",
   "id": "818b4e81",
   "metadata": {},
   "source": [
    "# Conclusions\n",
    "\n",
    "Les résultats semblent etre faux, mais après analyse des parcours utilisateurs les résultats semblent cohérents"
   ]
  },
  {
   "cell_type": "code",
   "execution_count": null,
   "id": "ebf27274",
   "metadata": {},
   "outputs": [],
   "source": []
  }
 ],
 "metadata": {
  "kernelspec": {
   "display_name": "explorations-cdtn",
   "language": "python",
   "name": "explorations-cdtn"
  },
  "language_info": {
   "codemirror_mode": {
    "name": "ipython",
    "version": 3
   },
   "file_extension": ".py",
   "mimetype": "text/x-python",
   "name": "python",
   "nbconvert_exporter": "python",
   "pygments_lexer": "ipython3",
   "version": "3.9.13"
  }
 },
 "nbformat": 4,
 "nbformat_minor": 5
}
