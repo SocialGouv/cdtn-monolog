{
 "cells": [
  {
   "cell_type": "markdown",
   "id": "4924644e",
   "metadata": {},
   "source": [
    "# Nom du notebook\n",
    "\n",
    "**Définition** : Ce que je veux faire\n",
    "\n",
    "**Formule** : \n",
    "\n",
    "## Récupération des données\n"
   ]
  },
  {
   "cell_type": "code",
   "execution_count": null,
   "id": "c9973239",
   "metadata": {},
   "outputs": [],
   "source": [
    "import pandas as pd\n",
    "import time\n",
    "import json\n",
    "import math\n",
    "from tqdm.notebook import tqdm\n",
    "import plotly.express as px\n",
    "import plotly.graph_objects as go\n",
    "from datetime import datetime\n",
    "from src.elasticsearch_connector import ElasticsearchConnector\n",
    "#from typing import List, Dict\n",
    "\n",
    "\n",
    "pd.set_option('display.max_columns', 100)\n",
    "pd.set_option('display.max_rows', 100)"
   ]
  },
  {
   "cell_type": "markdown",
   "id": "fba16f3e",
   "metadata": {},
   "source": [
    "#### Requête ES"
   ]
  },
  {
   "cell_type": "code",
   "execution_count": null,
   "id": "bc71c713",
   "metadata": {},
   "outputs": [],
   "source": [
    "es_connector = ElasticsearchConnector(env='monolog')\n",
    "\n",
    "QUERY = {\n",
    "  \"query\": {\n",
    "    \"bool\": { \n",
    "      \"must\": [\n",
    "        {\n",
    "          \"prefix\": {\n",
    "            \"url\": \"https://code.travail.gouv.fr/contribution/\" \n",
    "          }\n",
    "        },\n",
    "        {\n",
    "          \"range\": {\n",
    "           \"logfile\": {\n",
    "              \"gte\": \"2022-04-01\",\n",
    "              \"lt\": \"2022-05-01\"\n",
    "           }\n",
    "          }\n",
    "        }\n",
    "      #  {\n",
    "      #    \"range\": {\n",
    "      #     \"lastActionDateTime\": {\n",
    "      #        \"gte\": \"2022-04-01 00:00:00\",\n",
    "      #        \"lt\": \"2022-05-01 00:00:00\"\n",
    "      #     }\n",
    "      #    }\n",
    "      #  },\n",
    "      ]\n",
    "    }\n",
    "  }\n",
    "}"
   ]
  },
  {
   "cell_type": "code",
   "execution_count": null,
   "id": "21520968",
   "metadata": {},
   "outputs": [],
   "source": [
    "logs_april_contrib = es_connector.execute_query(QUERY, \"logs-new\")"
   ]
  },
  {
   "cell_type": "markdown",
   "id": "1717c838",
   "metadata": {},
   "source": [
    "## Ou bien, si on veut lire directement un dossier contenant les fichiers déjà DL"
   ]
  },
  {
   "cell_type": "code",
   "execution_count": null,
   "id": "88a7f1d2",
   "metadata": {},
   "outputs": [],
   "source": [
    "from join_multiple_file import pd_read_pattern, PATH_CDTN_MONOLOG\n",
    "\n",
    "logs_april = pd_read_pattern(PATH_CDTN_MONOLOG + \"/data-all-logs-november/*\")"
   ]
  },
  {
   "cell_type": "code",
   "execution_count": null,
   "id": "0146977f",
   "metadata": {},
   "outputs": [],
   "source": [
    "logs_april.shape"
   ]
  },
  {
   "cell_type": "code",
   "execution_count": null,
   "id": "08f34742",
   "metadata": {},
   "outputs": [],
   "source": [
    "logs_april.head()"
   ]
  },
  {
   "cell_type": "code",
   "execution_count": null,
   "id": "30b6a834",
   "metadata": {},
   "outputs": [],
   "source": [
    "def filter_df_startwith_url(df: pd.DataFrame, url):\n",
    "    return df[df['url'].str.match(f'^{url}', na=False)].copy()"
   ]
  },
  {
   "cell_type": "code",
   "execution_count": null,
   "id": "79eb2645",
   "metadata": {},
   "outputs": [],
   "source": [
    "def format_url_and_get_month_and_datetime_columns(df: pd.DataFrame):\n",
    "    df['url'] = df['url'].str.split('#').str[0].str.split('?').str[0]\n",
    "    df['month'] = pd.DatetimeIndex(df['logfile']).month\n",
    "    df['datetime'] = df['timestamp'].apply(datetime.fromtimestamp)\n",
    "    return df"
   ]
  },
  {
   "cell_type": "code",
   "execution_count": null,
   "id": "045cb294",
   "metadata": {},
   "outputs": [],
   "source": [
    "def clean_dataset_from_useless_rows(df: pd.DataFrame):\n",
    "    #df = df.drop_duplicates(subset=['idVisit', 'url', 'type']).copy()\n",
    "    return df[df['type'].isin(['visit_content', 'outil', 'themes', 'select_result', 'search', 'home',\n",
    "                                    'pagecc_clickcontrib', 'modeles_courriers'])]"
   ]
  },
  {
   "cell_type": "code",
   "execution_count": null,
   "id": "f179ee04",
   "metadata": {},
   "outputs": [],
   "source": [
    "logs_april = format_url_and_get_month_and_datetime_columns(logs_april)"
   ]
  },
  {
   "cell_type": "code",
   "execution_count": null,
   "id": "f09c042d",
   "metadata": {},
   "outputs": [],
   "source": [
    "logs_april_contrib = filter_df_startwith_url(logs_april, 'https://code.travail.gouv.fr/contribution/')"
   ]
  },
  {
   "cell_type": "code",
   "execution_count": null,
   "id": "68c38cc7",
   "metadata": {},
   "outputs": [],
   "source": [
    "logs_april_contrib_without_duplicates = logs_april_contrib.drop_duplicates(subset=['idVisit', 'url', 'type']).copy()"
   ]
  },
  {
   "cell_type": "code",
   "execution_count": null,
   "id": "875b282c",
   "metadata": {},
   "outputs": [],
   "source": [
    "logs_april_contrib_without_duplicates.shape[0]"
   ]
  },
  {
   "cell_type": "markdown",
   "id": "057860c4",
   "metadata": {},
   "source": [
    "# Début de l'explo\n",
    "\n",
    "Commentaire"
   ]
  },
  {
   "cell_type": "markdown",
   "id": "46e2a129",
   "metadata": {},
   "source": [
    "### Préparation des données"
   ]
  },
  {
   "cell_type": "code",
   "execution_count": null,
   "id": "fa0fe4f3",
   "metadata": {},
   "outputs": [],
   "source": []
  },
  {
   "cell_type": "markdown",
   "id": "cae1d441",
   "metadata": {},
   "source": [
    "### Première étape"
   ]
  },
  {
   "cell_type": "code",
   "execution_count": null,
   "id": "43d9e0fc",
   "metadata": {},
   "outputs": [],
   "source": [
    "visits_on_contrib_without_idcc = logs_april_contrib_without_duplicates[\n",
    "    logs_april_contrib_without_duplicates['url'].str.match('^https://code.travail.gouv.fr/contribution/[a-zA-Z]+', \n",
    "                                                     na=False)\n",
    "]"
   ]
  },
  {
   "cell_type": "code",
   "execution_count": null,
   "id": "27aef310",
   "metadata": {},
   "outputs": [],
   "source": [
    "nb_total_visits_on_contrib_without_idcc = visits_on_contrib_without_idcc.type.value_counts()['visit_content']\n",
    "nb_total_visits_on_contrib_without_idcc"
   ]
  },
  {
   "cell_type": "markdown",
   "id": "c018ad51",
   "metadata": {},
   "source": [
    "### Deuxième étape"
   ]
  },
  {
   "cell_type": "code",
   "execution_count": null,
   "id": "1eff83de",
   "metadata": {},
   "outputs": [],
   "source": [
    "cc_select_on_contrib_without_idcc = visits_on_contrib_without_idcc.type.value_counts()['cc_select']\n",
    "cc_select_on_contrib_without_idcc"
   ]
  },
  {
   "cell_type": "markdown",
   "id": "edd51f48",
   "metadata": {},
   "source": [
    "### Présentation des résultats"
   ]
  },
  {
   "cell_type": "code",
   "execution_count": null,
   "id": "6d12cb20",
   "metadata": {
    "scrolled": true
   },
   "outputs": [],
   "source": [
    "print(f\"{round(( cc_select_on_contrib_without_idcc) / nb_total_visits_on_contrib_without_idcc * 100 , 2)} %\")"
   ]
  },
  {
   "cell_type": "markdown",
   "id": "95acee61",
   "metadata": {},
   "source": [
    "### Présentation Graphique du résultat"
   ]
  },
  {
   "cell_type": "code",
   "execution_count": null,
   "id": "2d275510",
   "metadata": {},
   "outputs": [],
   "source": []
  }
 ],
 "metadata": {
  "kernelspec": {
   "display_name": "Python 3 (ipykernel)",
   "language": "python",
   "name": "python3"
  },
  "language_info": {
   "codemirror_mode": {
    "name": "ipython",
    "version": 3
   },
   "file_extension": ".py",
   "mimetype": "text/x-python",
   "name": "python",
   "nbconvert_exporter": "python",
   "pygments_lexer": "ipython3",
   "version": "3.9.6"
  }
 },
 "nbformat": 4,
 "nbformat_minor": 5
}
