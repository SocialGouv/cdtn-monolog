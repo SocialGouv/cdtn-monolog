{
 "cells": [
  {
   "cell_type": "markdown",
   "id": "8dd9bd38",
   "metadata": {},
   "source": [
    "# Taux de complétion des outils\n",
    "\n",
    "## A documenter"
   ]
  },
  {
   "cell_type": "code",
   "execution_count": null,
   "id": "32a73cc5",
   "metadata": {},
   "outputs": [],
   "source": [
    "import pandas as pd\n",
    "import math\n",
    "from tqdm.notebook import tqdm\n",
    "from typing import List, Dict\n",
    "\n",
    "\n",
    "pd.set_option('display.max_columns', 100)\n",
    "pd.set_option('display.max_colwidth', 80)\n",
    "pd.set_option('display.max_rows', 1000)"
   ]
  },
  {
   "cell_type": "code",
   "execution_count": null,
   "id": "c9f7a4af",
   "metadata": {},
   "outputs": [],
   "source": [
    "from query_elastic_search import load_file_if_exists_or_execute_query"
   ]
  },
  {
   "cell_type": "code",
   "execution_count": null,
   "id": "e4703d26",
   "metadata": {},
   "outputs": [],
   "source": [
    "SEARCH_QUERY = {\n",
    "    \"query\": {\n",
    "        \"bool\": { \n",
    "          \"must\": [\n",
    "            {\n",
    "              \"prefix\": {\n",
    "                \"url\" : \"https://code.travail.gouv.fr/outils\" \n",
    "              }\n",
    "            },\n",
    "            {\n",
    "              \"range\": {\n",
    "               \"logfile\": {\n",
    "                  #\"gte\": \"2022-03-01\",\n",
    "                  #\"lt\": \"2022-06-01\"\n",
    "                  \"gte\": \"2022-12-01\",\n",
    "                  \"lt\": \"2022-12-20\"\n",
    "               }\n",
    "              }\n",
    "            }\n",
    "          ]\n",
    "        }\n",
    "    }\n",
    "}"
   ]
  },
  {
   "cell_type": "code",
   "execution_count": null,
   "id": "1a9ad86a",
   "metadata": {},
   "outputs": [],
   "source": [
    "logs_new = load_file_if_exists_or_execute_query(\"\", SEARCH_QUERY)"
   ]
  },
  {
   "cell_type": "code",
   "execution_count": null,
   "id": "0a54c9fe",
   "metadata": {},
   "outputs": [],
   "source": [
    "logs_outils = logs_new[\n",
    "    ['url', 'idVisit', 'type', 'outil', 'outilAction', 'outilEvent', 'lastActionDateTime', 'logfile']].copy()\n",
    "logs_outils"
   ]
  },
  {
   "cell_type": "code",
   "execution_count": null,
   "id": "685ad15a",
   "metadata": {},
   "outputs": [],
   "source": [
    "logs_outils[\"url_cleaned\"] = logs_outils['url'].apply(lambda x: x.split('?')[0].split('#')[0])"
   ]
  },
  {
   "cell_type": "code",
   "execution_count": null,
   "id": "d95ba274",
   "metadata": {},
   "outputs": [],
   "source": [
    "logs_outils_view_step = logs_outils[logs_outils['outilAction']=='view_step']\n",
    "#logs_outils_view_step = logs_outils[logs_outils['outilAction'].notna()]"
   ]
  },
  {
   "cell_type": "code",
   "execution_count": null,
   "id": "16bb45e6",
   "metadata": {},
   "outputs": [],
   "source": [
    "logs_outils_view_step.url_cleaned.value_counts()"
   ]
  },
  {
   "cell_type": "code",
   "execution_count": null,
   "id": "26f530a4",
   "metadata": {},
   "outputs": [],
   "source": [
    "logs_outils_view_step.url_cleaned.unique()"
   ]
  },
  {
   "cell_type": "code",
   "execution_count": null,
   "id": "ba4afe00",
   "metadata": {},
   "outputs": [],
   "source": [
    "logs_outils_view_step.outil.unique()"
   ]
  },
  {
   "cell_type": "code",
   "execution_count": null,
   "id": "44239e30",
   "metadata": {},
   "outputs": [],
   "source": [
    "indemnite = logs_outils_view_step[\n",
    "    logs_outils_view_step['url_cleaned']=='https://code.travail.gouv.fr/outils/procedure-licenciement']\n",
    "indemnite\n"
   ]
  },
  {
   "cell_type": "code",
   "execution_count": null,
   "id": "30b5a61d",
   "metadata": {},
   "outputs": [],
   "source": [
    "logs_outils[logs_outils['url_cleaned']=='https://code.travail.gouv.fr/outils/procedure-licenciement']"
   ]
  },
  {
   "cell_type": "code",
   "execution_count": null,
   "id": "0bf2ecbc",
   "metadata": {},
   "outputs": [],
   "source": [
    "indemnite.groupby(by=['outilEvent']).agg({\n",
    "    'idVisit': 'nunique',\n",
    "})"
   ]
  },
  {
   "cell_type": "code",
   "execution_count": null,
   "id": "90afc7a6",
   "metadata": {},
   "outputs": [],
   "source": [
    "logs_outils_view_step.groupby(by=['url_cleaned', 'outilEvent']).agg({\n",
    "    'idVisit': 'nunique',\n",
    "})"
   ]
  },
  {
   "cell_type": "code",
   "execution_count": null,
   "id": "6b45623b",
   "metadata": {},
   "outputs": [],
   "source": [
    "# Same for june\n",
    "logs_june = pd_read_pattern(PATH_CDTN_MONOLOG + \"/data-all-logs-june/2022-06-*\")\n",
    "logs_june_tools = logs_june[logs_june['url'].str.startswith('https://code.travail.gouv.fr/outils', na=False)]\n",
    "logs_june_tools['url'] = logs_june_tools['url'].str.split('#').str[0].str.split('?').str[0]"
   ]
  },
  {
   "cell_type": "markdown",
   "id": "d35515a6",
   "metadata": {},
   "source": [
    "### Comparaison du nombre de recherche de convention collective entre tous les logs et les logs sur les urls https://code.travail.gouv.fr/outils"
   ]
  },
  {
   "cell_type": "code",
   "execution_count": null,
   "id": "e102d483",
   "metadata": {},
   "outputs": [],
   "source": [
    "from query_elastic_search import execute_query"
   ]
  },
  {
   "cell_type": "code",
   "execution_count": null,
   "id": "a680bfd9",
   "metadata": {},
   "outputs": [],
   "source": [
    "logs_new_january = execute_query()"
   ]
  },
  {
   "cell_type": "markdown",
   "id": "c2d9671d",
   "metadata": {},
   "source": [
    "Nombre de recherche dans tous les logs"
   ]
  },
  {
   "cell_type": "code",
   "execution_count": null,
   "id": "1e06022e",
   "metadata": {},
   "outputs": [],
   "source": [
    "logs_new_january.type.value_counts().filter(regex = 'cc')"
   ]
  },
  {
   "cell_type": "code",
   "execution_count": null,
   "id": "17b1c179",
   "metadata": {},
   "outputs": [],
   "source": [
    "logs_new_january[\n",
    "    logs_new_january['url'].str.startswith('https://code.travail.gouv.fr/outils', na=False)\n",
    "].type.value_counts().filter(regex = 'cc')"
   ]
  },
  {
   "cell_type": "markdown",
   "id": "4fb23548",
   "metadata": {},
   "source": [
    "# Calcule du taux de complétion des outils en janvier 2022"
   ]
  },
  {
   "cell_type": "code",
   "execution_count": null,
   "id": "98cd66be",
   "metadata": {},
   "outputs": [],
   "source": [
    "from join_multiple_file import pd_read_pattern, PATH_CDTN_MONOLOG"
   ]
  },
  {
   "cell_type": "code",
   "execution_count": null,
   "id": "5d836ee5",
   "metadata": {},
   "outputs": [],
   "source": [
    "DICT_OF_OUTILS_WITH_STARTING_AND_ENDING_STEP_EVENT_NAME = {\n",
    "  #\"Trouver sa convention collective\": {\n",
    "  #  'firstStep': \"start\",\n",
    "  #  'lastStep': None,\n",
    "  #},\n",
    "  \"Heures pour recherche d’emploi\": {\n",
    "    'firstStep': \"start\",\n",
    "    'lastStep': \"results\",\n",
    "  },\n",
    "  \"Indemnité de licenciement\": {\n",
    "    'firstStep': \"start\",\n",
    "    'lastStep': \"indemnite_legale\",\n",
    "  },\n",
    "  \"Indemnité de précarité\": {\n",
    "    'firstStep': \"start\",\n",
    "    'lastStep': \"indemnite\",\n",
    "  },\n",
    "}"
   ]
  },
  {
   "cell_type": "code",
   "execution_count": null,
   "id": "ebda59cd",
   "metadata": {
    "scrolled": true
   },
   "outputs": [],
   "source": [
    "df = pd_read_pattern(PATH_CDTN_MONOLOG + \"/data-all-logs-january/2022-01-*\")\n",
    "df = df[df['url'].str.startswith('https://code.travail.gouv.fr/outils', na=False)]"
   ]
  },
  {
   "cell_type": "code",
   "execution_count": null,
   "id": "ba4c4a03",
   "metadata": {},
   "outputs": [],
   "source": [
    "df.shape"
   ]
  },
  {
   "cell_type": "code",
   "execution_count": null,
   "id": "6609509c",
   "metadata": {},
   "outputs": [],
   "source": [
    "df.head(5)"
   ]
  },
  {
   "cell_type": "code",
   "execution_count": null,
   "id": "782d79a9",
   "metadata": {
    "scrolled": true
   },
   "outputs": [],
   "source": [
    "df_view_step = df[df['outilAction']=='view_step']\n",
    "df_view_step.shape"
   ]
  },
  {
   "cell_type": "code",
   "execution_count": null,
   "id": "12188d76",
   "metadata": {
    "scrolled": true
   },
   "outputs": [],
   "source": [
    "visits_by_step_of_tools = df_view_step.groupby(['outil', 'outilEvent']).agg({\n",
    "    'idVisit': 'nunique',\n",
    "})\n",
    "visits_by_step_of_tools"
   ]
  },
  {
   "cell_type": "code",
   "execution_count": null,
   "id": "cc674f52",
   "metadata": {},
   "outputs": [],
   "source": [
    "visits_by_step_of_tools.loc['Heures pour recherche d’emploi'].loc['start', 'idVisit']"
   ]
  },
  {
   "cell_type": "code",
   "execution_count": null,
   "id": "7eee681d",
   "metadata": {},
   "outputs": [],
   "source": [
    "for outil in DICT_OF_OUTILS_WITH_STARTING_AND_ENDING_STEP_EVENT_NAME.keys():\n",
    "    first_step = DICT_OF_OUTILS_WITH_STARTING_AND_ENDING_STEP_EVENT_NAME[outil]['firstStep']\n",
    "    last_step = DICT_OF_OUTILS_WITH_STARTING_AND_ENDING_STEP_EVENT_NAME[outil]['lastStep']\n",
    "    visits_first_step = visits_by_step_of_tools.loc[outil].loc[first_step, 'idVisit']\n",
    "    visits_last_step = visits_by_step_of_tools.loc[outil].loc[last_step, 'idVisit']\n",
    "    print(f'{outil} a un taux de {visits_last_step / visits_first_step}')"
   ]
  },
  {
   "cell_type": "markdown",
   "id": "5a41404c",
   "metadata": {},
   "source": [
    "### Taux de complétion outil convention collective"
   ]
  },
  {
   "cell_type": "code",
   "execution_count": null,
   "id": "1ef16f80",
   "metadata": {
    "scrolled": true
   },
   "outputs": [],
   "source": [
    "df.type.value_counts()"
   ]
  },
  {
   "cell_type": "code",
   "execution_count": null,
   "id": "90349139",
   "metadata": {},
   "outputs": [],
   "source": [
    "df_cc_url = df[\n",
    "    df['url'].str.startswith('https://code.travail.gouv.fr/outils/convention-collective', na=False)\n",
    "].copy()\n",
    "df_cc_url"
   ]
  },
  {
   "cell_type": "code",
   "execution_count": null,
   "id": "8c0d68b2",
   "metadata": {},
   "outputs": [],
   "source": [
    "nb_visits_by_cc_type = df_cc_url.groupby(by=['type']).agg({'idVisit': 'nunique'})\n",
    "nb_visits_by_cc_type"
   ]
  },
  {
   "cell_type": "markdown",
   "id": "ff6b373b",
   "metadata": {},
   "source": [
    "## Analyse \"pb kpi taux de complétion heures pour recherche d'emploi\"\n",
    "\n",
    "Constat : le taux de complétion de l'outil heure pour recherches emploi diminue entre mars et mai 2022\n",
    "\n",
    "On va afficher son évolution au cours du mois d'avril "
   ]
  },
  {
   "cell_type": "code",
   "execution_count": null,
   "id": "424fb33e",
   "metadata": {},
   "outputs": [],
   "source": [
    "# extraction du jour et du mois de la colonne date\n",
    "def get_day_and_month(df, column):\n",
    "    df_copy = df.copy()\n",
    "    #df_copy[column]= pd.to_datetime(df_copy[column])\n",
    "    df_copy['month'] = pd.DatetimeIndex(df_copy[column]).month\n",
    "    df_copy['day'] = pd.DatetimeIndex(df_copy[column]).day\n",
    "    return df_copy"
   ]
  },
  {
   "cell_type": "code",
   "execution_count": null,
   "id": "1f024412",
   "metadata": {},
   "outputs": [],
   "source": [
    "logs_outils_view_step_with_date = get_day_and_month(logs_outils_view_step, 'lastActionDateTime')"
   ]
  },
  {
   "cell_type": "code",
   "execution_count": null,
   "id": "f9e29b27",
   "metadata": {},
   "outputs": [],
   "source": [
    "logs_heures_pour_recherche_emploi = logs_outils_view_step_with_date[\n",
    "    (logs_outils_view_step['url_cleaned']=='https://code.travail.gouv.fr/outils/heures-recherche-emploi') &\n",
    "    #(logs_outils_view_step['outil']=='https://code.travail.gouv.fr/outils/heures-recherche-emploi') &\n",
    "    (logs_outils_view_step['outilEvent'].isin(['results', 'start']))\n",
    "]\n",
    "logs_heures_pour_recherche_emploi\n"
   ]
  },
  {
   "cell_type": "code",
   "execution_count": null,
   "id": "079c57f0",
   "metadata": {},
   "outputs": [],
   "source": [
    "logs_heures_pour_recherche_emploi.outil.value_counts()"
   ]
  },
  {
   "cell_type": "markdown",
   "id": "caf81731",
   "metadata": {},
   "source": [
    "### évolution du nombre de visits sur les pages 'start' et 'résultat' de l'outil Heures pour recherches emploi"
   ]
  },
  {
   "cell_type": "markdown",
   "id": "e01471d3",
   "metadata": {},
   "source": [
    "#### Par mois"
   ]
  },
  {
   "cell_type": "code",
   "execution_count": null,
   "id": "1c37e826",
   "metadata": {},
   "outputs": [],
   "source": [
    "logs_heures_pour_recherche_emploi.groupby(by=['month', 'outilEvent']).agg({\n",
    "    'idVisit': 'nunique',\n",
    "})"
   ]
  },
  {
   "cell_type": "markdown",
   "id": "5a3d2752",
   "metadata": {},
   "source": [
    "#### Par jour"
   ]
  },
  {
   "cell_type": "code",
   "execution_count": null,
   "id": "75328f8f",
   "metadata": {},
   "outputs": [],
   "source": [
    "logs_heures_pour_recherche_emploi.groupby(by=['logfile', 'outilEvent']).agg({\n",
    "    'idVisit': 'nunique',\n",
    "})"
   ]
  },
  {
   "cell_type": "markdown",
   "id": "120eed92",
   "metadata": {},
   "source": [
    "## Analyse bug outil indemnité de licenciement en juillet qui atteint à 0,09%"
   ]
  },
  {
   "cell_type": "code",
   "execution_count": null,
   "id": "c9630a48",
   "metadata": {},
   "outputs": [],
   "source": [
    "logs_july = pd_read_pattern(PATH_CDTN_MONOLOG + \"/data-all-logs-july/2022-07-*\")"
   ]
  },
  {
   "cell_type": "code",
   "execution_count": null,
   "id": "c4371306",
   "metadata": {},
   "outputs": [],
   "source": [
    "logs_outils_july = logs_july[logs_july['url'].str.startswith('https://code.travail.gouv.fr/outils', na=False)].copy()"
   ]
  },
  {
   "cell_type": "code",
   "execution_count": null,
   "id": "e99d5c04",
   "metadata": {},
   "outputs": [],
   "source": [
    "logs_outils_july['url'] = logs_outils_july['url'].str.split('#').str[0].str.split('?').str[0]"
   ]
  },
  {
   "cell_type": "code",
   "execution_count": null,
   "id": "b07a4039",
   "metadata": {},
   "outputs": [],
   "source": [
    "logs_outils_july[logs_outils_july['outilAction']=='view_step'].groupby(['outil', 'outilEvent']).agg({\n",
    "    'idVisit': 'nunique',\n",
    "}).sort_values(by=['outil','idVisit'],ascending=False)"
   ]
  },
  {
   "cell_type": "code",
   "execution_count": null,
   "id": "5af6b4aa",
   "metadata": {},
   "outputs": [],
   "source": []
  }
 ],
 "metadata": {
  "kernelspec": {
   "display_name": "explorations-cdtn",
   "language": "python",
   "name": "explorations-cdtn"
  },
  "language_info": {
   "codemirror_mode": {
    "name": "ipython",
    "version": 3
   },
   "file_extension": ".py",
   "mimetype": "text/x-python",
   "name": "python",
   "nbconvert_exporter": "python",
   "pygments_lexer": "ipython3",
   "version": "3.9.13"
  }
 },
 "nbformat": 4,
 "nbformat_minor": 5
}
