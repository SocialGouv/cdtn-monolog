{
 "cells": [
  {
   "cell_type": "markdown",
   "id": "34a02f89",
   "metadata": {},
   "source": [
    "# Taux de recherche fructueuse de convention collective sur les outils et sur les contribs\n",
    "\n",
    "**Définition** : Part des personnes qui sélectionnent une convention collective par rapport au nombre de personnes qui en recherche une (nombre de session où il y a au moins 1 CC search ?)\n",
    "- [ ] Pour les outils\n",
    "- [ ] Pour les contrib\n",
    "\n",
    "**Objectif** : voir parmi ceux qui cherchent une CC combien en sélectionnent une\n",
    "\n",
    "**Formules** : \n",
    "- Pour les outils = ??\n",
    "- Pour les contrib = nb de sessions ayant au moins un cc_select / nb de sessions ayant au moins un cc_search\n",
    "\n",
    "## On commence par le chargement des données"
   ]
  },
  {
   "cell_type": "code",
   "execution_count": null,
   "id": "2eea103b",
   "metadata": {},
   "outputs": [],
   "source": [
    "import pandas as pd\n",
    "import time\n",
    "import json\n",
    "import math\n",
    "from tqdm.notebook import tqdm\n",
    "import plotly.express as px\n",
    "import plotly.graph_objects as go\n",
    "import sys\n",
    "from datetime import datetime\n",
    "#from typing import List, Dict\n",
    "\n",
    "\n",
    "pd.set_option('display.max_columns', 100)\n",
    "pd.set_option('display.max_rows', 100)"
   ]
  },
  {
   "cell_type": "markdown",
   "id": "e8235e89",
   "metadata": {},
   "source": [
    "## On récupère les données via celle déjà télécharger"
   ]
  },
  {
   "cell_type": "code",
   "execution_count": null,
   "id": "10bf7c3b",
   "metadata": {},
   "outputs": [],
   "source": [
    "from join_multiple_file import pd_read_pattern, PATH_CDTN_MONOLOG\n",
    "\n",
    "logs_april = pd_read_pattern(PATH_CDTN_MONOLOG + \"/data-all-logs-april/*\")\n",
    "logs_may = pd_read_pattern(PATH_CDTN_MONOLOG + \"/data-all-logs-may/*\")\n",
    "logs_june = pd_read_pattern(PATH_CDTN_MONOLOG + \"/data-all-logs-june/*\")\n",
    "#logs_july = pd_read_pattern(PATH_CDTN_MONOLOG + \"/data-all-logs-july/*\")"
   ]
  },
  {
   "cell_type": "code",
   "execution_count": null,
   "id": "cf55f74f",
   "metadata": {},
   "outputs": [],
   "source": [
    "from query_elastic_search import load_file_if_exists_or_execute_query\n",
    "\n",
    "QUERY = {\n",
    "    \"query\": {\n",
    "        \"bool\": { \n",
    "          \"must\": [\n",
    "            {\n",
    "              \"range\": {\n",
    "               \"logfile\": {\n",
    "                  \"gte\": \"2022-07-01\",\n",
    "                  \"lt\": \"2022-08-01\"\n",
    "               }\n",
    "              }\n",
    "            }\n",
    "          ]\n",
    "        }\n",
    "      }\n",
    "}"
   ]
  },
  {
   "cell_type": "code",
   "execution_count": null,
   "id": "d4a1e09b",
   "metadata": {},
   "outputs": [],
   "source": [
    "logs_july = load_file_if_exists_or_execute_query(\"\", QUERY)"
   ]
  },
  {
   "cell_type": "code",
   "execution_count": null,
   "id": "a8c3184c",
   "metadata": {},
   "outputs": [],
   "source": [
    "logs_july.head()"
   ]
  },
  {
   "cell_type": "code",
   "execution_count": null,
   "id": "68b51355",
   "metadata": {},
   "outputs": [],
   "source": [
    "logs = pd.concat([logs_april, logs_may, logs_june, logs_july])"
   ]
  },
  {
   "cell_type": "code",
   "execution_count": null,
   "id": "91cd8e17",
   "metadata": {},
   "outputs": [],
   "source": [
    "logs['url'] = logs['url'].str.split('#').str[0].str.split('?').str[0]\n",
    "logs['month'] = pd.DatetimeIndex(logs['logfile']).month\n",
    "logs['datetime'] = logs['timestamp'].apply(datetime.fromtimestamp)"
   ]
  },
  {
   "cell_type": "markdown",
   "id": "7fef54b3",
   "metadata": {},
   "source": [
    "logs_contrib_without_duplicates = logs_contrib.drop_duplicates(subset=['idVisit', 'url', 'type']).copy()"
   ]
  },
  {
   "cell_type": "markdown",
   "id": "6d717448",
   "metadata": {},
   "source": [
    "logs_contrib_without_duplicates.shape[0]"
   ]
  },
  {
   "cell_type": "markdown",
   "id": "60a4867f",
   "metadata": {},
   "source": [
    "# KPI 4 : Taux de recherche fructueuse de convention collective sur les outils\n",
    "\n",
    "Commentaire"
   ]
  },
  {
   "cell_type": "markdown",
   "id": "ffff4d0f",
   "metadata": {},
   "source": [
    "### Préparation des données"
   ]
  },
  {
   "cell_type": "code",
   "execution_count": null,
   "id": "24d5bdae",
   "metadata": {},
   "outputs": [],
   "source": [
    "logs_tools = logs[logs['url'].str.match('^https://code.travail.gouv.fr/outils', na=False)].copy()"
   ]
  },
  {
   "cell_type": "code",
   "execution_count": null,
   "id": "33d8a720",
   "metadata": {},
   "outputs": [],
   "source": [
    "logs_tools_with_cc_search = logs_tools[\n",
    "    (logs_tools['url'].str.match('^https://code.travail.gouv.fr/outils/preavis-demission', na=False)) |\n",
    "    (logs_tools['url'].str.match('^https://code.travail.gouv.fr/outils/indemnite-precarite', na=False)) |\n",
    "    (logs_tools['url'].str.match('^https://code.travail.gouv.fr/outils/preavis-licenciement', na=False)) |\n",
    "    (logs_tools['url'].str.match('^https://code.travail.gouv.fr/outils/heures-recherche-emploi', na=False)) |\n",
    "    (logs_tools['url'].str.match('^https://code.travail.gouv.fr/outils/preavis-retraite', na=False)) |\n",
    "    (logs_tools['url'].str.match('^https://code.travail.gouv.fr/outils/convention-collective', na=False))\n",
    "].copy()"
   ]
  },
  {
   "cell_type": "code",
   "execution_count": null,
   "id": "2762b9a2",
   "metadata": {},
   "outputs": [],
   "source": [
    "logs_tools_without_duplicates = logs_tools_with_cc_search.drop_duplicates(\n",
    "    subset=['idVisit', 'url', 'type', 'month']\n",
    ").copy()"
   ]
  },
  {
   "cell_type": "code",
   "execution_count": null,
   "id": "00f514ea",
   "metadata": {},
   "outputs": [],
   "source": [
    "# On sélectionne les données de juin pour un premier cas d'usage\n",
    "logs_tools_without_duplicates_june = logs_tools_without_duplicates[logs_tools_without_duplicates['month']==6]"
   ]
  },
  {
   "cell_type": "code",
   "execution_count": null,
   "id": "ec3c1761",
   "metadata": {},
   "outputs": [],
   "source": [
    "logs_tools_type_value_counts_june = logs_tools_without_duplicates_june.type.value_counts()\n",
    "logs_tools_type_value_counts_june"
   ]
  },
  {
   "cell_type": "markdown",
   "id": "37eb7324",
   "metadata": {},
   "source": [
    "## 4.1 taux de recherches fructueuses de CC dans les outils\n",
    "NB : plusieurs recherches / selection de CC comptent comme une recherche si elles sont faites par un même visiteur\n",
    "### Première étape"
   ]
  },
  {
   "cell_type": "code",
   "execution_count": null,
   "id": "c3ba05d0",
   "metadata": {},
   "outputs": [],
   "source": [
    "nb_total_cc_search_on_tools = logs_tools_type_value_counts_june['cc_search'] \n",
    "nb_total_cc_search_on_tools"
   ]
  },
  {
   "cell_type": "markdown",
   "id": "b7e369e6",
   "metadata": {},
   "source": [
    "### Deuxième étape"
   ]
  },
  {
   "cell_type": "code",
   "execution_count": null,
   "id": "d4ed1c30",
   "metadata": {},
   "outputs": [],
   "source": [
    "nb_total_cc_select_p1_on_tools = logs_tools_type_value_counts_june['cc_select_p1'] \n",
    "nb_total_cc_select_p1_on_tools"
   ]
  },
  {
   "cell_type": "markdown",
   "id": "20ac87cb",
   "metadata": {},
   "source": [
    "### Présentation des résultats"
   ]
  },
  {
   "cell_type": "code",
   "execution_count": null,
   "id": "7df04d45",
   "metadata": {},
   "outputs": [],
   "source": [
    "print(f\"{round(( nb_total_cc_select_p1_on_tools) / nb_total_cc_search_on_tools * 100 , 2)} %\")"
   ]
  },
  {
   "cell_type": "markdown",
   "id": "023dfc72",
   "metadata": {},
   "source": [
    "## 4.2 taux de recherches fructueuses d'entreprise dans les outils par utilisateur \n",
    "NB : plusieurs recherches / selection de CC comptent comme une recherche si elles sont faites par un même visiteur\n",
    "### Première étape"
   ]
  },
  {
   "cell_type": "code",
   "execution_count": null,
   "id": "f41671be",
   "metadata": {},
   "outputs": [],
   "source": [
    "nb_total_enterprise_search_on_tools = logs_tools_type_value_counts_june['enterprise_search']\n",
    "nb_total_enterprise_search_on_tools"
   ]
  },
  {
   "cell_type": "markdown",
   "id": "7281c528",
   "metadata": {},
   "source": [
    "### Deuxième étape"
   ]
  },
  {
   "cell_type": "code",
   "execution_count": null,
   "id": "c2d8f876",
   "metadata": {},
   "outputs": [],
   "source": [
    "nb_total_enterprise_select_on_tools = logs_tools_type_value_counts_june['enterprise_select']\n",
    "nb_total_enterprise_select_on_tools"
   ]
  },
  {
   "cell_type": "markdown",
   "id": "f6e675ae",
   "metadata": {},
   "source": [
    "### Présentation des résultats"
   ]
  },
  {
   "cell_type": "code",
   "execution_count": null,
   "id": "a5803567",
   "metadata": {},
   "outputs": [],
   "source": [
    "print(f\"{round(( nb_total_enterprise_select_on_tools) / nb_total_enterprise_search_on_tools * 100 , 2)} %\")"
   ]
  },
  {
   "cell_type": "markdown",
   "id": "541f7ed5",
   "metadata": {},
   "source": [
    "### 4.1 et 4.2 Généralisation pour chaque mois"
   ]
  },
  {
   "cell_type": "code",
   "execution_count": null,
   "id": "6b39af7c",
   "metadata": {},
   "outputs": [],
   "source": [
    "def get_ratio_of_a_given_select_type_over_a_given_search_type_in_logs(logs, search_type: str, select_type: str):\n",
    "    logs_type_value_counts = logs.type.value_counts()\n",
    "    \n",
    "    nb_total_search_type = logs_type_value_counts[search_type] if search_type in logs_type_value_counts else sys.maxsize\n",
    "    nb_total_select_type = logs_type_value_counts[select_type] if select_type in logs_type_value_counts else 0\n",
    "    \n",
    "    return nb_total_search_type, nb_total_select_type, round(nb_total_select_type / nb_total_search_type * 100 , 2)\n",
    "\n",
    "\n",
    "def get_ratio_of_successful_search_for_cc_in_tools(logs_tools):\n",
    "    return get_ratio_of_a_given_select_type_over_a_given_search_type_in_logs(\n",
    "        logs_tools, 'cc_search', 'cc_select_p1'\n",
    "    )\n",
    "\n",
    "\n",
    "def get_ratio_of_successful_search_for_enterprise_in_tools(logs_tools):\n",
    "    return get_ratio_of_a_given_select_type_over_a_given_search_type_in_logs(\n",
    "        logs_tools, 'enterprise_search', 'enterprise_select'\n",
    "    )"
   ]
  },
  {
   "cell_type": "code",
   "execution_count": null,
   "id": "3cdf4b37",
   "metadata": {},
   "outputs": [],
   "source": [
    "def compute_kpi_month_by_month(kpi_computation, logs: pd.DataFrame, months_number=[4, 5, 6, 7]):\n",
    "    list_kpi = []\n",
    "    for month in months_number: \n",
    "        logs_without_duplicates = logs.drop_duplicates(subset=['idVisit', 'url', 'type', 'month']).copy()\n",
    "        logs_without_duplicates_month = logs_without_duplicates[logs_without_duplicates['month']==month]\n",
    "        \n",
    "        denominator, numerator, ratio = kpi_computation(\n",
    "            logs_without_duplicates_month)\n",
    "        \n",
    "        list_kpi.append([f\"2022-{month}-01\", denominator, numerator, ratio])\n",
    "    return pd.DataFrame(columns=['date', 'denominator', 'numerator', 'ratio'], data=list_kpi, index=months_number)"
   ]
  },
  {
   "cell_type": "code",
   "execution_count": null,
   "id": "bd36ad50",
   "metadata": {},
   "outputs": [],
   "source": [
    "kpi_tools_cc_search = compute_kpi_month_by_month(\n",
    "    get_ratio_of_successful_search_for_cc_in_tools, logs_tools_with_cc_search\n",
    ")\n",
    "kpi_tools_cc_search"
   ]
  },
  {
   "cell_type": "code",
   "execution_count": null,
   "id": "79568643",
   "metadata": {},
   "outputs": [],
   "source": [
    "kpi_tools_enteprise_search = compute_kpi_month_by_month(\n",
    "    get_ratio_of_successful_search_for_enterprise_in_tools, logs_tools_with_cc_search\n",
    ")\n",
    "kpi_tools_enteprise_search"
   ]
  },
  {
   "cell_type": "markdown",
   "id": "79246c86",
   "metadata": {},
   "source": [
    "### Présentation Graphique du résultat"
   ]
  },
  {
   "cell_type": "code",
   "execution_count": null,
   "id": "5153e655",
   "metadata": {},
   "outputs": [],
   "source": [
    "fig = px.line(kpi_tools_cc_search, x='date', y='ratio', markers=True)\n",
    "fig.update_xaxes(\n",
    "    dtick=\"M1\",\n",
    "    tickformat=\"%b\")\n",
    "fig.update_yaxes(range=[0, 100])\n",
    "fig.show()"
   ]
  },
  {
   "cell_type": "code",
   "execution_count": null,
   "id": "45711308",
   "metadata": {},
   "outputs": [],
   "source": [
    "fig = px.line(kpi_tools_enteprise_search, x='date', y='ratio', markers=True)\n",
    "fig.update_xaxes(\n",
    "    dtick=\"M1\",\n",
    "    tickformat=\"%b\")\n",
    "fig.update_yaxes(range=[0, 100])\n",
    "fig.show()"
   ]
  },
  {
   "cell_type": "markdown",
   "id": "e7e27456",
   "metadata": {},
   "source": [
    "### 4.3 Analyse sur le taux de recherches fructueuses d'entreprise dans les outils parmis l'ensemble des recherches"
   ]
  },
  {
   "cell_type": "code",
   "execution_count": null,
   "id": "5d395ddc",
   "metadata": {},
   "outputs": [],
   "source": [
    "import itertools"
   ]
  },
  {
   "cell_type": "code",
   "execution_count": null,
   "id": "33d3724a",
   "metadata": {
    "scrolled": true
   },
   "outputs": [],
   "source": [
    "logs_tools_with_cc_search[\n",
    "    ((logs_tools_with_cc_search['type']=='enterprise_search') |\n",
    "    (logs_tools_with_cc_search['type']=='enterprise_select')) &\n",
    "    (logs_tools_with_cc_search['idVisit']==17977979)\n",
    "].drop_duplicates(\n",
    "    subset=['idVisit', 'url', 'type', 'month', 'datetime']\n",
    ").copy()"
   ]
  },
  {
   "cell_type": "code",
   "execution_count": null,
   "id": "321517b3",
   "metadata": {},
   "outputs": [],
   "source": [
    "def count_non_adjacent_occurences_of_enterprise_search(types):\n",
    "    types_deduplicated_and_ordred = [key for key,_value in itertools.groupby(types)]\n",
    "    return types_deduplicated_and_ordred.count('enterprise_search')\n",
    "\n",
    "def count_non_adjacent_occurences_of_enterprise_select(types):\n",
    "    types_deduplicated_and_ordred = [key for key,_value in itertools.groupby(types)]\n",
    "    return types_deduplicated_and_ordred.count('enterprise_select')"
   ]
  },
  {
   "cell_type": "code",
   "execution_count": null,
   "id": "993d9e76",
   "metadata": {},
   "outputs": [],
   "source": [
    "def get_ratio_of_searches_with_sucessful_result_over_all_cc_searches(logs: pd.DataFrame, months_number=[4, 5, 6, 7]):\n",
    "    list_kpi = []\n",
    "    for month in months_number: \n",
    "        logs_wout_duplicates = logs[(logs['type']=='enterprise_search')|(logs['type']=='enterprise_select')]\\\n",
    "            .drop_duplicates(subset=['idVisit', 'url', 'type', 'month', 'datetime'])\\\n",
    "            .sort_values(by=['idVisit', 'datetime']).copy()\n",
    "        \n",
    "        logs_wout_duplicates_month = logs_wout_duplicates[logs_wout_duplicates['month']==month]\n",
    "        \n",
    "        number_occurences_of_enterprise_search_and_select = logs_wout_duplicates_month\\\n",
    "            .groupby(by=['url', 'idVisit'])\\\n",
    "            .agg({\n",
    "                'type': [\n",
    "                    count_non_adjacent_occurences_of_enterprise_search, \n",
    "                    count_non_adjacent_occurences_of_enterprise_select\n",
    "                ]\n",
    "            }).reset_index()\n",
    "        \n",
    "        number_occurences_of_enterprise_search_and_select.columns = [\n",
    "            '_'.join(col) for col in number_occurences_of_enterprise_search_and_select.columns.values\n",
    "        ]\n",
    "\n",
    "        denominator, numerator, ratio = number_occurences_of_enterprise_search_and_select['type_count_non_adjacent_occurences_of_enterprise_search'].sum(), \\\n",
    "            number_occurences_of_enterprise_search_and_select['type_count_non_adjacent_occurences_of_enterprise_select'].sum(), \\\n",
    "            round(number_occurences_of_enterprise_search_and_select['type_count_non_adjacent_occurences_of_enterprise_select'].sum() / number_occurences_of_enterprise_search_and_select['type_count_non_adjacent_occurences_of_enterprise_search'].sum()*100, 2)\n",
    "        \n",
    "        list_kpi.append([f\"2022-{month}-01\", denominator, numerator, ratio])\n",
    "    return pd.DataFrame(columns=['date', 'denominator', 'numerator', 'ratio'], data=list_kpi, index=months_number)"
   ]
  },
  {
   "cell_type": "code",
   "execution_count": null,
   "id": "0b5efedd",
   "metadata": {},
   "outputs": [],
   "source": [
    "kpi_tools_enteprise_search = get_ratio_of_searches_with_sucessful_result_over_all_cc_searches(\n",
    "    logs_tools_with_cc_search\n",
    ")\n",
    "kpi_tools_enteprise_search"
   ]
  },
  {
   "cell_type": "markdown",
   "id": "fdd79158",
   "metadata": {},
   "source": [
    "# KPI 5 : Taux de recherche fructueuse de convention collective sur les contribs\n",
    "\n",
    "**Formules** : \n",
    "Pour les contrib = nb de sessions ayant au moins un cc_select / nb de sessions ayant au moins un cc_search"
   ]
  },
  {
   "cell_type": "markdown",
   "id": "3f534546",
   "metadata": {},
   "source": [
    "### Préparation des données"
   ]
  },
  {
   "cell_type": "code",
   "execution_count": null,
   "id": "f6ecde7f",
   "metadata": {},
   "outputs": [],
   "source": [
    "logs_contrib = logs[logs['url'].str.match('^https://code.travail.gouv.fr/contribution/', na=False)].copy()"
   ]
  },
  {
   "cell_type": "code",
   "execution_count": null,
   "id": "9080dc73",
   "metadata": {},
   "outputs": [],
   "source": [
    "logs_contrib_without_duplicates = logs_contrib.drop_duplicates(subset=['idVisit', 'url', 'type', 'month']).copy()\n",
    "logs_contrib_without_duplicates"
   ]
  },
  {
   "cell_type": "code",
   "execution_count": null,
   "id": "886ef950",
   "metadata": {},
   "outputs": [],
   "source": [
    "logs_contrib_without_duplicates_june = logs_contrib_without_duplicates[logs_contrib_without_duplicates['month']==6]"
   ]
  },
  {
   "cell_type": "code",
   "execution_count": null,
   "id": "107fa850",
   "metadata": {},
   "outputs": [],
   "source": [
    "logs_contrib_type_value_counts = logs_contrib_without_duplicates_june.type.value_counts()\n",
    "logs_contrib_type_value_counts"
   ]
  },
  {
   "cell_type": "markdown",
   "id": "c93d5db4",
   "metadata": {},
   "source": [
    "### Première étape : calcul du dénominateur, cad le nombre de cc_search"
   ]
  },
  {
   "cell_type": "code",
   "execution_count": null,
   "id": "a3f81bbd",
   "metadata": {},
   "outputs": [],
   "source": [
    "nb_total_cc_search_on_contrib = logs_contrib_type_value_counts['cc_search']\n",
    "nb_total_cc_search_on_contrib"
   ]
  },
  {
   "cell_type": "markdown",
   "id": "de776929",
   "metadata": {},
   "source": [
    "### Deuxième étape"
   ]
  },
  {
   "cell_type": "code",
   "execution_count": null,
   "id": "d4baab28",
   "metadata": {},
   "outputs": [],
   "source": [
    "nb_total_cc_select_on_contrib = logs_contrib_type_value_counts['cc_select']\n",
    "nb_total_cc_select_on_contrib"
   ]
  },
  {
   "cell_type": "markdown",
   "id": "6cbd0396",
   "metadata": {},
   "source": [
    "### Présentation des résultats"
   ]
  },
  {
   "cell_type": "code",
   "execution_count": null,
   "id": "5adb74fc",
   "metadata": {},
   "outputs": [],
   "source": [
    "print(f\"{round( nb_total_cc_select_on_contrib / nb_total_cc_search_on_contrib * 100 , 2)} %\")"
   ]
  },
  {
   "cell_type": "markdown",
   "id": "8621f6e2",
   "metadata": {},
   "source": [
    "### Synthèse"
   ]
  },
  {
   "cell_type": "code",
   "execution_count": null,
   "id": "badd966e",
   "metadata": {},
   "outputs": [],
   "source": [
    "def get_ratio_of_successful_search_for_cc_in_contribution(logs_contrib):\n",
    "    return get_ratio_of_a_given_select_type_over_a_given_search_type_in_logs(\n",
    "        logs_contrib, 'cc_search', 'cc_select'\n",
    "    )"
   ]
  },
  {
   "cell_type": "code",
   "execution_count": null,
   "id": "ae0be443",
   "metadata": {},
   "outputs": [],
   "source": [
    "kpi_contrib_cc_search = compute_kpi_month_by_month(\n",
    "    get_ratio_of_successful_search_for_cc_in_contribution, logs_contrib\n",
    ")\n",
    "kpi_contrib_cc_search"
   ]
  },
  {
   "cell_type": "markdown",
   "id": "64513e45",
   "metadata": {},
   "source": [
    "### Présentation Graphique du résultat"
   ]
  },
  {
   "cell_type": "code",
   "execution_count": null,
   "id": "9b3d3156",
   "metadata": {},
   "outputs": [],
   "source": [
    "fig = px.line(kpi_contrib_cc_search, x='date', y='ratio', markers=True)\n",
    "fig.update_xaxes(\n",
    "    dtick=\"M1\",\n",
    "    tickformat=\"%b\")\n",
    "fig.update_yaxes(range=[0, 100])\n",
    "fig.show()"
   ]
  },
  {
   "cell_type": "code",
   "execution_count": null,
   "id": "613c72d8",
   "metadata": {},
   "outputs": [],
   "source": []
  }
 ],
 "metadata": {
  "kernelspec": {
   "display_name": "explorations-cdtn",
   "language": "python",
   "name": "explorations-cdtn"
  },
  "language_info": {
   "codemirror_mode": {
    "name": "ipython",
    "version": 3
   },
   "file_extension": ".py",
   "mimetype": "text/x-python",
   "name": "python",
   "nbconvert_exporter": "python",
   "pygments_lexer": "ipython3",
   "version": "3.9.13"
  }
 },
 "nbformat": 4,
 "nbformat_minor": 5
}
