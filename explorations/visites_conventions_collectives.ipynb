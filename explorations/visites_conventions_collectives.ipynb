{
 "cells": [
  {
   "cell_type": "markdown",
   "id": "043a7f29",
   "metadata": {},
   "source": [
    "# Visites de la page convention collective\n",
    "\n",
    "Dans cette exploration, le but est de savoir, comment l'ajout du lien en base des pages contributions à améliorer ou non le nombre de visites des pages `convention-collective`.\n",
    "\n",
    "Étape 1: Avoir le % des différentes `urlref` des pages `convention-collective` avant le 11/06\n",
    "\n",
    "Étape 2: Avoir le % des différentes `urlref` des pages `convention-collective` après le 13/06"
   ]
  },
  {
   "cell_type": "markdown",
   "id": "3f4bbdbf-007b-4f8f-a987-b99385255ea4",
   "metadata": {},
   "source": [
    "## 1. Chargement des librairies"
   ]
  },
  {
   "cell_type": "code",
   "execution_count": null,
   "id": "7778a50f",
   "metadata": {},
   "outputs": [],
   "source": [
    "import pandas as pd\n",
    "import time\n",
    "import json\n",
    "import math\n",
    "from tqdm.notebook import tqdm\n",
    "import plotly.express as px\n",
    "import plotly.graph_objects as go\n",
    "from datetime import datetime\n",
    "from src.elasticsearch_connector import ElasticsearchConnector\n",
    "\n",
    "pd.set_option('display.max_columns', 100)\n",
    "pd.set_option('display.max_rows', 100)\n",
    "pd.set_option('display.max_colwidth', 100)"
   ]
  },
  {
   "cell_type": "markdown",
   "id": "caeb7d64-6ebc-4a17-b306-654f36082a8d",
   "metadata": {},
   "source": [
    "## 2. Récupération des queries sur elasticsearch"
   ]
  },
  {
   "cell_type": "code",
   "execution_count": null,
   "id": "58fae8fc",
   "metadata": {},
   "outputs": [],
   "source": [
    "es_connector = ElasticsearchConnector(env='monolog')\n",
    "\n",
    "QUERY_BEFORE = {\n",
    "    \"query\": {\n",
    "        \"bool\": { \n",
    "          \"must\": [\n",
    "            {\n",
    "              \"prefix\": {\n",
    "                \"url\": \"https://code.travail.gouv.fr/convention-collective\" \n",
    "              }\n",
    "            },\n",
    "            {\n",
    "              \"range\": {\n",
    "               \"logfile\": {\n",
    "                    \"gte\": \"2023-05-10\",\n",
    "                    \"lte\": \"2023-06-10\"\n",
    "               }\n",
    "              }\n",
    "            }\n",
    "          ]\n",
    "        }\n",
    "      }\n",
    "}\n",
    "\n",
    "\n",
    "QUERY_AFTER = {\n",
    "    \"query\": {\n",
    "        \"bool\": { \n",
    "          \"must\": [\n",
    "            {\n",
    "              \"prefix\": {\n",
    "                \"url\": \"https://code.travail.gouv.fr/convention-collective\" \n",
    "              }\n",
    "            },\n",
    "            {\n",
    "              \"range\": {\n",
    "               \"logfile\": {\n",
    "                    \"gte\": \"2023-06-14\",\n",
    "                    \"lte\": \"2023-07-14\"\n",
    "               }\n",
    "              }\n",
    "            }\n",
    "          ]\n",
    "        }\n",
    "      }\n",
    "}"
   ]
  },
  {
   "cell_type": "code",
   "execution_count": null,
   "id": "f7e12935",
   "metadata": {
    "scrolled": true
   },
   "outputs": [],
   "source": [
    "logs_before = es_connector.execute_query(QUERY_BEFORE, \"logs-new\")"
   ]
  },
  {
   "cell_type": "code",
   "execution_count": null,
   "id": "94c2237d-70db-4667-bda6-42eda930e805",
   "metadata": {},
   "outputs": [],
   "source": [
    "logs_after = es_connector.execute_query(QUERY_AFTER, \"logs-new\")"
   ]
  },
  {
   "cell_type": "markdown",
   "id": "65da3fa4-cd4b-4668-9bf3-cf9f6c6702b4",
   "metadata": {},
   "source": [
    "## 3. Affichage du nombre de visite unique par canaux d'acquisation"
   ]
  },
  {
   "cell_type": "code",
   "execution_count": null,
   "id": "afd47d0f-e99c-4429-8113-ef111a61e02f",
   "metadata": {},
   "outputs": [],
   "source": [
    "logs_before.groupby(by=[\"referrerTypeName\"]).agg({\"idVisit\": \"nunique\"})"
   ]
  },
  {
   "cell_type": "code",
   "execution_count": null,
   "id": "ef199dbc-633f-4e8a-a284-cda2e9f2dc0f",
   "metadata": {},
   "outputs": [],
   "source": [
    "logs_after.groupby(by=[\"referrerTypeName\"]).agg({\"idVisit\": \"nunique\"})"
   ]
  },
  {
   "cell_type": "markdown",
   "id": "3a0509eb-344d-41b1-9b31-7ed5b3318bb9",
   "metadata": {},
   "source": [
    "## 4. Traitement pour le 10 mai 2023 au 10 juin 2023"
   ]
  },
  {
   "cell_type": "code",
   "execution_count": null,
   "id": "b1b38b41-1808-42cf-a1b0-8aa020647625",
   "metadata": {},
   "outputs": [],
   "source": [
    "# récupération seulement des events `visit_content`\n",
    "\n",
    "logs_before_only_visit_content = logs_before[logs_before[\"type\"] == \"visit_content\"] "
   ]
  },
  {
   "cell_type": "code",
   "execution_count": null,
   "id": "c77e2fb8-6c15-47c7-a1ff-f6589f8d8ef8",
   "metadata": {},
   "outputs": [],
   "source": [
    "# récuperation des urls qui auto-réfèrent cdtn\n",
    "\n",
    "logs_before_only_from_cdtn = logs_before_only_visit_content[logs_before_only_visit_content['referrerUrl'].str.match('^https://code.travail.gouv.fr', na=False)]"
   ]
  },
  {
   "cell_type": "code",
   "execution_count": null,
   "id": "0d8b25c3-c553-45db-850a-fd20503c0fb4",
   "metadata": {},
   "outputs": [],
   "source": [
    "# Affichage du nombre de `visit_content` qui contiennent des auto lien referrer cdtn\n",
    "\n",
    "logs_before_only_from_cdtn[\"url\"].count()"
   ]
  },
  {
   "cell_type": "code",
   "execution_count": null,
   "id": "f5b99c08-6fdd-4057-be80-1aaca80e22ca",
   "metadata": {},
   "outputs": [],
   "source": [
    "logs_before_only_from_cdtn_transformed = logs_before_only_from_cdtn.assign(slugPart=lambda x: x.referrerUrl.str.split('/').str[3].str.split('#').str[0].str.split('?').str[0])"
   ]
  },
  {
   "cell_type": "code",
   "execution_count": null,
   "id": "4340b636-aa63-4662-b6dc-767e30b404a1",
   "metadata": {},
   "outputs": [],
   "source": [
    "logs_before_only_from_cdtn_transformed"
   ]
  },
  {
   "cell_type": "code",
   "execution_count": null,
   "id": "b39f94a3-83e9-438b-99d0-6228af39f529",
   "metadata": {},
   "outputs": [],
   "source": [
    "# Si on aggrège par slug : \n",
    "logs_before_only_from_cdtn_transformed.groupby(by=[\"slugPart\"]).size().sort_values(ascending=False)"
   ]
  },
  {
   "cell_type": "code",
   "execution_count": null,
   "id": "84d28f33-335f-4540-83e3-3d0cd3fec5c1",
   "metadata": {},
   "outputs": [],
   "source": [
    "# Dans le cas, où on groupe par idVisit unique\n",
    "logs_before_only_from_cdtn_transformed.groupby(by=[\"slugPart\"]).agg({\"idVisit\": \"nunique\"}).sort_values(by=[\"idVisit\"], ascending=False)"
   ]
  },
  {
   "cell_type": "markdown",
   "id": "7ac54131-719d-4fda-ac28-8ec48b2e8798",
   "metadata": {},
   "source": [
    "## 5. Traitement pour le 14 juin 2023 au 14 juillet 2023"
   ]
  },
  {
   "cell_type": "code",
   "execution_count": null,
   "id": "17177958-3476-4f97-b093-ee1051aab009",
   "metadata": {},
   "outputs": [],
   "source": [
    "# récupération seulement des events `visit_content`\n",
    "\n",
    "logs_after_only_visit_content = logs_after[logs_after[\"type\"] == \"visit_content\"] "
   ]
  },
  {
   "cell_type": "code",
   "execution_count": null,
   "id": "a305c0e1-1a42-4f2c-ab9f-587b477845f2",
   "metadata": {},
   "outputs": [],
   "source": [
    "# récuperation des urls qui auto-réfèrent cdtn\n",
    "\n",
    "logs_after_only_from_cdtn = logs_after_only_visit_content[logs_after_only_visit_content['referrerUrl'].str.match('^https://code.travail.gouv.fr', na=False)]"
   ]
  },
  {
   "cell_type": "code",
   "execution_count": null,
   "id": "48a03a82-2776-4791-b5b6-404dd4cf1d64",
   "metadata": {},
   "outputs": [],
   "source": [
    "# Affichage du nombre de `visit_content` qui contiennent des auto lien referrer cdtn\n",
    "\n",
    "logs_after_only_from_cdtn[\"url\"].count()"
   ]
  },
  {
   "cell_type": "code",
   "execution_count": null,
   "id": "3965aac1-f121-42b0-ad79-6b79df3996ce",
   "metadata": {},
   "outputs": [],
   "source": [
    "logs_after_only_from_cdtn_transformed = logs_after_only_from_cdtn.assign(slugPart=lambda x: x.referrerUrl.str.split('/').str[3].str.split('#').str[0].str.split('?').str[0])"
   ]
  },
  {
   "cell_type": "code",
   "execution_count": null,
   "id": "6224687b-fba3-4a95-895d-1f3ae6e0bd4e",
   "metadata": {},
   "outputs": [],
   "source": [
    "logs_after_only_from_cdtn_transformed"
   ]
  },
  {
   "cell_type": "code",
   "execution_count": null,
   "id": "f00f216d",
   "metadata": {},
   "outputs": [],
   "source": [
    "# Si on aggrège par slug : \n",
    "logs_after_only_from_cdtn_transformed.groupby(by=[\"slugPart\"]).size().sort_values(ascending=False)"
   ]
  },
  {
   "cell_type": "code",
   "execution_count": null,
   "id": "86fdc3e2-5192-493a-93c0-fc3b032c884a",
   "metadata": {},
   "outputs": [],
   "source": [
    "# Dans le cas, où on groupe par idVisit unique\n",
    "logs_after_only_from_cdtn_transformed.groupby(by=[\"slugPart\"]).agg({\"idVisit\": \"nunique\"}).sort_values(by=[\"idVisit\"], ascending=False)"
   ]
  }
 ],
 "metadata": {
  "kernelspec": {
   "display_name": "Python 3 (ipykernel)",
   "language": "python",
   "name": "python3"
  }
 },
 "nbformat": 4,
 "nbformat_minor": 5
}
