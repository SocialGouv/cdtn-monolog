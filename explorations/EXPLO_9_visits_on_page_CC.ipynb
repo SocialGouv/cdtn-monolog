{
 "cells": [
  {
   "cell_type": "markdown",
   "id": "47538798",
   "metadata": {},
   "source": [
    "# Parmi les visiteurs de pages CC combien utilisent la partie « articles de la convention collective »\n",
    "\n",
    "**Objectif** : Parmi les visiteurs des pages CC (page qui contiennent «  /convention-collective/ » dans l’url) : \n",
    "- combien cliquent sur les accordéons qui sont dans la partie « Articles de la convention collective » : \n",
    "- combien cliquent sur les « tuiles articles » qui amènent sur légifrance : \n",
    "\n",
    "\n",
    "## On commence par le chargement des données"
   ]
  },
  {
   "cell_type": "code",
   "execution_count": null,
   "id": "698b8ae5",
   "metadata": {},
   "outputs": [],
   "source": [
    "import pandas as pd\n",
    "import numpy as np\n",
    "import time\n",
    "import json\n",
    "import math\n",
    "from tqdm.notebook import tqdm\n",
    "import plotly.express as px\n",
    "import plotly.graph_objects as go\n",
    "from datetime import datetime\n",
    "from src.elasticsearch_connector import ElasticsearchConnector\n",
    "#from typing import List, Dict\n",
    "\n",
    "tqdm.pandas()\n",
    "\n",
    "\n",
    "pd.set_option('display.max_columns', 100)\n",
    "pd.set_option('display.max_rows', 100)\n",
    "pd.set_option('display.width', 200)"
   ]
  },
  {
   "cell_type": "markdown",
   "id": "f10a291f",
   "metadata": {},
   "source": [
    "## Si on veut lire en requêtant Elastic Search"
   ]
  },
  {
   "cell_type": "code",
   "execution_count": null,
   "id": "e50ba81f",
   "metadata": {},
   "outputs": [],
   "source": [
    "es_connector = ElasticsearchConnector(env='monolog')\n",
    "\n",
    "   \n",
    "QUERY = {\n",
    "  \"query\": {\n",
    "    \"bool\": {\n",
    "      \"must\": [\n",
    "        {\n",
    "          \"bool\": {\n",
    "            \"should\": [\n",
    "              {\n",
    "                \"prefix\": {\n",
    "                  \"url\": \"https://code.travail.gouv.fr/convention-collective/\"\n",
    "                }\n",
    "              },\n",
    "              {\n",
    "                \"term\": {\n",
    "                  \"type\": \"outlink\"\n",
    "                }\n",
    "              }\n",
    "            ]\n",
    "          }\n",
    "        },\n",
    "        {\n",
    "          \"range\": {\n",
    "            \"logfile\": {\n",
    "              \"gte\": \"2022-07-01\",\n",
    "              \"lt\": \"2022-11-01\"\n",
    "            }\n",
    "          }\n",
    "        }\n",
    "      ]\n",
    "    }\n",
    "  }\n",
    "}"
   ]
  },
  {
   "cell_type": "code",
   "execution_count": null,
   "id": "2a71fd7a",
   "metadata": {
    "scrolled": true
   },
   "outputs": [],
   "source": [
    "logs = es_connector.execute_query(QUERY, \"logs-new\")"
   ]
  },
  {
   "cell_type": "markdown",
   "id": "d1bbaec8",
   "metadata": {},
   "source": [
    "# Début de l'exploration\n",
    "\n",
    "## 1. Nombre de visites sur les pages convention collective"
   ]
  },
  {
   "cell_type": "markdown",
   "id": "73172da8",
   "metadata": {},
   "source": [
    "### Comptage du nombre de visiteurs uniques sur ces pages"
   ]
  },
  {
   "cell_type": "code",
   "execution_count": null,
   "id": "8d3f6f73",
   "metadata": {},
   "outputs": [],
   "source": [
    "unique_visits = logs[logs['url'].str.startswith('https://code.travail.gouv.fr/convention-collective/')].idVisit.nunique()\n",
    "unique_visits"
   ]
  },
  {
   "cell_type": "markdown",
   "id": "1c92d64b",
   "metadata": {},
   "source": [
    "## 2. Nombre de click sur un menu déroulant article de convention collective \n",
    "\n",
    "On va compter le nombre de click sur `pagecc_clicktheme`"
   ]
  },
  {
   "cell_type": "code",
   "execution_count": null,
   "id": "903399d6",
   "metadata": {
    "scrolled": true
   },
   "outputs": [],
   "source": [
    "nb_clicks_pagecc_clicktheme = logs[\n",
    "    (logs['type']=='pagecc_clicktheme')\n",
    "].idVisit.nunique()\n",
    "nb_clicks_pagecc_clicktheme"
   ]
  },
  {
   "cell_type": "markdown",
   "id": "8a9d2d3d",
   "metadata": {},
   "source": [
    "## 3. Events de sortie\n",
    "\n",
    "Le problème c'est qu'on a pas les évents de sorties"
   ]
  },
  {
   "cell_type": "code",
   "execution_count": null,
   "id": "748fc0e3",
   "metadata": {},
   "outputs": [],
   "source": [
    "visits_with_clicktheme = logs.groupby(by='idVisit').apply(lambda g: 'pagecc_clicktheme' in set(g.type))\n",
    "visits_with_clicktheme.name = 'clicktheme'"
   ]
  },
  {
   "cell_type": "code",
   "execution_count": null,
   "id": "e3139ba8",
   "metadata": {},
   "outputs": [],
   "source": [
    "visits_with_outlink = logs[logs['url'].str.startswith('https://legifrance.gouv.fr')]\\\n",
    "  .groupby(by='idVisit')\\\n",
    "  .apply(lambda g: 'outlink' in set(g.type))\n",
    "visits_with_outlink.name = 'outlink'\n",
    "visits_with_outlink"
   ]
  },
  {
   "cell_type": "code",
   "execution_count": null,
   "id": "f472ec2b",
   "metadata": {},
   "outputs": [],
   "source": [
    "visits_with_clicktheme_and_outlink = visits_with_clicktheme\\\n",
    "  .to_frame()\\\n",
    "  .merge(visits_with_outlink, left_index=True, right_index=True)\\\n",
    "  .apply(lambda x: x.outlink and x.clicktheme, axis = 1)\\\n",
    "  .value_counts().iloc[1]\n",
    "visits_with_clicktheme_and_outlink"
   ]
  },
  {
   "cell_type": "markdown",
   "id": "dacc21fb",
   "metadata": {},
   "source": [
    "### Présentation Graphique du résultat"
   ]
  },
  {
   "cell_type": "code",
   "execution_count": null,
   "id": "5b18218e",
   "metadata": {},
   "outputs": [],
   "source": [
    "data = dict(\n",
    "    number=[unique_visits, nb_clicks_pagecc_clicktheme, visits_with_clicktheme_and_outlink],\n",
    "    stage=[\"Total de visites avec au moins une CC visitée\", \"Au moins un click sur un accordéon\", \"Au moins un départ du site sur legifrance\"]\n",
    ")\n",
    "fig = px.funnel(data, x='number', y='stage')\n",
    "fig.show()"
   ]
  }
 ],
 "metadata": {
  "kernelspec": {
   "display_name": "Python 3 (ipykernel)",
   "language": "python",
   "name": "python3"
  },
  "language_info": {
   "codemirror_mode": {
    "name": "ipython",
    "version": 3
   },
   "file_extension": ".py",
   "mimetype": "text/x-python",
   "name": "python",
   "nbconvert_exporter": "python",
   "pygments_lexer": "ipython3",
   "version": "3.9.16"
  }
 },
 "nbformat": 4,
 "nbformat_minor": 5
}
