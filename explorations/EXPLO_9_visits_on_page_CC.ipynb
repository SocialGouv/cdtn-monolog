{
 "cells": [
  {
   "cell_type": "markdown",
   "id": "027350a0",
   "metadata": {},
   "source": [
    "# Parmi les visiteurs de pages CC combien utilisent la partie « articles de la convention collective »\n",
    "\n",
    "**Objectif** : Parmi les visiteurs des pages CC (page qui contiennent «  /convention-collective/ » dans l’url) : \n",
    "- combien cliquent sur les accordéons qui sont dans la partie « Articles de la convention collective » : \n",
    "- combien cliquent sur les « tuiles articles » qui amènent sur légifrance : \n",
    "\n",
    "\n",
    "## On commence par le chargement des données"
   ]
  },
  {
   "cell_type": "code",
   "execution_count": null,
   "id": "82200ff7",
   "metadata": {},
   "outputs": [],
   "source": [
    "import pandas as pd\n",
    "import numpy as np\n",
    "import time\n",
    "import json\n",
    "import math\n",
    "from tqdm.notebook import tqdm\n",
    "import plotly.express as px\n",
    "import plotly.graph_objects as go\n",
    "from datetime import datetime\n",
    "from src.elasticsearch_connector import ElasticsearchConnector\n",
    "#from typing import List, Dict\n",
    "\n",
    "tqdm.pandas()\n",
    "\n",
    "\n",
    "pd.set_option('display.max_columns', 100)\n",
    "pd.set_option('display.max_rows', 100)\n",
    "pd.set_option('display.width', 200)"
   ]
  },
  {
   "cell_type": "markdown",
   "id": "47491fab",
   "metadata": {},
   "source": [
    "## Si on veut lire en requêtant Elastic Search"
   ]
  },
  {
   "cell_type": "code",
   "execution_count": null,
   "id": "2c629b02",
   "metadata": {},
   "outputs": [],
   "source": [
    "es_connector = ElasticsearchConnector(env='monolog')\n",
    "\n",
    "QUERY = {\n",
    "  \"query\": {\n",
    "    \"bool\": { \n",
    "      \"must\": [\n",
    "        {\n",
    "          \"prefix\": {\n",
    "            \"url\": \"https://code.travail.gouv.fr/convention-collective/\" \n",
    "          }\n",
    "        },\n",
    "        {\n",
    "          \"range\": {\n",
    "           \"logfile\": {\n",
    "              \"gte\": \"2022-07-01\",\n",
    "              \"lt\": \"2023-11-01\"\n",
    "           }\n",
    "          }\n",
    "        }\n",
    "      ]\n",
    "    }\n",
    "  }\n",
    "}"
   ]
  },
  {
   "cell_type": "code",
   "execution_count": null,
   "id": "4133dbca",
   "metadata": {
    "scrolled": true
   },
   "outputs": [],
   "source": [
    "logs = es_connector.execute_query(QUERY, \"logs-new\")"
   ]
  },
  {
   "cell_type": "markdown",
   "id": "dd3e9deb",
   "metadata": {},
   "source": [
    "# Début de l'exploration du funnel pour l'indemnite licenciement\n",
    "## 1. Nombre de visites sur les pages convention collective"
   ]
  },
  {
   "cell_type": "markdown",
   "id": "a8e0e07b",
   "metadata": {},
   "source": [
    "### Comptage du nombre de visiteurs uniques sur ces pages"
   ]
  },
  {
   "cell_type": "code",
   "execution_count": null,
   "id": "386231ce",
   "metadata": {},
   "outputs": [],
   "source": [
    "unique_visits = logs.idVisit.nunique()\n",
    "unique_visits"
   ]
  },
  {
   "attachments": {},
   "cell_type": "markdown",
   "id": "25a2a06e",
   "metadata": {},
   "source": [
    "## 2. Nombre de click sur un menu déroulant article de convention collective \n",
    "\n",
    "On va compter le nombre de click sur `pagecc_clicktheme`"
   ]
  },
  {
   "cell_type": "code",
   "execution_count": null,
   "id": "8e7299ea",
   "metadata": {
    "scrolled": true
   },
   "outputs": [],
   "source": [
    "nb_clicks_pagecc_clicktheme = logs[\n",
    "    (logs['type']=='pagecc_clicktheme')\n",
    "].idVisit.nunique()\n",
    "nb_clicks_pagecc_clicktheme"
   ]
  },
  {
   "attachments": {},
   "cell_type": "markdown",
   "id": "368f13ff",
   "metadata": {},
   "source": [
    "## 3. Events de sortie\n",
    "\n",
    "Le problème c'est qu'on a pas les évents de sorties"
   ]
  },
  {
   "cell_type": "code",
   "execution_count": null,
   "id": "77a67404",
   "metadata": {},
   "outputs": [],
   "source": []
  },
  {
   "cell_type": "markdown",
   "id": "dc88b8f0",
   "metadata": {},
   "source": [
    "### Première étape"
   ]
  },
  {
   "cell_type": "code",
   "execution_count": null,
   "id": "cd381df4",
   "metadata": {},
   "outputs": [],
   "source": [
    "visits_on_contrib_without_idcc = logs_april_contrib_without_duplicates[\n",
    "    logs_april_contrib_without_duplicates['url'].str.match('^https://code.travail.gouv.fr/contribution/[a-zA-Z]+', \n",
    "                                                     na=False)\n",
    "]"
   ]
  },
  {
   "cell_type": "code",
   "execution_count": null,
   "id": "3767cb69",
   "metadata": {},
   "outputs": [],
   "source": [
    "nb_total_visits_on_contrib_without_idcc = visits_on_contrib_without_idcc.type.value_counts()['visit_content']\n",
    "nb_total_visits_on_contrib_without_idcc"
   ]
  },
  {
   "cell_type": "markdown",
   "id": "8218ceb2",
   "metadata": {},
   "source": [
    "### Deuxième étape"
   ]
  },
  {
   "cell_type": "code",
   "execution_count": null,
   "id": "f6da83f9",
   "metadata": {},
   "outputs": [],
   "source": [
    "cc_select_on_contrib_without_idcc = visits_on_contrib_without_idcc.type.value_counts()['cc_select']\n",
    "cc_select_on_contrib_without_idcc"
   ]
  },
  {
   "cell_type": "markdown",
   "id": "7df6ee2f",
   "metadata": {},
   "source": [
    "### Présentation des résultats"
   ]
  },
  {
   "cell_type": "code",
   "execution_count": null,
   "id": "431f3aed",
   "metadata": {
    "scrolled": true
   },
   "outputs": [],
   "source": [
    "print(f\"{round(( cc_select_on_contrib_without_idcc) / nb_total_visits_on_contrib_without_idcc * 100 , 2)} %\")"
   ]
  },
  {
   "cell_type": "markdown",
   "id": "cfa6bf19",
   "metadata": {},
   "source": [
    "### Présentation Graphique du résultat"
   ]
  },
  {
   "cell_type": "code",
   "execution_count": null,
   "id": "dfc1f30b",
   "metadata": {},
   "outputs": [],
   "source": []
  }
 ],
 "metadata": {
  "kernelspec": {
   "display_name": "Python 3 (ipykernel)",
   "language": "python",
   "name": "python3"
  },
  "language_info": {
   "codemirror_mode": {
    "name": "ipython",
    "version": 3
   },
   "file_extension": ".py",
   "mimetype": "text/x-python",
   "name": "python",
   "nbconvert_exporter": "python",
   "pygments_lexer": "ipython3",
   "version": "3.10.10"
  }
 },
 "nbformat": 4,
 "nbformat_minor": 5
}
