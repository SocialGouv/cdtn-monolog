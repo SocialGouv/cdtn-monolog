{
 "cells": [
  {
   "cell_type": "markdown",
   "id": "3506335e",
   "metadata": {},
   "source": [
    "# KPI : Pourcentage de personnes qui obtiennent un résultat conventionnel dans les pages personnalisables (contributions)\n",
    "\n",
    "**Définition** : Part des personnes qui sélectionnent une CC traitée dans les pages personnalisables par rapport au nombre total de personnes qui consultent des pages personnalisables\n",
    "\n",
    "**Formule** : (Nb de visites sur contributions + CC select dans les contributions)/(Nb de visites sur contributions)*100"
   ]
  },
  {
   "cell_type": "code",
   "execution_count": null,
   "id": "5c35ae28",
   "metadata": {},
   "outputs": [],
   "source": [
    "import pandas as pd\n",
    "import time\n",
    "import json\n",
    "import math\n",
    "#from tqdm.notebook import tqdm\n",
    "#import plotly.express as px\n",
    "#import plotly.graph_objects as go\n",
    "#from typing import List, Dict\n",
    "\n",
    "\n",
    "pd.set_option('display.max_columns', 100)\n",
    "pd.set_option('display.max_rows', 100)"
   ]
  },
  {
   "cell_type": "code",
   "execution_count": null,
   "id": "56f4b484",
   "metadata": {},
   "outputs": [],
   "source": [
    "from query_elastic_search import load_file_if_exists_or_execute_query"
   ]
  },
  {
   "cell_type": "code",
   "execution_count": null,
   "id": "1b85f980",
   "metadata": {},
   "outputs": [],
   "source": [
    "QUERY = {\n",
    "    \"query\": {\n",
    "        \"bool\": { \n",
    "          \"must\": [\n",
    "            {\n",
    "              \"prefix\": {\n",
    "                \"url\": \"https://code.travail.gouv.fr/contribution/\" \n",
    "              }\n",
    "            },\n",
    "     #       {\n",
    "     #         \"range\": {\n",
    "     #          \"lastActionDateTime\": {\n",
    "     #             \"gte\": \"2022-04-01 00:00:00\",\n",
    "     #             \"lt\": \"2022-05-01 00:00:00\"\n",
    "     #          }\n",
    "     #         }\n",
    "     #       },\n",
    "            {\n",
    "              \"range\": {\n",
    "               \"logfile\": {\n",
    "                  \"gte\": \"2022-04-01\",\n",
    "                  \"lt\": \"2022-05-01\"\n",
    "               }\n",
    "              }\n",
    "            }\n",
    "          ]\n",
    "        }\n",
    "      }\n",
    "}"
   ]
  },
  {
   "cell_type": "code",
   "execution_count": null,
   "id": "dbb6e714",
   "metadata": {},
   "outputs": [],
   "source": [
    "logs_contrib = load_file_if_exists_or_execute_query(\"\", QUERY)"
   ]
  },
  {
   "cell_type": "markdown",
   "id": "9db14d32",
   "metadata": {},
   "source": [
    "## on peut utiliser ce jeu de données si déjà DL via la commande retrieve de monolog\n",
    "from join_multiple_file import pd_read_pattern, PATH_CDTN_MONOLOG\n",
    "\n",
    "logs_contrib = pd_read_pattern(PATH_CDTN_MONOLOG + \"/data-all-logs-april/*\")\n",
    "logs_contrib = logs_contrib[\n",
    "    logs_contrib['url'].str.match('^https://code.travail.gouv.fr/contribution/', \n",
    "                                                     na=False)\n",
    "].copy()"
   ]
  },
  {
   "cell_type": "code",
   "execution_count": null,
   "id": "22e92c54",
   "metadata": {},
   "outputs": [],
   "source": [
    "logs_contrib.shape"
   ]
  },
  {
   "cell_type": "code",
   "execution_count": null,
   "id": "37f1af0a",
   "metadata": {},
   "outputs": [],
   "source": [
    "logs_contrib.head()"
   ]
  },
  {
   "cell_type": "code",
   "execution_count": null,
   "id": "fb979b3c",
   "metadata": {},
   "outputs": [],
   "source": [
    "logs_contrib['url'] = logs_contrib['url'].str.split('#').str[0]"
   ]
  },
  {
   "cell_type": "code",
   "execution_count": null,
   "id": "f402d335",
   "metadata": {},
   "outputs": [],
   "source": [
    "logs_contrib_without_duplicates = logs_contrib.drop_duplicates(subset=['idVisit', 'url', 'type']).copy()"
   ]
  },
  {
   "cell_type": "code",
   "execution_count": null,
   "id": "ee38e2da",
   "metadata": {},
   "outputs": [],
   "source": [
    "logs_contrib_without_duplicates.shape[0]"
   ]
  },
  {
   "cell_type": "markdown",
   "id": "1f4f8488",
   "metadata": {},
   "source": [
    "# 3.1\n",
    "Définition : Part des personnes qui sélectionnent une CC dans les pages personnalisables par rapport au nombre total de personnes qui consultent des pages personnalisables (en excluant celles qui ont un n°IDCC dans l'url)\n",
    "\n",
    "Formule : CC select dans les contributions/Nb de visites sur contributions (en excluant celles qui ont un n°IDCC dans l'url)*100"
   ]
  },
  {
   "cell_type": "markdown",
   "id": "6defb992",
   "metadata": {},
   "source": [
    "### On commence par le dénominateur : les visites sur les pages contribution sans IDCC dans l'url"
   ]
  },
  {
   "cell_type": "code",
   "execution_count": null,
   "id": "92206de6",
   "metadata": {},
   "outputs": [],
   "source": [
    "visits_on_contrib_without_idcc = logs_contrib_without_duplicates[\n",
    "    logs_contrib_without_duplicates['url'].str.match('^https://code.travail.gouv.fr/contribution/[a-zA-Z]+', \n",
    "                                                     na=False)\n",
    "]"
   ]
  },
  {
   "cell_type": "code",
   "execution_count": null,
   "id": "8a5e0666",
   "metadata": {},
   "outputs": [],
   "source": [
    "nb_total_visits_on_contrib_without_idcc = visits_on_contrib_without_idcc.type.value_counts()['visit_content']\n",
    "nb_total_visits_on_contrib_without_idcc"
   ]
  },
  {
   "cell_type": "markdown",
   "id": "e5c12785",
   "metadata": {},
   "source": [
    "### Numérateur : CC select dans les contributions"
   ]
  },
  {
   "cell_type": "code",
   "execution_count": null,
   "id": "ba5d4c05",
   "metadata": {},
   "outputs": [],
   "source": [
    "cc_select_on_contrib_without_idcc = visits_on_contrib_without_idcc.type.value_counts()['cc_select']\n",
    "cc_select_on_contrib_without_idcc"
   ]
  },
  {
   "cell_type": "markdown",
   "id": "365fa443",
   "metadata": {},
   "source": [
    "### Calcul du Pourcentage de personnes qui selectionne une CC dans les pages non personnalisées"
   ]
  },
  {
   "cell_type": "code",
   "execution_count": null,
   "id": "033edc72",
   "metadata": {},
   "outputs": [],
   "source": [
    "print(f\"{round(( cc_select_on_contrib_without_idcc) / nb_total_visits_on_contrib_without_idcc * 100 , 2)} %\")"
   ]
  },
  {
   "cell_type": "markdown",
   "id": "d5ed7699",
   "metadata": {},
   "source": [
    "# 3.2 \n",
    "Définition : Part des personnes qui consultent une pages personnalisable personnalisée (soit par un CC select soit en arrivant direct sur une page personnalisée avec une recherche internet) par rapport au nombre total de personnes qui consultent des pages personnalisables (= toutes les url qui commencent par \"/contribution\" = en incluant celles qui ont un n°IDCC dans l'url)\n",
    "\n",
    "Formule : (Somme des visites de url qui commencent par chiffre + CC select dans les pages contribution)/Somme des visites sur toutes les url qui commencent par \"/contribution\""
   ]
  },
  {
   "cell_type": "markdown",
   "id": "9e6f6147",
   "metadata": {},
   "source": [
    "### On va commencer par trouver les visites sur les pages contribution (dénominateur)"
   ]
  },
  {
   "cell_type": "code",
   "execution_count": null,
   "id": "4e1d326c",
   "metadata": {},
   "outputs": [],
   "source": [
    "nb_total_visits_on_contrib = logs_contrib_without_duplicates.type.value_counts()['visit_content']\n",
    "nb_total_visits_on_contrib"
   ]
  },
  {
   "cell_type": "markdown",
   "id": "cef4cac4",
   "metadata": {},
   "source": [
    "### Comptons le nombre de visites sur les pages personnalisées "
   ]
  },
  {
   "cell_type": "code",
   "execution_count": null,
   "id": "7a81b1f2",
   "metadata": {},
   "outputs": [],
   "source": [
    "logs_on_cc_contrib = logs_contrib_without_duplicates[\n",
    "    (logs_contrib_without_duplicates['url'].str.match('^https://code.travail.gouv.fr/contribution/[0-9]+', na=False)) &\n",
    "    (logs_contrib_without_duplicates['type']==\"visit_content\")\n",
    "].copy()\n",
    "logs_on_cc_contrib.head()\n"
   ]
  },
  {
   "cell_type": "code",
   "execution_count": null,
   "id": "6303a0fa",
   "metadata": {},
   "outputs": [],
   "source": [
    "nb_cc_contrib = logs_on_cc_contrib.shape[0]\n",
    "nb_cc_contrib"
   ]
  },
  {
   "cell_type": "markdown",
   "id": "dcdc1cea",
   "metadata": {},
   "source": [
    "### Comptons le nombre de cc_select sur les pages contrib"
   ]
  },
  {
   "cell_type": "code",
   "execution_count": null,
   "id": "f7e1f205",
   "metadata": {},
   "outputs": [],
   "source": [
    "nb_cc_select_on_contrib = logs_contrib_without_duplicates.type.value_counts()['cc_select']\n",
    "nb_cc_select_on_contrib"
   ]
  },
  {
   "cell_type": "markdown",
   "id": "c89b85b4",
   "metadata": {},
   "source": [
    "## Calcul du Pourcentage de personnes qui obtiennent un résultat conventionnel dans les pages personnalisables "
   ]
  },
  {
   "cell_type": "code",
   "execution_count": null,
   "id": "f1ae91fa",
   "metadata": {},
   "outputs": [],
   "source": [
    "round((nb_cc_contrib + nb_cc_select_on_contrib) / nb_total_visits_on_contrib * 100 , 2)"
   ]
  },
  {
   "cell_type": "code",
   "execution_count": null,
   "id": "8837812b",
   "metadata": {},
   "outputs": [],
   "source": [
    "round(( nb_cc_select_on_contrib) / nb_total_visits_on_contrib * 100 , 2)"
   ]
  },
  {
   "cell_type": "code",
   "execution_count": null,
   "id": "0cafb10d",
   "metadata": {},
   "outputs": [],
   "source": [
    "round((nb_cc_contrib ) / nb_total_visits_on_contrib * 100 , 2)"
   ]
  },
  {
   "cell_type": "code",
   "execution_count": null,
   "id": "256d90bc",
   "metadata": {},
   "outputs": [],
   "source": []
  }
 ],
 "metadata": {
  "kernelspec": {
   "display_name": "explorations-cdtn",
   "language": "python",
   "name": "explorations-cdtn"
  },
  "language_info": {
   "codemirror_mode": {
    "name": "ipython",
    "version": 3
   },
   "file_extension": ".py",
   "mimetype": "text/x-python",
   "name": "python",
   "nbconvert_exporter": "python",
   "pygments_lexer": "ipython3",
   "version": "3.9.13"
  }
 },
 "nbformat": 4,
 "nbformat_minor": 5
}
