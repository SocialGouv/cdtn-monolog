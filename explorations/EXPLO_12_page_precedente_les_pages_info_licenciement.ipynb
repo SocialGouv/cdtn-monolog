{
 "cells": [
  {
   "cell_type": "markdown",
   "id": "f8cb7368",
   "metadata": {},
   "source": [
    "# Quelle est la page précédente des visiteurs des pages info licenciement\n",
    "\n",
    "**Définition** : Ce que je veux faire\n",
    "\n",
    "**Formule** : \n",
    "\n",
    "## On commence par le chargement des données\n",
    "on décommente ce dont on a besoin"
   ]
  },
  {
   "cell_type": "code",
   "execution_count": null,
   "id": "8ced71dd",
   "metadata": {},
   "outputs": [],
   "source": [
    "import pandas as pd\n",
    "import time\n",
    "import json\n",
    "import math\n",
    "from tqdm.notebook import tqdm\n",
    "import plotly.express as px\n",
    "import plotly.graph_objects as go\n",
    "from datetime import datetime\n",
    "from src.elasticsearch_connector import ElasticsearchConnector\n",
    "#from typing import List, Dict\n",
    "tqdm.pandas()\n",
    "\n",
    "\n",
    "pd.set_option('display.max_columns', 100)\n",
    "pd.set_option('display.max_rows', 100)"
   ]
  },
  {
   "cell_type": "markdown",
   "id": "f4807929",
   "metadata": {},
   "source": [
    "## Si on veut lire en requêtant Elastic Search"
   ]
  },
  {
   "cell_type": "code",
   "execution_count": null,
   "id": "f126f387",
   "metadata": {},
   "outputs": [],
   "source": [
    "es_connector = ElasticsearchConnector(env='monolog')\n",
    "\n",
    "QUERY = {\n",
    "  \"query\": {\n",
    "    \"bool\": { \n",
    "      \"must\": [\n",
    "        {\n",
    "          \"range\": {\n",
    "            \"logfile\": {\n",
    "              \"gte\": \"2023-02-01\",\n",
    "              \"lt\": \"2023-04-01\"\n",
    "            }\n",
    "          }\n",
    "        }\n",
    "      ]\n",
    "    }\n",
    "  }\n",
    "}"
   ]
  },
  {
   "cell_type": "code",
   "execution_count": null,
   "id": "aecbd541",
   "metadata": {},
   "outputs": [],
   "source": [
    "logs = es_connector.execute_query(QUERY, \"logs-new\")"
   ]
  },
  {
   "cell_type": "code",
   "execution_count": null,
   "id": "ae200b9d",
   "metadata": {},
   "outputs": [],
   "source": [
    "#pour avoir à éviter de charger les données\n",
    "#logs.to_csv('../../save_fev_marc_data.csv', index=False)\n",
    "\n",
    "# puis au chargement\n",
    "#logs = pd.read_csv('../../save_fev_marc_data.csv')\n"
   ]
  },
  {
   "cell_type": "code",
   "execution_count": null,
   "id": "93a0d10f",
   "metadata": {},
   "outputs": [],
   "source": [
    "logs.shape"
   ]
  },
  {
   "cell_type": "code",
   "execution_count": null,
   "id": "90906474",
   "metadata": {},
   "outputs": [],
   "source": [
    "logs.head()"
   ]
  },
  {
   "cell_type": "code",
   "execution_count": null,
   "id": "3977e171",
   "metadata": {
    "scrolled": true
   },
   "outputs": [],
   "source": [
    "logs.type.value_counts()"
   ]
  },
  {
   "cell_type": "code",
   "execution_count": null,
   "id": "cb4e582d",
   "metadata": {},
   "outputs": [],
   "source": [
    "def format_url_and_get_month_and_datetime_columns(df: pd.DataFrame):\n",
    "    df['url'] = df['url'].str.split('#').str[0].str.split('?').str[0]\n",
    "    df['month'] = pd.DatetimeIndex(df['logfile']).month\n",
    "    df['datetime'] = df['timestamp'].apply(datetime.fromtimestamp)\n",
    "    return df"
   ]
  },
  {
   "cell_type": "code",
   "execution_count": null,
   "id": "a540b781",
   "metadata": {},
   "outputs": [],
   "source": [
    "def clean_dataset_from_useless_rows(df):\n",
    "    df_shortened = df[df['type'].isin(['visit_content', 'outil', 'themes', 'page_information',\n",
    "                                       'search', 'home', 'modeles_courriers', 'outlink'])]\n",
    "    return df_shortened.loc[\n",
    "        (df_shortened['idVisit'].shift() != df_shortened['idVisit']) |\n",
    "        (df_shortened['url'].shift() != df_shortened['url']) |\n",
    "        #(df_shortened['type'].shift() != df_shortened['type']) |\n",
    "        (df_shortened['referrerTypeName'].shift() != df_shortened['referrerTypeName'])\n",
    "    ]"
   ]
  },
  {
   "cell_type": "code",
   "execution_count": null,
   "id": "97e2206e",
   "metadata": {},
   "outputs": [],
   "source": [
    "logs_formated = format_url_and_get_month_and_datetime_columns(logs.copy())\n",
    "logs_cleaned = clean_dataset_from_useless_rows(logs_formated.copy())"
   ]
  },
  {
   "cell_type": "code",
   "execution_count": null,
   "id": "35878ee6",
   "metadata": {},
   "outputs": [],
   "source": [
    "logs_cleaned.shape[0]"
   ]
  },
  {
   "cell_type": "markdown",
   "id": "9ba2c932",
   "metadata": {},
   "source": [
    "# Début de l'explo\n",
    "\n",
    "On va s'y prendre en plusieurs étapes. \n",
    "- Supprimons des données tous les visiteurs qui NE sont PAS allés sur les pages info licenciement\n",
    "- Ordonnons par IdVisit et timestamp nos données\n",
    "- Débarasser des logs inutiles, nous allons dupliquer la colonne url en une colonne url_précédent en la décalant de 1 ligne (en gros l'url précédent est égal à l'url actuel de la ligne précédente)\n",
    "    - cela va créer un souci car le premier url de visite d'un utilisateur sera le dernier url de l'utilisateur précédent. On pourra facilement corriger ça en modifiant le premier url_précédent de chaque utilisateur par le referrer_name de la ligne actuelle. De telle sorte à ce que la première ligne contienne le point d'entrée de l'utilisateur et les lignes suivantes soient composé de l'url de la ligne précédente. Est-ce que c'est clair ? 😅 \n",
    "- Ensuite on voit ce qu'on fait mais on pourrait faire un groupby url et url précédent et count occurences "
   ]
  },
  {
   "cell_type": "markdown",
   "id": "38ca7842",
   "metadata": {},
   "source": [
    "### 1. Suppressions des visiteurs qui NE sont PAS allés sur les pages info licenciement"
   ]
  },
  {
   "cell_type": "code",
   "execution_count": null,
   "id": "5b348bc6",
   "metadata": {},
   "outputs": [],
   "source": [
    "# On priviligie tous les logs pour ne manquer un utilisateur\n",
    "visitors_having_visited_info_licenc = set(logs[\n",
    "    (logs['url'].notna()) & \n",
    "    (logs['url'].str.contains('information/')) &\n",
    "    (logs['url'].str.contains('licenciement'))\n",
    "].idVisit.unique())\n",
    "\n",
    "len(visitors_having_visited_info_licenc)"
   ]
  },
  {
   "cell_type": "code",
   "execution_count": null,
   "id": "421a845b",
   "metadata": {},
   "outputs": [],
   "source": [
    "logs_visitors_having_visited_info_licenc = logs_cleaned[\n",
    "    logs_cleaned['idVisit'].isin(visitors_having_visited_info_licenc)\n",
    "]"
   ]
  },
  {
   "cell_type": "markdown",
   "id": "d6096ad2",
   "metadata": {},
   "source": [
    "### 2. Ordonnons par IdVisit et timestamp nos données"
   ]
  },
  {
   "cell_type": "code",
   "execution_count": null,
   "id": "23f8da61",
   "metadata": {},
   "outputs": [],
   "source": [
    "logs_sorted = logs_visitors_having_visited_info_licenc.sort_values(by=['idVisit', 'timestamp'])"
   ]
  },
  {
   "cell_type": "markdown",
   "id": "8471b90f",
   "metadata": {},
   "source": [
    "### 3. On ajoute une colonne url_précédent"
   ]
  },
  {
   "cell_type": "code",
   "execution_count": null,
   "id": "16bb06ac",
   "metadata": {},
   "outputs": [],
   "source": [
    "logs_sorted['url_précédent'] = logs_sorted['url'].shift()"
   ]
  },
  {
   "cell_type": "code",
   "execution_count": null,
   "id": "11d80609",
   "metadata": {},
   "outputs": [],
   "source": [
    "logs_sorted.head(5)"
   ]
  },
  {
   "cell_type": "code",
   "execution_count": null,
   "id": "733613bd",
   "metadata": {},
   "outputs": [],
   "source": [
    "def update_first_url_precedent_with_refererrName(df):\n",
    "    df.iloc[0, df.columns.get_loc('url_précédent')] = df.iloc[0].referrerName\n",
    "    return df"
   ]
  },
  {
   "cell_type": "code",
   "execution_count": null,
   "id": "097ce124",
   "metadata": {},
   "outputs": [],
   "source": [
    "logs_with_previous_url = logs_sorted\\\n",
    "    .groupby(by='idVisit', group_keys=False)\\\n",
    "    .progress_apply(update_first_url_precedent_with_refererrName)"
   ]
  },
  {
   "cell_type": "code",
   "execution_count": null,
   "id": "92ccccff",
   "metadata": {
    "scrolled": true
   },
   "outputs": [],
   "source": [
    "logs_with_previous_url"
   ]
  },
  {
   "cell_type": "markdown",
   "id": "29908fff",
   "metadata": {},
   "source": [
    "### 4. Ensuite on voit ce qu'on fait mais on pourrait faire un groupby url et url précédent et count occurences "
   ]
  },
  {
   "cell_type": "code",
   "execution_count": null,
   "id": "11fc8ebe",
   "metadata": {},
   "outputs": [],
   "source": []
  }
 ],
 "metadata": {
  "kernelspec": {
   "display_name": "Python 3 (ipykernel)",
   "language": "python",
   "name": "python3"
  },
  "language_info": {
   "codemirror_mode": {
    "name": "ipython",
    "version": 3
   },
   "file_extension": ".py",
   "mimetype": "text/x-python",
   "name": "python",
   "nbconvert_exporter": "python",
   "pygments_lexer": "ipython3",
   "version": "3.10.10"
  }
 },
 "nbformat": 4,
 "nbformat_minor": 5
}
