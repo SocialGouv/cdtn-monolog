{
 "cells": [
  {
   "cell_type": "markdown",
   "id": "3506335e",
   "metadata": {},
   "source": [
    "# Analyse de la proportion de personnes utilisant au moins une fois le moteur de recherches\n",
    "\n",
    "**Définition** : On souhaite avoir la proportion de personnes utilisant au moins une fois le moteur de recherches sur l'ensemble des visiteurs du site\n",
    "\n",
    "**Formule** : \n",
    "\n",
    "## On commence par le chargement des données\n",
    "on décommente ce dont on a besoin"
   ]
  },
  {
   "cell_type": "code",
   "execution_count": null,
   "id": "5c35ae28",
   "metadata": {},
   "outputs": [],
   "source": [
    "import pandas as pd\n",
    "import time\n",
    "import json\n",
    "import math\n",
    "from tqdm.notebook import tqdm\n",
    "import plotly.express as px\n",
    "import plotly.graph_objects as go\n",
    "from datetime import datetime\n",
    "#from typing import List, Dict\n",
    "\n",
    "\n",
    "pd.set_option('display.max_columns', 100)\n",
    "pd.set_option('display.max_rows', 100)"
   ]
  },
  {
   "cell_type": "markdown",
   "id": "17642d56",
   "metadata": {},
   "source": [
    "## Récupération des données dans le dossier contenant les fichiers déjà DL"
   ]
  },
  {
   "cell_type": "code",
   "execution_count": null,
   "id": "464db23e",
   "metadata": {},
   "outputs": [],
   "source": [
    "from join_multiple_file import pd_read_pattern, PATH_CDTN_MONOLOG\n",
    "\n",
    "logs_july = pd_read_pattern(PATH_CDTN_MONOLOG + \"/data-all-logs-july/*\")"
   ]
  },
  {
   "cell_type": "code",
   "execution_count": null,
   "id": "22e92c54",
   "metadata": {},
   "outputs": [],
   "source": [
    "logs_july.shape"
   ]
  },
  {
   "cell_type": "code",
   "execution_count": null,
   "id": "37f1af0a",
   "metadata": {},
   "outputs": [],
   "source": [
    "logs_july.head()"
   ]
  },
  {
   "cell_type": "code",
   "execution_count": null,
   "id": "4fabbf48",
   "metadata": {},
   "outputs": [],
   "source": [
    "def filter_df_startwith_url(df: pd.DataFrame, url):\n",
    "    return df[df['url'].str.match(f'^{url}', na=False)].copy()"
   ]
  },
  {
   "cell_type": "code",
   "execution_count": null,
   "id": "0ea6261f",
   "metadata": {},
   "outputs": [],
   "source": [
    "def format_url_and_get_month_and_datetime_columns(df: pd.DataFrame):\n",
    "    df['url'] = df['url'].str.split('#').str[0].str.split('?').str[0]\n",
    "    df['month'] = pd.DatetimeIndex(df['logfile']).month\n",
    "    df['datetime'] = df['timestamp'].apply(datetime.fromtimestamp)\n",
    "    return df"
   ]
  },
  {
   "cell_type": "code",
   "execution_count": null,
   "id": "dcd9ad8b",
   "metadata": {},
   "outputs": [],
   "source": [
    "def clean_dataset_from_useless_rows(df: pd.DataFrame):\n",
    "    #df = df.drop_duplicates(subset=['idVisit', 'url', 'type']).copy()\n",
    "    return df[df['type'].isin(['visit_content', 'outil', 'themes', 'select_result', 'search', 'home',\n",
    "                                    'pagecc_clickcontrib', 'modeles_courriers'])]"
   ]
  },
  {
   "cell_type": "code",
   "execution_count": null,
   "id": "fb979b3c",
   "metadata": {},
   "outputs": [],
   "source": [
    "logs_july = format_url_and_get_month_and_datetime_columns(logs_july)"
   ]
  },
  {
   "cell_type": "code",
   "execution_count": null,
   "id": "89d682dd",
   "metadata": {},
   "outputs": [],
   "source": [
    "logs = logs_july.copy()"
   ]
  },
  {
   "cell_type": "markdown",
   "id": "1f4f8488",
   "metadata": {},
   "source": [
    "# Explorons les données \n",
    "\n",
    "D'abord on souhaite voir quelles sont les étapes composant une recherche"
   ]
  },
  {
   "cell_type": "code",
   "execution_count": null,
   "id": "3969e0b5",
   "metadata": {},
   "outputs": [],
   "source": [
    "list_user_having_used_search_engine = logs[logs['type']=='search'].idVisit.unique().tolist()"
   ]
  },
  {
   "cell_type": "code",
   "execution_count": null,
   "id": "fd60aef3",
   "metadata": {},
   "outputs": [],
   "source": [
    "# Affichons les parcours utilisateurs des 10 premiers visiteurs de la liste\n",
    "for idVisit in list_user_having_used_search_engine[:10]:\n",
    "    display(logs[logs['idVisit']==idVisit])"
   ]
  },
  {
   "cell_type": "markdown",
   "id": "80aada62",
   "metadata": {},
   "source": [
    "On déduit que les étapes qui composent une recherche sont : \n",
    " - un log de type select_suggestion afin de sélectionner une des sélection pour compléter les mots entrés par l'utilisateur\n",
    " - un log de type search lorsque l'utilisateur tape dans la barre de recherche\n",
    " - un log de type select_result lors de la selection du résultat après avoir utilisé le moteur de recherche"
   ]
  },
  {
   "cell_type": "markdown",
   "id": "6216f213",
   "metadata": {},
   "source": [
    "### Préparation des données"
   ]
  },
  {
   "cell_type": "code",
   "execution_count": null,
   "id": "7a0d2673",
   "metadata": {},
   "outputs": [],
   "source": [
    "logs.head()"
   ]
  },
  {
   "cell_type": "code",
   "execution_count": null,
   "id": "ac93c3c8",
   "metadata": {},
   "outputs": [],
   "source": [
    "logs_wihtout_duplicates = logs.drop_duplicates(subset=['idVisit', 'type']).copy()"
   ]
  },
  {
   "cell_type": "markdown",
   "id": "a86bbb53",
   "metadata": {},
   "source": [
    "### Nombre total de visits"
   ]
  },
  {
   "cell_type": "code",
   "execution_count": null,
   "id": "e8083582",
   "metadata": {},
   "outputs": [],
   "source": [
    "nb_visits = logs_wihtout_duplicates.idVisit.nunique()\n",
    "nb_visits"
   ]
  },
  {
   "cell_type": "markdown",
   "id": "84690df3",
   "metadata": {},
   "source": [
    "### Nombre de sélection de suggestion lors de la recherche sur le moteur"
   ]
  },
  {
   "cell_type": "code",
   "execution_count": null,
   "id": "fd658c1e",
   "metadata": {},
   "outputs": [],
   "source": [
    "nb_visits_with_at_least_one_select_suggestion = logs_wihtout_duplicates.type.value_counts()['select_suggestion']\n",
    "nb_visits_with_at_least_one_select_suggestion"
   ]
  },
  {
   "cell_type": "markdown",
   "id": "f92e8ff1",
   "metadata": {},
   "source": [
    "### Nombre d'utilisateurs ayant utilisés le moteur de recherche"
   ]
  },
  {
   "cell_type": "code",
   "execution_count": null,
   "id": "06753edc",
   "metadata": {},
   "outputs": [],
   "source": [
    "nb_visits_with_at_least_one_search = logs_wihtout_duplicates.type.value_counts()['search']\n",
    "nb_visits_with_at_least_one_search"
   ]
  },
  {
   "cell_type": "markdown",
   "id": "33d1e2ab",
   "metadata": {},
   "source": [
    "### Nombre d'utilisateurs ayant sélectionné un résultat après avoir fait une recherche"
   ]
  },
  {
   "cell_type": "code",
   "execution_count": null,
   "id": "06e449ab",
   "metadata": {},
   "outputs": [],
   "source": [
    "nb_visits_with_at_least_one_select_result = filter_df_startwith_url(\n",
    "    logs_wihtout_duplicates, 'https://code.travail.gouv.fr/recherche').type.value_counts()['select_result']\n",
    "nb_visits_with_at_least_one_select_result"
   ]
  },
  {
   "cell_type": "markdown",
   "id": "447bec1c",
   "metadata": {},
   "source": [
    "### Présentation des résultats"
   ]
  },
  {
   "cell_type": "code",
   "execution_count": null,
   "id": "a18af6c0",
   "metadata": {},
   "outputs": [],
   "source": [
    "def round_2_dec(num, denum):\n",
    "    return round(num / denum, 4)*100"
   ]
  },
  {
   "cell_type": "code",
   "execution_count": null,
   "id": "ece41fd7",
   "metadata": {
    "scrolled": true
   },
   "outputs": [],
   "source": [
    "ratio = pd.DataFrame(\n",
    "    columns = ['name', 'rate'],\n",
    "    data = [\n",
    "        ['Clic sur une suggestion', round_2_dec(nb_visits_with_at_least_one_select_suggestion, nb_visits)],\n",
    "        ['Recherche', round_2_dec(nb_visits_with_at_least_one_search, nb_visits)],\n",
    "        ['Clic sur un resultat', round_2_dec(nb_visits_with_at_least_one_select_result, nb_visits)],\n",
    "    ]\n",
    ")"
   ]
  },
  {
   "cell_type": "markdown",
   "id": "7de090e7",
   "metadata": {},
   "source": [
    "### Présentation Graphique du résultat"
   ]
  },
  {
   "cell_type": "code",
   "execution_count": null,
   "id": "af1539ee",
   "metadata": {},
   "outputs": [],
   "source": [
    "fig = px.histogram(\n",
    "    ratio, x=\"name\", y=\"rate\",\n",
    "    color='name', height=400,\n",
    "    title=\"Taux d'utilisation du moteur de recherche (en %)\"\n",
    ")\n",
    "fig.update_layout(\n",
    "    yaxis_title=\"ratio\",\n",
    "    legend_title=\"Catégories\",\n",
    ")\n",
    "fig.show()"
   ]
  },
  {
   "cell_type": "markdown",
   "id": "c66fd18f",
   "metadata": {},
   "source": [
    "## Nombre de recherches par utilisateurs ayant au moins fait une recherche\n",
    "### Préparation des données"
   ]
  },
  {
   "cell_type": "markdown",
   "id": "8c600330",
   "metadata": {},
   "source": [
    "### Nombre total de visits"
   ]
  },
  {
   "cell_type": "code",
   "execution_count": null,
   "id": "0fc856da",
   "metadata": {},
   "outputs": [],
   "source": [
    "nb_visits = logs[logs['type'].isin(['search', 'select_suggestion'])].idVisit.nunique()\n",
    "nb_visits"
   ]
  },
  {
   "cell_type": "markdown",
   "id": "ffb08d84",
   "metadata": {},
   "source": [
    "### Nombre de sélection de suggestion lors de la recherche sur le moteur"
   ]
  },
  {
   "cell_type": "code",
   "execution_count": null,
   "id": "7381f91d",
   "metadata": {},
   "outputs": [],
   "source": [
    "nb_visits_with_at_least_one_select_suggestion = logs.type.value_counts()['select_suggestion']\n",
    "nb_visits_with_at_least_one_select_suggestion"
   ]
  },
  {
   "cell_type": "markdown",
   "id": "2adf45fe",
   "metadata": {},
   "source": [
    "### Nombre d'utilisateurs ayant utilisés le moteur de recherche"
   ]
  },
  {
   "cell_type": "code",
   "execution_count": null,
   "id": "7e789c97",
   "metadata": {},
   "outputs": [],
   "source": [
    "nb_visits_with_at_least_one_search = logs.type.value_counts()['search']\n",
    "nb_visits_with_at_least_one_search"
   ]
  },
  {
   "cell_type": "markdown",
   "id": "cfe5c3fa",
   "metadata": {},
   "source": [
    "### Nombre d'utilisateurs ayant sélectionné un résultat après avoir fait une recherche"
   ]
  },
  {
   "cell_type": "code",
   "execution_count": null,
   "id": "d663eea2",
   "metadata": {},
   "outputs": [],
   "source": [
    "nb_visits_with_at_least_one_select_result = filter_df_startwith_url(\n",
    "    logs, 'https://code.travail.gouv.fr/recherche').type.value_counts()['select_result']\n",
    "nb_visits_with_at_least_one_select_result"
   ]
  },
  {
   "cell_type": "markdown",
   "id": "3a7624be",
   "metadata": {},
   "source": [
    "### Présentation des résultats"
   ]
  },
  {
   "cell_type": "code",
   "execution_count": null,
   "id": "9fa34ead",
   "metadata": {},
   "outputs": [],
   "source": [
    "def round_2_dec(num, denum):\n",
    "    return round(num / denum, 4)*100"
   ]
  },
  {
   "cell_type": "code",
   "execution_count": null,
   "id": "2b206cd0",
   "metadata": {
    "scrolled": true
   },
   "outputs": [],
   "source": [
    "ratio = pd.DataFrame(\n",
    "    columns = ['name', 'rate'],\n",
    "    data = [\n",
    "        ['Clic sur une suggestion', nb_visits_with_at_least_one_select_suggestion / nb_visits ],\n",
    "        ['Recherche', nb_visits_with_at_least_one_search / nb_visits ],\n",
    "        ['Clic sur un resultat', nb_visits_with_at_least_one_select_result / nb_visits ],\n",
    "    ]\n",
    ")"
   ]
  },
  {
   "cell_type": "markdown",
   "id": "0224fa20",
   "metadata": {},
   "source": [
    "### Présentation Graphique du résultat"
   ]
  },
  {
   "cell_type": "code",
   "execution_count": null,
   "id": "cc4461f1",
   "metadata": {},
   "outputs": [],
   "source": [
    "fig = px.histogram(\n",
    "    ratio, x=\"name\", y=\"rate\",\n",
    "    color='name', height=400,\n",
    "    title=\"Nombre moyen de recherches par utilisateur ayant fait au moins une recherche\"\n",
    ")\n",
    "fig.update_layout(\n",
    "    yaxis_title=\"Nombre de recherches\",\n",
    "    legend_title=\"Catégories\",\n",
    ")\n",
    "fig.show()"
   ]
  },
  {
   "cell_type": "code",
   "execution_count": null,
   "id": "ee7383cf",
   "metadata": {},
   "outputs": [],
   "source": []
  },
  {
   "cell_type": "code",
   "execution_count": null,
   "id": "6074438b",
   "metadata": {},
   "outputs": [],
   "source": []
  }
 ],
 "metadata": {
  "kernelspec": {
   "display_name": "explorations-cdtn",
   "language": "python",
   "name": "explorations-cdtn"
  },
  "language_info": {
   "codemirror_mode": {
    "name": "ipython",
    "version": 3
   },
   "file_extension": ".py",
   "mimetype": "text/x-python",
   "name": "python",
   "nbconvert_exporter": "python",
   "pygments_lexer": "ipython3",
   "version": "3.9.13"
  }
 },
 "nbformat": 4,
 "nbformat_minor": 5
}
