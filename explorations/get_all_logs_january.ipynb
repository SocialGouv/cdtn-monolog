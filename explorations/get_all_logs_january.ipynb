{
 "cells": [
  {
   "cell_type": "markdown",
   "id": "3506335e",
   "metadata": {},
   "source": [
    "# Nom du notebook\n",
    "\n",
    "**Définition** : Ce que je veux faire\n",
    "\n",
    "**Formule** : \n",
    "\n",
    "## On commence par le chargement des données\n",
    "on décommente ce dont on a besoin"
   ]
  },
  {
   "cell_type": "code",
   "execution_count": null,
   "id": "5c35ae28",
   "metadata": {},
   "outputs": [],
   "source": [
    "import pandas as pd\n",
    "import time\n",
    "import json\n",
    "import math\n",
    "from tqdm.notebook import tqdm\n",
    "import plotly.express as px\n",
    "import plotly.graph_objects as go\n",
    "from datetime import datetime\n",
    "from src.elasticsearch_connector import ElasticsearchConnector\n",
    "#from typing import List, Dict\n",
    "\n",
    "\n",
    "pd.set_option('display.max_columns', 100)\n",
    "pd.set_option('display.max_rows', 100)"
   ]
  },
  {
   "cell_type": "code",
   "execution_count": null,
   "id": "464db23e",
   "metadata": {},
   "outputs": [],
   "source": [
    "from join_multiple_file import pd_read_pattern, PATH_CDTN_MONOLOG\n",
    "\n",
    "logs = pd_read_pattern(PATH_CDTN_MONOLOG + \"/data-all-logs-january/*\")"
   ]
  },
  {
   "cell_type": "code",
   "execution_count": null,
   "id": "22e92c54",
   "metadata": {},
   "outputs": [],
   "source": [
    "logs.shape"
   ]
  },
  {
   "cell_type": "code",
   "execution_count": null,
   "id": "37f1af0a",
   "metadata": {},
   "outputs": [],
   "source": [
    "logs.head()"
   ]
  },
  {
   "cell_type": "code",
   "execution_count": null,
   "id": "4fabbf48",
   "metadata": {},
   "outputs": [],
   "source": [
    "def filter_df_startwith_url(df: pd.DataFrame, url):\n",
    "    return df[df['url'].str.match(f'^{url}', na=False)].copy()"
   ]
  },
  {
   "cell_type": "code",
   "execution_count": null,
   "id": "0ea6261f",
   "metadata": {},
   "outputs": [],
   "source": [
    "def format_url_and_get_month_and_datetime_columns(df: pd.DataFrame):\n",
    "    df['url'] = df['url'].str.split('#').str[0].str.split('?').str[0]\n",
    "    df['month'] = pd.DatetimeIndex(df['logfile']).month\n",
    "    df['datetime'] = df['timestamp'].apply(datetime.fromtimestamp)\n",
    "    return df"
   ]
  },
  {
   "cell_type": "code",
   "execution_count": null,
   "id": "dcd9ad8b",
   "metadata": {},
   "outputs": [],
   "source": [
    "def clean_dataset_from_useless_rows(df: pd.DataFrame):\n",
    "    #df = df.drop_duplicates(subset=['idVisit', 'url', 'type']).copy()\n",
    "    return df[df['type'].isin(['visit_content', 'outil', 'themes', 'select_result', 'search', 'home',\n",
    "                                    'pagecc_clickcontrib', 'modeles_courriers'])]"
   ]
  },
  {
   "cell_type": "code",
   "execution_count": null,
   "id": "fb979b3c",
   "metadata": {},
   "outputs": [],
   "source": [
    "logs_april = format_url_and_get_month_and_datetime_columns(logs_april)"
   ]
  },
  {
   "cell_type": "code",
   "execution_count": null,
   "id": "8d543127",
   "metadata": {},
   "outputs": [],
   "source": [
    "logs_april_contrib = filter_df_startwith_url(logs_april, 'https://code.travail.gouv.fr/contribution/')"
   ]
  },
  {
   "cell_type": "code",
   "execution_count": null,
   "id": "f402d335",
   "metadata": {},
   "outputs": [],
   "source": [
    "logs_april_contrib_without_duplicates = logs_april_contrib.drop_duplicates(subset=['idVisit', 'url', 'type']).copy()"
   ]
  },
  {
   "cell_type": "code",
   "execution_count": null,
   "id": "ee38e2da",
   "metadata": {},
   "outputs": [],
   "source": [
    "logs_april_contrib_without_duplicates.shape[0]"
   ]
  }
 ],
 "metadata": {
  "kernelspec": {
   "display_name": "Python 3 (ipykernel)",
   "language": "python",
   "name": "python3"
  },
  "language_info": {
   "codemirror_mode": {
    "name": "ipython",
    "version": 3
   },
   "file_extension": ".py",
   "mimetype": "text/x-python",
   "name": "python",
   "nbconvert_exporter": "python",
   "pygments_lexer": "ipython3",
   "version": "3.9.16"
  }
 },
 "nbformat": 4,
 "nbformat_minor": 5
}
