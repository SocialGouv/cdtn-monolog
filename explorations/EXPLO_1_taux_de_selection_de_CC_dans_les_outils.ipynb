{
 "cells": [
  {
   "cell_type": "markdown",
   "id": "3506335e",
   "metadata": {},
   "source": [
    "# Explo sélection de CC dans les pages outils\n",
    "\n",
    "**Définition** : \n",
    "faire une analyse one shot de :\n",
    "- taux de sélection de CC dans les outil\n",
    "- taux de sortie à l’étape CC \n",
    "\n",
    "**Formule** :\n",
    "- taux de sélection de CC dans les outil (CC select + entreprise selct) / (ccn + info_cc)\n",
    "- taux de sortie à l’étape CC \n",
    "\n",
    "L'idée pour ces 2 points serait de comparer les résultats avant le 28/02/22 et après le 12/03/22 car le nouveau parcours a été mis en ligne le 28 février mais entre le 28 février et le 11 mars il y avait une erreur dans les event \n",
    "\n",
    "Pour analyser l'impact du nouveau parcours à l'étape CC qui a été mis en place le 12/03/22"
   ]
  },
  {
   "cell_type": "code",
   "execution_count": null,
   "id": "5c35ae28",
   "metadata": {},
   "outputs": [],
   "source": [
    "import pandas as pd\n",
    "import time\n",
    "import json\n",
    "import math\n",
    "import numpy as np\n",
    "#from tqdm.notebook import tqdm\n",
    "import plotly.express as px\n",
    "import plotly.graph_objects as go\n",
    "#from typing import List, Dict\n",
    "\n",
    "\n",
    "pd.set_option('display.max_columns', 100)\n",
    "pd.set_option('display.max_rows', 100)"
   ]
  },
  {
   "cell_type": "code",
   "execution_count": null,
   "id": "56f4b484",
   "metadata": {},
   "outputs": [],
   "source": [
    "from query_elastic_search import load_file_if_exists_or_execute_query"
   ]
  },
  {
   "cell_type": "code",
   "execution_count": null,
   "id": "1b85f980",
   "metadata": {},
   "outputs": [],
   "source": [
    "QUERY = {\n",
    "    \"query\": {\n",
    "        \"bool\": { \n",
    "          \"must\": [\n",
    "            {\n",
    "              \"prefix\": {\n",
    "                \"url\": \"https://code.travail.gouv.fr/outils/\" \n",
    "              }\n",
    "            },\n",
    "     #       {\n",
    "     #         \"range\": {\n",
    "     #          \"lastActionDateTime\": {\n",
    "     #             \"gte\": \"2022-04-01 00:00:00\",\n",
    "     #             \"lt\": \"2022-05-01 00:00:00\"\n",
    "     #          }\n",
    "     #         }\n",
    "     #       },\n",
    "            {\n",
    "              \"range\": {\n",
    "               \"logfile\": {\n",
    "                  \"gte\": \"2022-06-01\",\n",
    "                  \"lt\": \"2022-07-01\"\n",
    "               }\n",
    "              }\n",
    "            }\n",
    "          ]\n",
    "        }\n",
    "      }\n",
    "}"
   ]
  },
  {
   "cell_type": "code",
   "execution_count": null,
   "id": "a21c8f28",
   "metadata": {},
   "outputs": [],
   "source": [
    "logs_june = load_file_if_exists_or_execute_query(\"\", QUERY)"
   ]
  },
  {
   "cell_type": "markdown",
   "id": "6eedb3bc",
   "metadata": {},
   "source": [
    "logs_contrib.to_csv('12-21_to_05-22_logs.csv')"
   ]
  },
  {
   "cell_type": "code",
   "execution_count": null,
   "id": "901a7ff6",
   "metadata": {},
   "outputs": [],
   "source": [
    "## on peut utiliser ce jeu de données si déjà DL via la commande retrieve de monolog\n",
    "from join_multiple_file import pd_read_pattern, PATH_CDTN_MONOLOG\n",
    "\n",
    "logs_january = pd_read_pattern(PATH_CDTN_MONOLOG + \"/data-all-logs-january/*\")\n",
    "logs_february = pd_read_pattern(PATH_CDTN_MONOLOG + \"/data-all-logs-february/*\")\n",
    "logs_march = pd_read_pattern(PATH_CDTN_MONOLOG + \"/data-all-logs-march/*\")\n",
    "logs_april = pd_read_pattern(PATH_CDTN_MONOLOG + \"/data-all-logs-april/*\")\n",
    "logs_may = pd_read_pattern(PATH_CDTN_MONOLOG + \"/data-all-logs-may/*\")\n",
    "logs_june = pd_read_pattern(PATH_CDTN_MONOLOG + \"/data-all-logs-june/*\")"
   ]
  },
  {
   "cell_type": "markdown",
   "id": "23a5668f",
   "metadata": {},
   "source": [
    "## Filtrer par logs dans les outils et retirer l'outil dont l'url fini par /outils/convention-collective\n"
   ]
  },
  {
   "cell_type": "code",
   "execution_count": null,
   "id": "e2c41a56",
   "metadata": {},
   "outputs": [],
   "source": [
    "def filter_by_url(df):\n",
    "    return df[ \n",
    "        (df['url'].str.startswith('https://code.travail.gouv.fr/outils/', na=False)) &\n",
    "        (~df['url'].str.startswith('https://code.travail.gouv.fr/outils/convention-collective', na=False))\n",
    "    ].copy() "
   ]
  },
  {
   "cell_type": "code",
   "execution_count": null,
   "id": "0802206d",
   "metadata": {},
   "outputs": [],
   "source": [
    "def clean_column_url(df):\n",
    "    return df['url'].str.split('#').str[0].str.split('?').str[0]"
   ]
  },
  {
   "cell_type": "code",
   "execution_count": null,
   "id": "12188e28",
   "metadata": {},
   "outputs": [],
   "source": [
    "logs_january_filtered = filter_by_url(logs_january)\n",
    "logs_february_filtered = filter_by_url(logs_february)\n",
    "logs_march_filtered = filter_by_url(logs_march)\n",
    "logs_april_filtered = filter_by_url(logs_april)\n",
    "logs_may_filtered = filter_by_url(logs_may)\n",
    "logs_june_filtered = filter_by_url(logs_june)\n",
    "\n",
    "logs_january_filtered['url'] = clean_column_url(logs_january_filtered)\n",
    "logs_february_filtered['url'] = clean_column_url(logs_february_filtered)\n",
    "logs_march_filtered['url'] = clean_column_url(logs_march_filtered)\n",
    "logs_april_filtered['url'] = clean_column_url(logs_april_filtered)\n",
    "logs_may_filtered['url'] = clean_column_url(logs_may_filtered)\n",
    "logs_june_filtered['url'] = clean_column_url(logs_june_filtered)"
   ]
  },
  {
   "cell_type": "markdown",
   "id": "32a1991d",
   "metadata": {},
   "source": [
    "## Analysons les données de janvier et févier :\n",
    "\n",
    "FORMULE POUR LA PERIODE AVANT LE 28/02/22 (même filtres qu'avant) :\n",
    "CC select / (info_cc + CCN)"
   ]
  },
  {
   "cell_type": "code",
   "execution_count": null,
   "id": "78bea12b",
   "metadata": {},
   "outputs": [],
   "source": [
    "# nombre de visiteurs en janvier et février\n",
    "pd.concat([logs_january_filtered, logs_february_filtered])['idVisit'].nunique()"
   ]
  },
  {
   "cell_type": "markdown",
   "id": "4fef01f4",
   "metadata": {},
   "source": [
    "Compter le taux de sélection de CC dans les outils \n",
    ": avant mars"
   ]
  },
  {
   "cell_type": "code",
   "execution_count": null,
   "id": "17c20521",
   "metadata": {},
   "outputs": [],
   "source": [
    "def compute_cc_select_rate_before_march(df):\n",
    "    df_wout_dupl = df.drop_duplicates(subset=['idVisit', 'url', 'type', 'outilEvent']).copy()\n",
    "    #df_wout_dupl = df_wout_dupl[df_wout_dupl['url']==\"https://code.travail.gouv.fr/outils/preavis-demission\"]\n",
    "    denominator = df_wout_dupl.outilEvent.value_counts()['info_cc'] + df_wout_dupl.outilEvent.value_counts()['ccn']\n",
    "    numerator = df_wout_dupl.type.value_counts()['cc_select']\n",
    "    return round(numerator / denominator * 100, 1)"
   ]
  },
  {
   "cell_type": "code",
   "execution_count": null,
   "id": "39371bca",
   "metadata": {
    "scrolled": true
   },
   "outputs": [],
   "source": [
    "f\"{compute_cc_select_rate_before_march(logs_january_filtered)} %\""
   ]
  },
  {
   "cell_type": "code",
   "execution_count": null,
   "id": "4b696773",
   "metadata": {},
   "outputs": [],
   "source": [
    "f\"{compute_cc_select_rate_before_march(logs_february_filtered)} %\""
   ]
  },
  {
   "cell_type": "code",
   "execution_count": null,
   "id": "ee698180",
   "metadata": {},
   "outputs": [],
   "source": [
    "f\"{compute_cc_select_rate_before_march(pd.concat([logs_january_filtered, logs_february_filtered]))} %\""
   ]
  },
  {
   "cell_type": "markdown",
   "id": "d1b3b50b",
   "metadata": {},
   "source": [
    "## Analysons les données pour la période avril mai juin\n",
    "FORMULE POUR LA PERIODE DU 20/03/22 A AJD :\n",
    "(CC SELECT P1 + ENTREPRISE SELECT) / (info_CC + CNN)"
   ]
  },
  {
   "cell_type": "markdown",
   "id": "5caa845f",
   "metadata": {},
   "source": [
    "Compter le taux de sélection de CC dans les outils \n",
    ": en avril"
   ]
  },
  {
   "cell_type": "code",
   "execution_count": null,
   "id": "40441af5",
   "metadata": {},
   "outputs": [],
   "source": [
    "def compute_cc_select_rate_after_march(df):\n",
    "    df_wout_dupl = df.drop_duplicates(subset=['idVisit', 'url', 'type', 'outilEvent']).copy()\n",
    "    #df_wout_dupl = df_wout_dupl[df_wout_dupl['url']==\"https://code.travail.gouv.fr/outils/preavis-demission\"]\n",
    "    denominator = df_wout_dupl.outilEvent.value_counts()['info_cc'] + df_wout_dupl.outilEvent.value_counts()['ccn']\n",
    "    numerator = df_wout_dupl.type.value_counts()['cc_select_p1'] + df_wout_dupl.type.value_counts()['enterprise_select']\n",
    "    return round(numerator / denominator * 100, 1)\n"
   ]
  },
  {
   "cell_type": "code",
   "execution_count": null,
   "id": "aa19e78b",
   "metadata": {
    "scrolled": true
   },
   "outputs": [],
   "source": [
    "f\"{compute_cc_select_rate_after_march(logs_april_filtered)} %\""
   ]
  },
  {
   "cell_type": "code",
   "execution_count": null,
   "id": "81909de2",
   "metadata": {
    "scrolled": true
   },
   "outputs": [],
   "source": [
    "f\"{compute_cc_select_rate_after_march(logs_may_filtered)} %\""
   ]
  },
  {
   "cell_type": "code",
   "execution_count": null,
   "id": "12cb939a",
   "metadata": {},
   "outputs": [],
   "source": [
    "f\"{compute_cc_select_rate_after_march(logs_june_filtered)} %\""
   ]
  },
  {
   "cell_type": "code",
   "execution_count": null,
   "id": "c6716e63",
   "metadata": {},
   "outputs": [],
   "source": [
    "f\"{compute_cc_select_rate_after_march(pd.concat([logs_april_filtered, logs_may_filtered]))} %\""
   ]
  },
  {
   "cell_type": "code",
   "execution_count": null,
   "id": "ebd292cd",
   "metadata": {},
   "outputs": [],
   "source": [
    "months = ['Janvier', 'Février', 'Mars', 'Avril', 'Mai', 'Juin']\n",
    "cc_select_rate = []\n",
    "for df in [logs_january_filtered, logs_february_filtered]:\n",
    "    cc_select_rate.append(compute_cc_select_rate_before_march(df))\n",
    "\n",
    "begin_march = compute_cc_select_rate_after_march(logs_march_filtered[logs_march_filtered['logfile']<'2022-03-20'])\n",
    "end_march = compute_cc_select_rate_after_march(logs_march_filtered[logs_march_filtered['logfile']>'2022-03-20'])\n",
    "cc_select_rate.append((begin_march+end_march)/2)\n",
    "\n",
    "for df in [logs_april_filtered, logs_may_filtered, logs_june_filtered]:\n",
    "    cc_select_rate.append(compute_cc_select_rate_after_march(df))"
   ]
  },
  {
   "cell_type": "code",
   "execution_count": null,
   "id": "fd6d48bd",
   "metadata": {},
   "outputs": [],
   "source": [
    "cc_select_rate"
   ]
  },
  {
   "cell_type": "markdown",
   "id": "b3fa1f51",
   "metadata": {},
   "source": [
    "### Visualisation"
   ]
  },
  {
   "cell_type": "code",
   "execution_count": null,
   "id": "a9c740ca",
   "metadata": {},
   "outputs": [],
   "source": [
    "fig = px.line(x=months, y=cc_select_rate, markers=True, \n",
    "              labels=dict(x=\"Mois\", y=\"%\"))\n",
    "fig.update_layout(\n",
    "    title='Percentage du taux de sélection de CC dans les outils'\n",
    ")\n",
    "fig.update_yaxes(range=[0, 100])\n",
    "fig.show()"
   ]
  },
  {
   "cell_type": "markdown",
   "id": "beedd0d1",
   "metadata": {},
   "source": [
    "## Part 2 : explo du taux de sortie à l'étape CC : \n",
    "\n",
    "**Formule** : nombre de visites à l'étape info_CC ou CNN - nombre de visites à l'étape d'après (différente en fonction de l'outil)\n",
    "\n",
    " "
   ]
  },
  {
   "cell_type": "code",
   "execution_count": null,
   "id": "43c58983",
   "metadata": {},
   "outputs": [],
   "source": [
    "DICT_URL_TOOLS_STEPS = {\n",
    "  'https://code.travail.gouv.fr/outils/preavis-retraite': {\n",
    "    'cc_step': 'ccn',\n",
    "    'next_step': 'infos',\n",
    "  },\n",
    "  'https://code.travail.gouv.fr/outils/indemnite-precarite': {\n",
    "    'cc_step': 'info_cc',\n",
    "    'next_step': 'info_generales',\n",
    "  },\n",
    "  'https://code.travail.gouv.fr/outils/preavis-licenciement': {\n",
    "    'cc_step': 'info_cc',\n",
    "    'next_step': 'results',\n",
    "  }\n",
    "}"
   ]
  },
  {
   "cell_type": "code",
   "execution_count": null,
   "id": "6462701b",
   "metadata": {},
   "outputs": [],
   "source": [
    "DICT_OF_DATAFRAMES_BY_MONTH = {\n",
    "  'january': logs_january_filtered,\n",
    "  'february': logs_february_filtered,\n",
    "  'april': logs_april_filtered,\n",
    "  'may': logs_may_filtered,\n",
    "  'june' : logs_june_filtered\n",
    "}"
   ]
  },
  {
   "cell_type": "code",
   "execution_count": null,
   "id": "034a95b0",
   "metadata": {},
   "outputs": [],
   "source": [
    "def get_cc_step_and_next_step(tool_steps):\n",
    "    return tool_steps['cc_step'], tool_steps['next_step']"
   ]
  },
  {
   "cell_type": "code",
   "execution_count": null,
   "id": "f8f1d2df",
   "metadata": {},
   "outputs": [],
   "source": [
    "def get_number_of_visitors_for_cc_step_and_next_step(df_tool, tool_steps):\n",
    "    cc_step, next_step = get_cc_step_and_next_step(tool_steps)\n",
    "    nb_visitors_at_cc_step = df_tool.outilEvent.value_counts()[cc_step]\n",
    "    nb_visitors_at_next_step = df_tool.outilEvent.value_counts()[next_step]\n",
    "    return nb_visitors_at_cc_step, nb_visitors_at_next_step\n",
    "\n",
    "def get_exit_rate(df_tool, tool_steps):\n",
    "    nb_visitors_at_cc_step, nb_visitors_at_next_step = \\\n",
    "        get_number_of_visitors_for_cc_step_and_next_step(df_tool, tool_steps)\n",
    "\n",
    "    return round((nb_visitors_at_cc_step - nb_visitors_at_next_step) / nb_visitors_at_cc_step * 100, 2)\n",
    "\n",
    "def get_acc_of_number_of_visitors_for_cc_step_and_next_step(\n",
    "    df_tool, tool_steps, acc_nb_visitors_at_cc_step, acc_nb_visitors_at_next_step\n",
    "):\n",
    "    nb_visitors_at_cc_step, nb_visitors_at_next_step = \\\n",
    "        get_number_of_visitors_for_cc_step_and_next_step(df_tool, tool_steps)\n",
    "    \n",
    "    acc_nb_visitors_at_cc_step += nb_visitors_at_cc_step\n",
    "    acc_nb_visitors_at_next_step += nb_visitors_at_next_step\n",
    "\n",
    "    return acc_nb_visitors_at_cc_step, acc_nb_visitors_at_next_step\n"
   ]
  },
  {
   "cell_type": "code",
   "execution_count": null,
   "id": "cb96c684",
   "metadata": {},
   "outputs": [],
   "source": [
    "def compute_exit_rate_before_and_after_selecting_a_cc_in_tools():\n",
    "    for month, df in DICT_OF_DATAFRAMES_BY_MONTH.items():\n",
    "        print(month)\n",
    "        df_wout_duplicates = df.drop_duplicates(subset=['idVisit', 'url', 'outilEvent']).copy()\n",
    "        acc_nb_visitors_at_cc_step, acc_nb_visitors_at_next_step = 0, 0\n",
    "        \n",
    "        for tool_url, tool_steps in DICT_URL_TOOLS_STEPS.items():\n",
    "            df_tool = df_wout_duplicates[df_wout_duplicates['url']==tool_url]\n",
    "            \n",
    "            exit_rate = get_exit_rate(df_tool, tool_steps)\n",
    "            \n",
    "            acc_nb_visitors_at_cc_step, acc_nb_visitors_at_next_step = \\\n",
    "                get_acc_of_number_of_visitors_for_cc_step_and_next_step(\n",
    "                df_tool, \n",
    "                tool_steps, \n",
    "                acc_nb_visitors_at_cc_step, \n",
    "                acc_nb_visitors_at_next_step\n",
    "            )\n",
    "            \n",
    "            print(f\"\\t{tool_url}\")\n",
    "            print(f\"\\tTaux de sortie est : {exit_rate}%\")\n",
    "        print(\"ACC\")\n",
    "        acc_exit_rate = round((acc_nb_visitors_at_cc_step - acc_nb_visitors_at_next_step) / acc_nb_visitors_at_cc_step * 100, 2)\n",
    "        print(f\"Taux de sortie est : {acc_exit_rate}%\")\n",
    "        "
   ]
  },
  {
   "cell_type": "code",
   "execution_count": null,
   "id": "6b785680",
   "metadata": {},
   "outputs": [],
   "source": [
    "compute_exit_rate_before_and_after_selecting_a_cc_in_tools()"
   ]
  },
  {
   "cell_type": "code",
   "execution_count": null,
   "id": "996a77ed",
   "metadata": {},
   "outputs": [],
   "source": [
    "# Taux de sortie avec une meilleure présentation (par outil puis par mois)\n",
    "def compute_exit_rate_before_and_after_selecting_a_cc_in_tools():\n",
    "    for tool_url, tool_steps in DICT_URL_TOOLS_STEPS.items():\n",
    "        print(f\"{tool_url}\")\n",
    "        \n",
    "        for month, df in DICT_OF_DATAFRAMES_BY_MONTH.items():\n",
    "            print(f\"\\t{month}\")\n",
    "            df_wout_duplicates = df.drop_duplicates(subset=['idVisit', 'url', 'outilEvent']).copy()\n",
    "            df_tool = df_wout_duplicates[df_wout_duplicates['url']==tool_url]\n",
    "            \n",
    "            exit_rate = get_exit_rate(df_tool, tool_steps)\n",
    "            print(f\"\\tTaux de sortie est : {exit_rate}%\")\n",
    "        print()"
   ]
  },
  {
   "cell_type": "code",
   "execution_count": null,
   "id": "c55c8efd",
   "metadata": {},
   "outputs": [],
   "source": [
    "compute_exit_rate_before_and_after_selecting_a_cc_in_tools()"
   ]
  },
  {
   "cell_type": "markdown",
   "id": "b45f7c08",
   "metadata": {},
   "source": [
    "### Pour l'outil préavis de démission, c'est un cas particulier car il faut découper les données sur avril"
   ]
  },
  {
   "cell_type": "code",
   "execution_count": null,
   "id": "0540e657",
   "metadata": {},
   "outputs": [],
   "source": [
    "DICT_URL_PREAVIS_DEMISSION_STEPS = {\n",
    "  'https://code.travail.gouv.fr/outils/preavis-demission': {\n",
    "    'cc_step': 'info_cc',\n",
    "    'next_step': 'results',\n",
    "  }\n",
    "}"
   ]
  },
  {
   "cell_type": "code",
   "execution_count": null,
   "id": "74b09205",
   "metadata": {},
   "outputs": [],
   "source": [
    "DICT_OF_DATAFRAMES_BY_MONTH_FOR_PREAVIS_DEMISSION = {\n",
    "  'january': logs_january_filtered,\n",
    "  'february': logs_february_filtered,\n",
    "  'april': logs_april_filtered[logs_april_filtered['logfile']<'2022-04-27'],\n",
    "  'may': logs_may_filtered,\n",
    "  'june' : logs_june_filtered\n",
    "}"
   ]
  },
  {
   "cell_type": "code",
   "execution_count": null,
   "id": "361c72ac",
   "metadata": {},
   "outputs": [],
   "source": [
    "def compute_exit_rate_before_and_after_selecting_a_cc_in_preavis_demission():\n",
    "    for tool_url, tool_steps in DICT_URL_PREAVIS_DEMISSION_STEPS.items():\n",
    "        print(f\"{tool_url}\")\n",
    "        \n",
    "        for month, df in DICT_OF_DATAFRAMES_BY_MONTH_FOR_PREAVIS_DEMISSION.items():\n",
    "            print(f\"\\t{month}\")\n",
    "            df_wout_duplicates = df.drop_duplicates(subset=['idVisit', 'url', 'outilEvent']).copy()\n",
    "            df_tool = df_wout_duplicates[df_wout_duplicates['url']==tool_url]\n",
    "            \n",
    "            if month == 'may':\n",
    "                tool_steps['next_step'] = 'infos'\n",
    "            exit_rate = get_exit_rate(df_tool, tool_steps)\n",
    "            print(f\"\\tTaux de sortie est : {exit_rate}%\")\n",
    "        print()"
   ]
  },
  {
   "cell_type": "code",
   "execution_count": null,
   "id": "96f85b92",
   "metadata": {
    "scrolled": true
   },
   "outputs": [],
   "source": [
    "compute_exit_rate_before_and_after_selecting_a_cc_in_preavis_demission()"
   ]
  },
  {
   "cell_type": "code",
   "execution_count": null,
   "id": "b7473a1f",
   "metadata": {},
   "outputs": [],
   "source": [
    "logs_may_filtered.url.value_counts()[:20]"
   ]
  },
  {
   "cell_type": "code",
   "execution_count": null,
   "id": "35dbaead",
   "metadata": {},
   "outputs": [],
   "source": [
    "logs_may_filtered[\n",
    "    logs_may_filtered['url']==\"https://code.travail.gouv.fr/outils/preavis-retraite\"\n",
    "].outilEvent.value_counts()"
   ]
  },
  {
   "cell_type": "markdown",
   "id": "2b4f4ea6",
   "metadata": {},
   "source": [
    "## Partie 3\n",
    "\n",
    "KPI : Pourcentage de personnes qui obtiennent un résultat conventionnel dans les outils\n",
    "\n",
    "**Définition** : Part des personnes qui vont jusqu'à l'étape résultat des outils et qui ont sélectionné une CC traitée par rapport au nombre total de personnes qui vont jusqu'à l'étape résultat des outils\n",
    "\n",
    "**Formule** : (Nb de sessions allant jusqu'à l'étape résultat + CC select)/ (Nb de sessions allant jusqu'à l'étape résultat)*100"
   ]
  },
  {
   "cell_type": "code",
   "execution_count": null,
   "id": "05391ef7",
   "metadata": {},
   "outputs": [],
   "source": [
    "DICT_URL_TOOLS_STEPS = {\n",
    "    'https://code.travail.gouv.fr/outils/heures-recherche-emploi': 'results',\n",
    "    'https://code.travail.gouv.fr/outils/indemnite-precarite': 'indemnite',\n",
    "    'https://code.travail.gouv.fr/outils/preavis-demission': 'results',\n",
    "    'https://code.travail.gouv.fr/outils/preavis-licenciement': 'results',\n",
    "    'https://code.travail.gouv.fr/outils/preavis-retraite': 'result',\n",
    "}\n",
    "DICT_OF_DATAFRAMES_BY_MONTH = {\n",
    "  'april': logs_april_filtered,\n",
    "  #'may':   logs_may_filtered,\n",
    "  #'june':  logs_june_filtered\n",
    "}"
   ]
  },
  {
   "cell_type": "code",
   "execution_count": null,
   "id": "50c7b752",
   "metadata": {},
   "outputs": [],
   "source": [
    "for url_tool, last_step in DICT_URL_TOOLS_STEPS.items():\n",
    "    print(url_tool)\n",
    "    \n",
    "    for month, df in DICT_OF_DATAFRAMES_BY_MONTH.items():\n",
    "        print(month)\n",
    "        df_tool = df[df['url'] == url_tool]\n",
    "        \n",
    "        all_visitors_reaching_result_step = df_tool[df_tool['outilEvent'] == last_step].idVisit.unique()\n",
    "        nb_visitors_reaching_result_step = len(all_visitors_reaching_result_step)\n",
    "        \n",
    "        all_visitors_who_have_selected_cc_treated = df_tool[df_tool['type'] == 'cc_select_traitée'].idVisit.unique()\n",
    "        nb_visitors_who_have_selected_cc_treated_n_reaching_result_step = len(\n",
    "            set(all_visitors_who_have_selected_cc_treated) & set(all_visitors_reaching_result_step))\n",
    "        \n",
    "        print(f\"\\t{nb_visitors_reaching_result_step}\")\n",
    "        print(f\"\\t{nb_visitors_who_have_selected_cc_treated_n_reaching_result_step}\")\n",
    "        \n",
    "        print(f\"{round(nb_visitors_who_have_selected_cc_treated_n_reaching_result_step / nb_visitors_reaching_result_step * 100, 2)} %\")\n",
    "        "
   ]
  },
  {
   "cell_type": "code",
   "execution_count": null,
   "id": "e0c401d8",
   "metadata": {},
   "outputs": [],
   "source": [
    "for url_tool, last_step in DICT_URL_TOOLS_STEPS.items():\n",
    "    print(url_tool)\n",
    "    \n",
    "    for month, df in DICT_OF_DATAFRAMES_BY_MONTH.items():\n",
    "        print(month)\n",
    "        df_tool = df[df['url'] == url_tool]\n",
    "        \n",
    "        all_visitors_reaching_result_step = df_tool[df_tool['outilEvent'] == last_step].idVisit.unique()\n",
    "        nb_visitors_reaching_result_step = len(all_visitors_reaching_result_step)\n",
    "        \n",
    "        all_visitors_who_have_selected_cc = df_tool[\n",
    "            df_tool['type'].isin(['cc_select_p1', 'enterprise_select'])].idVisit.unique()\n",
    "        \n",
    "        all_visitors_who_have_selected_cc_treated = df_tool[\n",
    "            df_tool['type'] == 'cc_select_traitée'].idVisit.unique()\n",
    "        \n",
    "        nb_visitors_who_have_selected_cc_treated_n_reaching_result_step = len(\n",
    "            set(all_visitors_who_have_selected_cc) & \n",
    "            set(all_visitors_who_have_selected_cc_treated) & \n",
    "            set(all_visitors_reaching_result_step)\n",
    "        )\n",
    "        #print(nb_visitors_reaching_result_step)\n",
    "        #print(nb_visitors_who_have_selected_cc_treated_n_reaching_result_step)\n",
    "        ratio = nb_visitors_who_have_selected_cc_treated_n_reaching_result_step / nb_visitors_reaching_result_step\n",
    "        print(f\"{round(ratio * 100, 2)} %\")\n",
    "        "
   ]
  },
  {
   "cell_type": "code",
   "execution_count": null,
   "id": "054f1f70",
   "metadata": {},
   "outputs": [],
   "source": [
    "for url_tool, last_step in DICT_URL_TOOLS_STEPS.items():\n",
    "    print(url_tool)\n",
    "    \n",
    "    for month, df in DICT_OF_DATAFRAMES_BY_MONTH.items():\n",
    "        print(month)\n",
    "        df_tool = df[df['url'] == url_tool]\n",
    "        \n",
    "        all_visitors_reaching_result_step = df_tool[df_tool['outilEvent'] == last_step].idVisit.unique()\n",
    "        nb_visitors_reaching_result_step = len(all_visitors_reaching_result_step)\n",
    "        \n",
    "        all_visitors_who_have_selected_cc_treated = df_tool[df_tool['type'] == 'cc_select_traitée'].idVisit.unique()\n",
    "        nb_visitors_who_have_selected_cc_treated_n_reaching_result_step = len(\n",
    "            set(all_visitors_who_have_selected_cc_treated) & set(all_visitors_reaching_result_step))\n",
    "        \n",
    "        ratio1 = nb_visitors_who_have_selected_cc_treated_n_reaching_result_step / nb_visitors_reaching_result_step\n",
    "\n",
    "        \n",
    "        all_visitors_who_have_selected_cc = df_tool[\n",
    "            df_tool['type'].isin(['cc_select_p1', 'enterprise_select'])].idVisit.unique()\n",
    "        \n",
    "        all_visitors_who_have_selected_cc_treated = df_tool[\n",
    "            df_tool['type'] == 'cc_select_traitée'].idVisit.unique()\n",
    "        \n",
    "        nb_visitors_who_have_selected_cc_treated_n_reaching_result_step = len(\n",
    "            set(all_visitors_who_have_selected_cc) & \n",
    "            set(all_visitors_who_have_selected_cc_treated) & \n",
    "            set(all_visitors_reaching_result_step)\n",
    "        )\n",
    "        #print(nb_visitors_reaching_result_step)\n",
    "        #print(nb_visitors_who_have_selected_cc_treated_n_reaching_result_step)\n",
    "        ratio2 = nb_visitors_who_have_selected_cc_treated_n_reaching_result_step / nb_visitors_reaching_result_step\n",
    "        print(f\"{round(abs(ratio1 - ratio2) * 100, 2)} %\")\n",
    "        "
   ]
  }
 ],
 "metadata": {
  "kernelspec": {
   "display_name": "explorations-cdtn",
   "language": "python",
   "name": "explorations-cdtn"
  },
  "language_info": {
   "codemirror_mode": {
    "name": "ipython",
    "version": 3
   },
   "file_extension": ".py",
   "mimetype": "text/x-python",
   "name": "python",
   "nbconvert_exporter": "python",
   "pygments_lexer": "ipython3",
   "version": "3.9.13"
  }
 },
 "nbformat": 4,
 "nbformat_minor": 5
}
