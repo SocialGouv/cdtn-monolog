{
 "cells": [
  {
   "cell_type": "markdown",
   "id": "54a49c22",
   "metadata": {},
   "source": [
    "# Analyse des clicks sur les articles liés\n",
    "\n",
    "**Définition** : On veut récupérer le nombre de clics sur les articles liés par page et le nombre de visiste sur la page pour faire un ratio de clics\n",
    "\n",
    "\n",
    "## On commence par le chargement des données"
   ]
  },
  {
   "cell_type": "code",
   "execution_count": null,
   "id": "6cde1219",
   "metadata": {},
   "outputs": [],
   "source": [
    "import pandas as pd\n",
    "import time\n",
    "import json\n",
    "import math\n",
    "from tqdm.notebook import tqdm\n",
    "import plotly.express as px\n",
    "import plotly.graph_objects as go\n",
    "from datetime import datetime\n",
    "from src.elasticsearch_connector import ElasticsearchConnector\n",
    "#from typing import List, Dict\n",
    "\n",
    "\n",
    "pd.set_option('display.max_columns', 100)\n",
    "pd.set_option('display.max_rows', 100)"
   ]
  },
  {
   "cell_type": "markdown",
   "id": "795edb2e",
   "metadata": {},
   "source": [
    "## Si on veut lire en requêtant Elastic Search"
   ]
  },
  {
   "cell_type": "code",
   "execution_count": null,
   "id": "5468eda4",
   "metadata": {},
   "outputs": [],
   "source": [
    "es_connector = ElasticsearchConnector(env='monolog')\n",
    "\n",
    "QUERY = {\n",
    "  \"query\": {\n",
    "    \"bool\": { \n",
    "      \"must\": [\n",
    "        {\n",
    "          \"term\": {\n",
    "            \"type\": \"select_related\" \n",
    "          }\n",
    "        },\n",
    "        {\n",
    "          \"range\": {\n",
    "           \"logfile\": {\n",
    "              \"gte\": \"2023-01-01\",\n",
    "              \"lt\": \"2023-06-18\"\n",
    "           }\n",
    "          }\n",
    "        }\n",
    "      #  {\n",
    "      #    \"range\": {\n",
    "      #     \"lastActionDateTime\": {\n",
    "      #        \"gte\": \"2022-04-01 00:00:00\",\n",
    "      #        \"lt\": \"2022-05-01 00:00:00\"\n",
    "      #     }\n",
    "      #    }\n",
    "      #  },\n",
    "      ]\n",
    "    }\n",
    "  }\n",
    "}"
   ]
  },
  {
   "cell_type": "code",
   "execution_count": null,
   "id": "84bd552a",
   "metadata": {},
   "outputs": [],
   "source": [
    "logs_selected_related = es_connector.execute_query(QUERY, \"logs-new\")"
   ]
  },
  {
   "cell_type": "markdown",
   "id": "021191e0",
   "metadata": {},
   "source": [
    "# On va récupérer le nombre de clic par URL"
   ]
  },
  {
   "cell_type": "markdown",
   "id": "76945ccd",
   "metadata": {},
   "source": [
    "### Première étape"
   ]
  },
  {
   "cell_type": "code",
   "execution_count": null,
   "id": "c589a4bd",
   "metadata": {},
   "outputs": [],
   "source": [
    "clickByUrl = logs_selected_related.groupby(['url'])[['idVisit']]\n",
    "clickByUrlCount = clickByUrl.count()\n",
    "# clickByUrlCount.rename(columns={\"idVisit\": \"Nombre de clics\"})"
   ]
  },
  {
   "cell_type": "code",
   "execution_count": null,
   "id": "22e53c18",
   "metadata": {},
   "outputs": [],
   "source": [
    "clickByUrlCount.sort_values(by=['idVisit'], ascending=False)"
   ]
  },
  {
   "cell_type": "markdown",
   "id": "443197f3",
   "metadata": {},
   "source": [
    "# On va récupérer le nombre de visite sur la même période"
   ]
  },
  {
   "cell_type": "code",
   "execution_count": null,
   "id": "cef61b46",
   "metadata": {},
   "outputs": [],
   "source": [
    "QUERY_VISITS = {\n",
    "  \"query\": {\n",
    "    \"bool\": { \n",
    "      \"must\": [\n",
    "        {\n",
    "          \"term\": {\n",
    "            \"type\": \"visit_content\" \n",
    "          }\n",
    "        },\n",
    "        {\n",
    "          \"range\": {\n",
    "           \"logfile\": {\n",
    "              \"gte\": \"2023-01-01\",\n",
    "              \"lt\": \"2023-06-18\"\n",
    "           }\n",
    "          }\n",
    "        }\n",
    "      #  {\n",
    "      #    \"range\": {\n",
    "      #     \"lastActionDateTime\": {\n",
    "      #        \"gte\": \"2022-04-01 00:00:00\",\n",
    "      #        \"lt\": \"2022-05-01 00:00:00\"\n",
    "      #     }\n",
    "      #    }\n",
    "      #  },\n",
    "      ]\n",
    "    }\n",
    "  }\n",
    "}"
   ]
  },
  {
   "cell_type": "code",
   "execution_count": null,
   "id": "5af3a0b3",
   "metadata": {},
   "outputs": [],
   "source": [
    "logs_visits = es_connector.execute_query(QUERY_VISITS, \"logs-new\")"
   ]
  },
  {
   "cell_type": "code",
   "execution_count": null,
   "id": "3fc3c5a2",
   "metadata": {},
   "outputs": [],
   "source": [
    "visitByUrl = logs_visits.groupby(['url'])[['idVisit']]"
   ]
  },
  {
   "cell_type": "code",
   "execution_count": null,
   "id": "44519b89",
   "metadata": {},
   "outputs": [],
   "source": [
    "visitByUrlCount = visitByUrl.count()\n",
    "visitByUrlCount.sort_values(by=['idVisit'], ascending=False)"
   ]
  },
  {
   "cell_type": "markdown",
   "id": "3fc26a31",
   "metadata": {},
   "source": [
    "# Merge des deux tableaux pour avoir le nombre de clic et de visit"
   ]
  },
  {
   "cell_type": "code",
   "execution_count": null,
   "id": "f74cc899",
   "metadata": {},
   "outputs": [],
   "source": [
    "clicAndVisitByUrl = clickByUrlCount.merge(visitByUrlCount, left_on='url', right_on='url', how='outer')"
   ]
  },
  {
   "cell_type": "code",
   "execution_count": null,
   "id": "3ca9bb56",
   "metadata": {},
   "outputs": [],
   "source": [
    "clicAndVisitByUrl.rename(columns={\"idVisit_x\": \"Clicks\", \"idVisit_y\": \"Visites\"})"
   ]
  },
  {
   "cell_type": "code",
   "execution_count": null,
   "id": "1469c828",
   "metadata": {},
   "outputs": [],
   "source": [
    "dataWithPercent = clicAndVisitByUrl.assign(Percent=lambda x: x.idVisit_x * 100 / x.idVisit_y).dropna()"
   ]
  },
  {
   "cell_type": "code",
   "execution_count": null,
   "id": "1f981d8c",
   "metadata": {},
   "outputs": [],
   "source": [
    "dataWithPercent.sort_values(by=['Percent'], ascending=False)"
   ]
  },
  {
   "cell_type": "code",
   "execution_count": null,
   "id": "6016a1d0",
   "metadata": {},
   "outputs": [],
   "source": [
    "dataWithPercent.sort_values(by=['Percent'], ascending=False).to_csv('out.csv', index=True)"
   ]
  },
  {
   "cell_type": "code",
   "execution_count": null,
   "id": "575876c3",
   "metadata": {},
   "outputs": [],
   "source": []
  }
 ],
 "metadata": {
  "kernelspec": {
   "display_name": "Python 3 (ipykernel)",
   "language": "python",
   "name": "python3"
  },
  "language_info": {
   "codemirror_mode": {
    "name": "ipython",
    "version": 3
   },
   "file_extension": ".py",
   "mimetype": "text/x-python",
   "name": "python",
   "nbconvert_exporter": "python",
   "pygments_lexer": "ipython3",
   "version": "3.9.16"
  }
 },
 "nbformat": 4,
 "nbformat_minor": 5
}
