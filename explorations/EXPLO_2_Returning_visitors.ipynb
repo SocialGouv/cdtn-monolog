{
 "cells": [
  {
   "cell_type": "markdown",
   "id": "f5617590",
   "metadata": {},
   "source": [
    "# Returning visiteurs"
   ]
  },
  {
   "cell_type": "code",
   "execution_count": null,
   "id": "317353ea",
   "metadata": {},
   "outputs": [],
   "source": [
    "import pandas as pd\n",
    "import time\n",
    "import json\n",
    "import math\n",
    "#from tqdm.notebook import tqdm\n",
    "#import plotly.express as px\n",
    "#import plotly.graph_objects as go\n",
    "#from typing import List, Dict\n",
    "\n",
    "\n",
    "pd.set_option('display.max_columns', 200)\n",
    "pd.set_option('display.max_rows', 200)"
   ]
  },
  {
   "cell_type": "code",
   "execution_count": null,
   "id": "d0e6ddc8",
   "metadata": {},
   "outputs": [],
   "source": [
    "from query_elastic_search import load_file_if_exists_or_execute_query"
   ]
  },
  {
   "cell_type": "code",
   "execution_count": null,
   "id": "5610bc35",
   "metadata": {},
   "outputs": [],
   "source": [
    "QUERY = {\n",
    "    \"query\": {\n",
    "        \"bool\": { \n",
    "          \"must\": [\n",
    "            {\n",
    "              \"range\": {\n",
    "               \"logfile\": {\n",
    "                  \"gte\": \"2022-06-20\",\n",
    "                  \"lt\": \"2022-07-01\"\n",
    "               }\n",
    "              }\n",
    "            }\n",
    "          ]\n",
    "        }\n",
    "      }\n",
    "}"
   ]
  },
  {
   "cell_type": "code",
   "execution_count": null,
   "id": "a713b64d",
   "metadata": {},
   "outputs": [],
   "source": [
    "logs = load_file_if_exists_or_execute_query(\"\", QUERY)"
   ]
  },
  {
   "cell_type": "code",
   "execution_count": null,
   "id": "ac3d7fb5",
   "metadata": {},
   "outputs": [],
   "source": [
    "logs.shape"
   ]
  },
  {
   "cell_type": "code",
   "execution_count": null,
   "id": "20c3160e",
   "metadata": {},
   "outputs": [],
   "source": [
    "logs_contrib.head(10)"
   ]
  },
  {
   "cell_type": "code",
   "execution_count": null,
   "id": "ad6d1897",
   "metadata": {
    "scrolled": true
   },
   "outputs": [],
   "source": [
    "logs[(logs['lastActionDateTime'] > '2022-06-24 12:57:00')&(logs['lastActionDateTime'] < '2022-06-24 12:57:25')]"
   ]
  },
  {
   "cell_type": "code",
   "execution_count": null,
   "id": "2440be54",
   "metadata": {},
   "outputs": [],
   "source": [
    "logs.info()"
   ]
  },
  {
   "cell_type": "code",
   "execution_count": null,
   "id": "a7b46b14",
   "metadata": {},
   "outputs": [],
   "source": [
    "logs.groupby(by=['idVisit']).agg({'logfile': 'nunique'}).sort_values(by=['logfile'], ascending=False)"
   ]
  },
  {
   "cell_type": "code",
   "execution_count": null,
   "id": "dc600182",
   "metadata": {},
   "outputs": [],
   "source": []
  }
 ],
 "metadata": {
  "kernelspec": {
   "display_name": "explorations-cdtn",
   "language": "python",
   "name": "explorations-cdtn"
  },
  "language_info": {
   "codemirror_mode": {
    "name": "ipython",
    "version": 3
   },
   "file_extension": ".py",
   "mimetype": "text/x-python",
   "name": "python",
   "nbconvert_exporter": "python",
   "pygments_lexer": "ipython3",
   "version": "3.9.13"
  }
 },
 "nbformat": 4,
 "nbformat_minor": 5
}
