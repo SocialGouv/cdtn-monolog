{
 "cells": [
  {
   "cell_type": "markdown",
   "id": "3506335e",
   "metadata": {},
   "source": [
    "# Top des recherches les plus faites par mois\n",
    "\n",
    "**Définition** : possible bug sur le fait que la requête \"procédure de licenciement salarié à domicile\" soit apparau en tête des recherches sur le site depuis quelques mois alors qu'on ne l'avait jamais vu. L'objectif de ce notebook est donc de reconstruire les recherches les plus faites\n",
    "\n",
    "De même pour la recherche 3239\n",
    "\n",
    "**Formule** : \n",
    "\n",
    "## On commence par le chargement des données\n",
    "on décommente ce dont on a besoin"
   ]
  },
  {
   "cell_type": "code",
   "execution_count": null,
   "id": "5c35ae28",
   "metadata": {},
   "outputs": [],
   "source": [
    "import pandas as pd\n",
    "import time\n",
    "import json\n",
    "import math\n",
    "from tqdm.notebook import tqdm\n",
    "import plotly.express as px\n",
    "import plotly.graph_objects as go\n",
    "from datetime import datetime\n",
    "#from typing import List, Dict\n",
    "\n",
    "\n",
    "pd.set_option('display.max_columns', 100)\n",
    "pd.set_option('display.max_rows', 250)\n",
    "pd.set_option('display.max_colwidth', 150)"
   ]
  },
  {
   "cell_type": "markdown",
   "id": "17642d56",
   "metadata": {},
   "source": [
    "## On récupère les données via celle déjà télécharger"
   ]
  },
  {
   "cell_type": "code",
   "execution_count": null,
   "id": "464db23e",
   "metadata": {},
   "outputs": [],
   "source": [
    "from join_multiple_file import pd_read_pattern, PATH_CDTN_MONOLOG\n",
    "\n",
    "logs_july = pd_read_pattern(PATH_CDTN_MONOLOG + \"/data-all-logs-july/*\")"
   ]
  },
  {
   "cell_type": "code",
   "execution_count": null,
   "id": "22e92c54",
   "metadata": {},
   "outputs": [],
   "source": [
    "logs_july.shape"
   ]
  },
  {
   "cell_type": "code",
   "execution_count": null,
   "id": "37f1af0a",
   "metadata": {},
   "outputs": [],
   "source": [
    "logs_july.head()"
   ]
  },
  {
   "cell_type": "code",
   "execution_count": null,
   "id": "fb979b3c",
   "metadata": {},
   "outputs": [],
   "source": [
    "def format_url_and_get_month_and_datetime_columns(df: pd.DataFrame):\n",
    "    df['url'] = df['url'].str.split('#').str[0].str.split('?').str[0]\n",
    "    df['month'] = pd.DatetimeIndex(df['logfile']).month\n",
    "    df['datetime'] = df['timestamp'].apply(datetime.fromtimestamp)\n",
    "    return df"
   ]
  },
  {
   "cell_type": "code",
   "execution_count": null,
   "id": "4cfe041c",
   "metadata": {},
   "outputs": [],
   "source": [
    "def clean_dataset_from_useless_rows(df: pd.DataFrame):\n",
    "    return df[df['type'].isin(['visit_content', 'outil', 'themes', 'select_result', 'search', 'home',\n",
    "                                    'pagecc_clickcontrib', 'modeles_courriers'])]"
   ]
  },
  {
   "cell_type": "code",
   "execution_count": null,
   "id": "2bd35e89",
   "metadata": {},
   "outputs": [],
   "source": [
    "logs = pd.concat([logs_july]).copy()"
   ]
  },
  {
   "cell_type": "code",
   "execution_count": null,
   "id": "64cae49d",
   "metadata": {},
   "outputs": [],
   "source": [
    "logs = format_url_and_get_month_and_datetime_columns(logs)"
   ]
  },
  {
   "cell_type": "code",
   "execution_count": null,
   "id": "7c86c720",
   "metadata": {},
   "outputs": [],
   "source": [
    "#cleaned_logs = clean_dataset_from_useless_rows(logs.copy())"
   ]
  },
  {
   "cell_type": "markdown",
   "id": "1f4f8488",
   "metadata": {},
   "source": [
    "# Début de l'explo\n",
    "\n",
    "On va commencer par récupérer les données des recherches et on va préprocesser un peu les recherches\n",
    "\n",
    "Commencons par la recherche **procédure de licenciement salarié à domicile**"
   ]
  },
  {
   "cell_type": "markdown",
   "id": "86879596",
   "metadata": {},
   "source": [
    "### Préparation des données"
   ]
  },
  {
   "cell_type": "code",
   "execution_count": null,
   "id": "26f306e7",
   "metadata": {},
   "outputs": [],
   "source": [
    "logs['query'] = logs['query'].str.lower()"
   ]
  },
  {
   "cell_type": "code",
   "execution_count": null,
   "id": "f3bcf457",
   "metadata": {},
   "outputs": [],
   "source": [
    "searches = logs[logs['type'] == 'search'].copy()"
   ]
  },
  {
   "cell_type": "code",
   "execution_count": null,
   "id": "2fcb815d",
   "metadata": {},
   "outputs": [],
   "source": [
    "searches.groupby('query').agg({'idVisit':'nunique'}).sort_values('idVisit', ascending=False).head(20)"
   ]
  },
  {
   "cell_type": "markdown",
   "id": "7ff30afd",
   "metadata": {},
   "source": [
    "Effectivement on trouve un résultat très proche que ce que nous propose matomo :\n",
    "https://matomo.fabrique.social.gouv.fr/index.php?module=CoreHome&action=index&idSite=4&period=day&date=yesterday&updated=1#?idSite=4&period=month&date=2022-07-01&segment=&category=General_Actions&subcategory=Actions_SubmenuSitesearch\n",
    "\n",
    "On va aller regarder qui sont ses visiteurs qui font ces query"
   ]
  },
  {
   "cell_type": "code",
   "execution_count": null,
   "id": "d0715161",
   "metadata": {},
   "outputs": [],
   "source": [
    "idVisiteursWithQueryLicenciementSalarieDomicile = searches[\n",
    "    searches['query']=='procédure de licenciement salarié à domicile'\n",
    "]['idVisit'].unique().tolist()"
   ]
  },
  {
   "cell_type": "code",
   "execution_count": null,
   "id": "68f8b3b7",
   "metadata": {},
   "outputs": [],
   "source": [
    "searches[\n",
    "    searches['query']=='procédure de licenciement salarié à domicile'\n",
    "].groupby('referrerName').agg({'idVisit': 'nunique'}).sort_values('idVisit', ascending=False).head(20)"
   ]
  },
  {
   "cell_type": "code",
   "execution_count": null,
   "id": "5715911a",
   "metadata": {
    "scrolled": true
   },
   "outputs": [],
   "source": [
    "from IPython.display import display, HTML\n",
    "display(HTML(\"<style>.container { width:90% !important; }</style>\"))\n",
    "\n",
    "for idVisit in idVisiteursWithQueryLicenciementSalarieDomicile[:100]:\n",
    "    display(logs[logs['idVisit'] == idVisit][\n",
    "        ['timeSpent', 'datetime', 'url', 'idVisit', 'referrerName', 'type', 'query', 'outil', 'outilAction', 'resultSelection', 'suggestionPrefix', 'suggestionSelection', 'recoSelection']\n",
    "    ])\n",
    "    "
   ]
  },
  {
   "cell_type": "markdown",
   "id": "6defb992",
   "metadata": {},
   "source": [
    "### De même avec la requête 3239"
   ]
  },
  {
   "cell_type": "code",
   "execution_count": null,
   "id": "756b1022",
   "metadata": {
    "scrolled": true
   },
   "outputs": [],
   "source": [
    "searches[\n",
    "    searches['query']=='3239'\n",
    "].groupby('referrerName').agg({'idVisit': 'nunique'}).sort_values('idVisit', ascending=False).head(20)"
   ]
  },
  {
   "cell_type": "markdown",
   "id": "95ed2183",
   "metadata": {},
   "source": [
    "## Généralisation\n",
    "\n",
    "Peut être serait-il intéressant de faire ça pour le top 10 des recherches"
   ]
  },
  {
   "cell_type": "code",
   "execution_count": null,
   "id": "904aadfd",
   "metadata": {},
   "outputs": [],
   "source": [
    "topQueries = searches.groupby('query').agg({'idVisit':'nunique'}).sort_values('idVisit', ascending=False).head(30).index.tolist()"
   ]
  },
  {
   "cell_type": "code",
   "execution_count": null,
   "id": "8fb9922c",
   "metadata": {
    "scrolled": true
   },
   "outputs": [],
   "source": [
    "for query in topQueries:\n",
    "    print(query)\n",
    "    display(\n",
    "        searches[searches['query']==query]\\\n",
    "        .groupby('referrerName')\\\n",
    "        .agg({'idVisit': 'nunique'})\\\n",
    "        .sort_values('idVisit', ascending=False)\\\n",
    "        .head(5)\n",
    "    )\n",
    "    print('_______________________________________________________________________________________\\n\\n')"
   ]
  },
  {
   "cell_type": "code",
   "execution_count": null,
   "id": "d548e933",
   "metadata": {},
   "outputs": [],
   "source": []
  }
 ],
 "metadata": {
  "kernelspec": {
   "display_name": "explorations-cdtn",
   "language": "python",
   "name": "explorations-cdtn"
  },
  "language_info": {
   "codemirror_mode": {
    "name": "ipython",
    "version": 3
   },
   "file_extension": ".py",
   "mimetype": "text/x-python",
   "name": "python",
   "nbconvert_exporter": "python",
   "pygments_lexer": "ipython3",
   "version": "3.9.13"
  }
 },
 "nbformat": 4,
 "nbformat_minor": 5
}
