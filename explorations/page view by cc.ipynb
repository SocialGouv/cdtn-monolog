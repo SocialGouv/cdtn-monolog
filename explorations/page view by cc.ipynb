{
 "cells": [
  {
   "cell_type": "markdown",
   "id": "fea4f079",
   "metadata": {},
   "source": [
    "# Nom du notebook\n",
    "\n",
    "**Définition** : Ce que je veux faire\n",
    "\n",
    "**Formule** : \n",
    "\n",
    "## On commence par le chargement des données\n",
    "on décommente ce dont on a besoin"
   ]
  },
  {
   "cell_type": "code",
   "execution_count": null,
   "id": "36a3c867",
   "metadata": {},
   "outputs": [],
   "source": [
    "import pandas as pd\n",
    "import numpy as np\n",
    "\n",
    "import time\n",
    "import json\n",
    "import math\n",
    "from tqdm.notebook import tqdm\n",
    "import plotly.express as px\n",
    "import plotly.graph_objects as go\n",
    "from datetime import datetime\n",
    "from src.elasticsearch_connector import ElasticsearchConnector\n",
    "#from typing import List, Dict\n",
    "\n",
    "\n",
    "pd.set_option('display.max_columns', 100)\n",
    "pd.set_option('display.max_rows', 100)"
   ]
  },
  {
   "cell_type": "markdown",
   "id": "6ba85368",
   "metadata": {},
   "source": [
    "## Si on veut lire en requêtant Elastic Search"
   ]
  },
  {
   "cell_type": "code",
   "execution_count": null,
   "id": "06e4b37f",
   "metadata": {},
   "outputs": [],
   "source": [
    "es_connector = ElasticsearchConnector(env='monolog')\n",
    "\n",
    "QUERY = {\n",
    "    \"query\": {\n",
    "        \"bool\": { \n",
    "          \"must\": [\n",
    "        \n",
    "            {\n",
    "              \"range\": {\n",
    "               \"logfile\": {\n",
    "                  \"gte\": \"2023-01-01\",\n",
    "                  \"lt\": \"2023-01-04\"\n",
    "               }\n",
    "              }\n",
    "            }\n",
    "\n",
    "          ]\n",
    "        }\n",
    "      }\n",
    "}"
   ]
  },
  {
   "cell_type": "code",
   "execution_count": null,
   "id": "bc34a3df",
   "metadata": {},
   "outputs": [],
   "source": [
    "logs_january_cc = es_connector.execute_query(QUERY, \"logs-new\")"
   ]
  },
  {
   "cell_type": "code",
   "execution_count": null,
   "id": "22332eb9",
   "metadata": {
    "scrolled": true
   },
   "outputs": [],
   "source": [
    "logs_january_cc[logs_january_cc[\"cc\"].notna()]"
   ]
  },
  {
   "cell_type": "code",
   "execution_count": null,
   "id": "a47806c4",
   "metadata": {},
   "outputs": [],
   "source": [
    "logs_january_cc.url.value_counts()\n"
   ]
  },
  {
   "cell_type": "code",
   "execution_count": null,
   "id": "8dd25825",
   "metadata": {},
   "outputs": [],
   "source": [
    "logs_january_cc['url'] = logs_january_cc['url'].str.split('#').str[0].str.split('?').str[0]"
   ]
  },
  {
   "cell_type": "code",
   "execution_count": null,
   "id": "2ee5246f",
   "metadata": {},
   "outputs": [],
   "source": [
    "logs_january_cc_visits = logs_january_cc[logs_january_cc[\"type\"]==\"visit_content\"]"
   ]
  },
  {
   "cell_type": "code",
   "execution_count": null,
   "id": "aa835342",
   "metadata": {},
   "outputs": [],
   "source": [
    "counts = logs_january_cc_visits.groupby(by=\"url\").agg({\"idVisit\": \"nunique\"})\\\n",
    "    .sort_values(\"idVisit\", ascending=False)\n",
    "counts"
   ]
  },
  {
   "cell_type": "code",
   "execution_count": null,
   "id": "349c1021",
   "metadata": {
    "scrolled": false
   },
   "outputs": [],
   "source": [
    "counts.to_csv(\"visites-cc.csv\", sep=\";\")\n"
   ]
  }
 ],
 "metadata": {
  "kernelspec": {
   "display_name": "Python 3 (ipykernel)",
   "language": "python",
   "name": "python3"
  },
  "language_info": {
   "codemirror_mode": {
    "name": "ipython",
    "version": 3
   },
   "file_extension": ".py",
   "mimetype": "text/x-python",
   "name": "python",
   "nbconvert_exporter": "python",
   "pygments_lexer": "ipython3",
   "version": "3.9.5"
  }
 },
 "nbformat": 4,
 "nbformat_minor": 5
}
