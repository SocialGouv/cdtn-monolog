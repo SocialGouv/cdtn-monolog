{
 "cells": [
  {
   "cell_type": "markdown",
   "id": "7a3c12c9",
   "metadata": {},
   "source": [
    "# OUTIL - TROUVER SA CONVENTION COLLECTIVE\n",
    "\n",
    "**Définition** : \n",
    "\n",
    "Ce notebook permet de générer les KPIs autours de l'outil Trouver sa convention collective :\n",
    "\n",
    " * Convertion : Taux des visites où l'utilisateur a obtenu sa convention collective\n",
    "\n",
    "\n",
    "## Récupération des données"
   ]
  },
  {
   "cell_type": "code",
   "execution_count": 1,
   "id": "fff5c5f0",
   "metadata": {},
   "outputs": [],
   "source": [
    "import pandas as pd\n",
    "import time\n",
    "import json\n",
    "import math\n",
    "from tqdm.notebook import tqdm\n",
    "import plotly.express as px\n",
    "import plotly.graph_objects as go\n",
    "from datetime import datetime\n",
    "from src.elasticsearch_connector import ElasticsearchConnector\n",
    "#from typing import List, Dict\n",
    "\n",
    "\n",
    "pd.set_option('display.max_columns', 100)\n",
    "pd.set_option('display.max_rows', 100)"
   ]
  },
  {
   "cell_type": "markdown",
   "id": "4c0d7dc7-95af-4ac2-bc7e-1cd633285f8c",
   "metadata": {},
   "source": [
    "### Interval\n",
    "\n",
    "Renseignez la date de début (incluse) et de fin (non incluse) souhaitées pour la récupération des données"
   ]
  },
  {
   "cell_type": "code",
   "execution_count": 94,
   "id": "5b356180-62cf-4981-a259-a9d32664f8de",
   "metadata": {},
   "outputs": [],
   "source": [
    "date_debut = '2024-10-01'\n",
    "date_fin = '2024-11-01'"
   ]
  },
  {
   "cell_type": "markdown",
   "id": "6bbb83a2-42cf-4737-a8ef-359e402df210",
   "metadata": {},
   "source": [
    "### Convention collectives supportées\n",
    "\n",
    "Utilisé pour filtrer dans la requête ES et allégé le processus"
   ]
  },
  {
   "cell_type": "code",
   "execution_count": 95,
   "id": "9464c8dc-38da-49e9-b1d5-452d6c1e3357",
   "metadata": {},
   "outputs": [],
   "source": [
    "cc_ids = ['2511','1596','1597','3127','1404','3043','1517','1527','2941','1043','2609','2596','2614','1483','3239','2264','2216','2148','2098','2120','1996','1979','1702','1672','1516','1518','1606','1501','1505','1486','1480','1351','1266','1147','1090','0843','0675','0292','0275','0176','0086','0044','0016','0029','3248','2420','0413','0787','0573']  # Liste des identifiants des conventions collectives"
   ]
  },
  {
   "cell_type": "markdown",
   "id": "dd07dd65",
   "metadata": {},
   "source": [
    "### Requête ES"
   ]
  },
  {
   "cell_type": "code",
   "execution_count": 96,
   "id": "d53a28c2",
   "metadata": {},
   "outputs": [
    {
     "name": "stdout",
     "output_type": "stream",
     "text": [
      "Connection with Elasticsearch \u001b[92mestablished with success\u001b[0m\n"
     ]
    }
   ],
   "source": [
    "es_connector = ElasticsearchConnector(env='monolog')\n",
    "\n",
    "QUERY = {\n",
    "  \"query\": {\n",
    "    \"bool\": { \n",
    "      \"must\": [\n",
    "        {\n",
    "          \"bool\": {\n",
    "            \"should\": [\n",
    "              {\n",
    "                \"prefix\": {\n",
    "                  \"url\": \"https://code.travail.gouv.fr/outils/convention-collective\"\n",
    "                }\n",
    "              },\n",
    "              {\n",
    "                \"prefix\": {\n",
    "                  \"url\": \"https://code.travail.gouv.fr/convention-collective/3239\"\n",
    "                }\n",
    "              }\n",
    "            ]\n",
    "          }\n",
    "        },\n",
    "        {\n",
    "          \"range\": {\n",
    "            \"logfile\": {\n",
    "              \"gte\": date_debut,\n",
    "              \"lt\": date_fin\n",
    "            }\n",
    "          }\n",
    "        }\n",
    "      ]\n",
    "    }\n",
    "  }\n",
    "}"
   ]
  },
  {
   "cell_type": "code",
   "execution_count": 97,
   "id": "b39eb07a",
   "metadata": {},
   "outputs": [
    {
     "data": {
      "application/vnd.jupyter.widget-view+json": {
       "model_id": "878ab07c2fcf4c96af8a48424a4e8bd0",
       "version_major": 2,
       "version_minor": 0
      },
      "text/plain": [
       "  0%|          | 0/900325 [00:00<?, ?it/s]"
      ]
     },
     "metadata": {},
     "output_type": "display_data"
    }
   ],
   "source": [
    "inital_logs = es_connector.execute_query(QUERY, \"logs-new\")"
   ]
  },
  {
   "cell_type": "markdown",
   "id": "f078799e",
   "metadata": {},
   "source": [
    "## Taux des visites où l'utilisateur a obtenu sa convention collective"
   ]
  },
  {
   "cell_type": "markdown",
   "id": "6bb27abb",
   "metadata": {},
   "source": [
    "### Nombre de visites sur l'outil"
   ]
  },
  {
   "cell_type": "code",
   "execution_count": 98,
   "id": "79604d1a",
   "metadata": {},
   "outputs": [],
   "source": [
    "logs = inital_logs.copy()\n",
    "\n",
    "total_unique_visits = len(logs['idVisit'].unique())"
   ]
  },
  {
   "cell_type": "markdown",
   "id": "6f2bd408",
   "metadata": {},
   "source": [
    "### Nombre de visites passant par la recherche CC"
   ]
  },
  {
   "cell_type": "code",
   "execution_count": 99,
   "id": "7fd85d5f",
   "metadata": {},
   "outputs": [],
   "source": [
    "logs_agreements = inital_logs[\n",
    "    inital_logs['url'] == 'https://code.travail.gouv.fr/outils/convention-collective/convention'\n",
    "]\n",
    "\n",
    "total_unique_visits_agreements = len(logs_agreements['idVisit'].unique())"
   ]
  },
  {
   "cell_type": "markdown",
   "id": "e95ad281-2427-471d-a6d4-a3f79bf4f696",
   "metadata": {},
   "source": [
    "### Nombre de visites ayant effectué une recherche de CC"
   ]
  },
  {
   "cell_type": "code",
   "execution_count": 100,
   "id": "d9887824-967e-4b7f-861c-9b9655351feb",
   "metadata": {},
   "outputs": [],
   "source": [
    "logs_agreement_search = inital_logs[\n",
    "    inital_logs['type'] == 'cc_search'\n",
    "]\n",
    "\n",
    "total_agreement_search = len(logs_agreement_search['idVisit'].unique())"
   ]
  },
  {
   "cell_type": "markdown",
   "id": "c9e4013a-d005-4421-b0e6-d557925a0df3",
   "metadata": {},
   "source": [
    "### Nombre de visites ayant cliqué sur une convention collective"
   ]
  },
  {
   "cell_type": "code",
   "execution_count": 101,
   "id": "d0eb53d2-ab52-47af-a8ef-89ad24bdb29f",
   "metadata": {},
   "outputs": [],
   "source": [
    "logs_agreements_select = inital_logs[\n",
    "    inital_logs['type'] == 'cc_select_p1'\n",
    "]\n",
    "\n",
    "total_unique_visits_agreements_select = len(logs_agreements_select['idVisit'].unique())"
   ]
  },
  {
   "cell_type": "markdown",
   "id": "dea2430d-9f72-4a4c-9aa6-257c05b460e8",
   "metadata": {},
   "source": [
    "### Nombre de visites passant par la recherche d'entreprise"
   ]
  },
  {
   "cell_type": "code",
   "execution_count": 102,
   "id": "45f5966a-3daf-49a3-b6a1-6e1629badb4c",
   "metadata": {},
   "outputs": [],
   "source": [
    "logs_enterprises = inital_logs[\n",
    "    inital_logs['url'] == 'https://code.travail.gouv.fr/outils/convention-collective/entreprise'\n",
    "]\n",
    "\n",
    "total_unique_visits_enterprises = len(logs_enterprises['idVisit'].unique())"
   ]
  },
  {
   "cell_type": "markdown",
   "id": "580d905b-4246-43b5-a335-793604eda421",
   "metadata": {},
   "source": [
    "### Nombre de visite avec une recherche d'entreprise"
   ]
  },
  {
   "cell_type": "code",
   "execution_count": 103,
   "id": "dc8534f5-ed47-485e-a6de-c2c23d4cd2a2",
   "metadata": {},
   "outputs": [],
   "source": [
    "logs_enterprise_search = inital_logs[\n",
    "    inital_logs['type'] == 'enterprise_search'\n",
    "]\n",
    "\n",
    "total_enterprise_search = len(logs_enterprise_search['idVisit'].unique())"
   ]
  },
  {
   "cell_type": "markdown",
   "id": "6c1d989f-92d7-4de0-a97a-b199d7cc5e7d",
   "metadata": {},
   "source": [
    "### Nombre de visite avec une sélection d'entreprise"
   ]
  },
  {
   "cell_type": "code",
   "execution_count": 104,
   "id": "630a6278-fa06-448e-9b76-e029ac2d3d09",
   "metadata": {},
   "outputs": [],
   "source": [
    "logs_enterprise_select = inital_logs[\n",
    "    inital_logs['type'] == 'enterprise_select'\n",
    "]\n",
    "\n",
    "total_enterprise_select = len(logs_enterprise_select['idVisit'].unique())"
   ]
  },
  {
   "cell_type": "code",
   "execution_count": 105,
   "id": "5986f108-d1d4-4ffa-974f-243510cd1a0f",
   "metadata": {},
   "outputs": [],
   "source": [
    "logs_enterprise_cc_select = inital_logs[\n",
    "    inital_logs['type'] == 'cc_select_p2'\n",
    "]\n",
    "\n",
    "total_enterprise_cc_select = len(logs_enterprise_cc_select['idVisit'].unique())"
   ]
  },
  {
   "cell_type": "markdown",
   "id": "65060f1a-82d1-49a5-bb43-9a6bcfaa79c0",
   "metadata": {},
   "source": [
    "### Nombre de visites arrivant sur la CC 3239 à partir de l'écran de recherche par entreprise\n",
    "\n",
    "Il existe un event du type : cc_search_type_of_users, avec l'action : click_je_n_ai_pas_d_entreprise\n",
    "\n",
    "Cependant l'action n'est pas disponible. Il faut donc trouver une autre méthode pour le trouver en attendant que l'action soit disponible directement.\n",
    "\n",
    "Dans le cas présent, on va regarder pour chaque visite sur la page de recherche entreprise, s'il y a la visite de la page de la convention collective 3239 juste après. Dans ce cas, on va déduire que l'utilisateur a utilisé ce lien."
   ]
  },
  {
   "cell_type": "code",
   "execution_count": null,
   "id": "a311b6de-c2b4-4ac0-a31b-c4bfa702327d",
   "metadata": {},
   "outputs": [],
   "source": [
    "no_enterprise_logs = inital_logs[\n",
    "    inital_logs['type'] == 'visit_content'\n",
    "]\n",
    "\n",
    "# Convertir timestamp en datetime pour trier facilement\n",
    "no_enterprise_logs['date'] = pd.to_datetime(no_enterprise_logs['timestamp'], unit='s')\n",
    "\n",
    "# Trier par idVisit et timestamp\n",
    "sorted_no_enterprise_logs = no_enterprise_logs.sort_values(by=['idVisit', 'date'])\n",
    "\n",
    "def filter_visits(group):\n",
    "    urls = group['url'].tolist()\n",
    "    # Parcourir la liste des URLs\n",
    "    for i in range(len(urls) - 1):\n",
    "        # Vérifier que l'URL actuelle est une recherche par entreprise\n",
    "        if urls[i].startswith(\"https://code.travail.gouv.fr/outils/convention-collective/entreprise\"):\n",
    "            # Vérifier que l'URL suivante est la convention collective 3239\n",
    "            if urls[i + 1].startswith(\"https://code.travail.gouv.fr/convention-collective/3239\"):\n",
    "                return True\n",
    "    return False\n",
    "\n",
    "# Appliquer le filtre sur les groupes\n",
    "grouped_no_enterprise_logs = sorted_no_enterprise_logs.groupby('idVisit')\n",
    "valid_visits = grouped_no_enterprise_logs.filter(filter_visits)\n",
    "\n",
    "# Trouver les valeurs uniques de la colonne 'idVisit'\n",
    "total_enterprise_3239 = len(valid_visits['idVisit'].unique())"
   ]
  },
  {
   "cell_type": "markdown",
   "id": "624b6e4f-d4f5-4e86-bcc6-5c89027da397",
   "metadata": {},
   "source": [
    "### Création du tableau contenant les données de convertion"
   ]
  },
  {
   "cell_type": "code",
   "execution_count": 107,
   "id": "4f9b3fc1-55e3-437e-9d7a-44eb5e8c3fd8",
   "metadata": {},
   "outputs": [
    {
     "data": {
      "text/html": [
       "<style type=\"text/css\">\n",
       "</style>\n",
       "<table id=\"T_0826c\">\n",
       "  <thead>\n",
       "    <tr>\n",
       "      <th class=\"blank level0\" >&nbsp;</th>\n",
       "      <th id=\"T_0826c_level0_col0\" class=\"col_heading level0 col0\" >Total visites</th>\n",
       "      <th id=\"T_0826c_level0_col1\" class=\"col_heading level0 col1\" >P1 : Visites</th>\n",
       "      <th id=\"T_0826c_level0_col2\" class=\"col_heading level0 col2\" >P1 : Recherches</th>\n",
       "      <th id=\"T_0826c_level0_col3\" class=\"col_heading level0 col3\" >P1 : Click CC</th>\n",
       "      <th id=\"T_0826c_level0_col4\" class=\"col_heading level0 col4\" >P2 : Visites</th>\n",
       "      <th id=\"T_0826c_level0_col5\" class=\"col_heading level0 col5\" >P2 : Recherches</th>\n",
       "      <th id=\"T_0826c_level0_col6\" class=\"col_heading level0 col6\" >P2 : Sélections entreprise</th>\n",
       "      <th id=\"T_0826c_level0_col7\" class=\"col_heading level0 col7\" >P2 : Click CC</th>\n",
       "      <th id=\"T_0826c_level0_col8\" class=\"col_heading level0 col8\" >P2 : 3239</th>\n",
       "      <th id=\"T_0826c_level0_col9\" class=\"col_heading level0 col9\" >Convertion globale</th>\n",
       "    </tr>\n",
       "  </thead>\n",
       "  <tbody>\n",
       "    <tr>\n",
       "      <th id=\"T_0826c_level0_row0\" class=\"row_heading level0 row0\" >0</th>\n",
       "      <td id=\"T_0826c_row0_col0\" class=\"data row0 col0\" >72,240</td>\n",
       "      <td id=\"T_0826c_row0_col1\" class=\"data row0 col1\" >22,706</td>\n",
       "      <td id=\"T_0826c_row0_col2\" class=\"data row0 col2\" >20,067</td>\n",
       "      <td id=\"T_0826c_row0_col3\" class=\"data row0 col3\" >15,886</td>\n",
       "      <td id=\"T_0826c_row0_col4\" class=\"data row0 col4\" >43,747</td>\n",
       "      <td id=\"T_0826c_row0_col5\" class=\"data row0 col5\" >36,527</td>\n",
       "      <td id=\"T_0826c_row0_col6\" class=\"data row0 col6\" >33,187</td>\n",
       "      <td id=\"T_0826c_row0_col7\" class=\"data row0 col7\" >17,464</td>\n",
       "      <td id=\"T_0826c_row0_col8\" class=\"data row0 col8\" >3,193</td>\n",
       "      <td id=\"T_0826c_row0_col9\" class=\"data row0 col9\" >36,543</td>\n",
       "    </tr>\n",
       "    <tr>\n",
       "      <th id=\"T_0826c_level0_row1\" class=\"row_heading level0 row1\" >1</th>\n",
       "      <td id=\"T_0826c_row1_col0\" class=\"data row1 col0\" >100</td>\n",
       "      <td id=\"T_0826c_row1_col1\" class=\"data row1 col1\" >31.43%</td>\n",
       "      <td id=\"T_0826c_row1_col2\" class=\"data row1 col2\" >88.38%</td>\n",
       "      <td id=\"T_0826c_row1_col3\" class=\"data row1 col3\" >79.16%</td>\n",
       "      <td id=\"T_0826c_row1_col4\" class=\"data row1 col4\" >60.56%</td>\n",
       "      <td id=\"T_0826c_row1_col5\" class=\"data row1 col5\" >83.50%</td>\n",
       "      <td id=\"T_0826c_row1_col6\" class=\"data row1 col6\" >90.86%</td>\n",
       "      <td id=\"T_0826c_row1_col7\" class=\"data row1 col7\" >52.62%</td>\n",
       "      <td id=\"T_0826c_row1_col8\" class=\"data row1 col8\" >7.30%</td>\n",
       "      <td id=\"T_0826c_row1_col9\" class=\"data row1 col9\" >50.59%</td>\n",
       "    </tr>\n",
       "  </tbody>\n",
       "</table>\n"
      ],
      "text/plain": [
       "<pandas.io.formats.style.Styler at 0x13decd3a0>"
      ]
     },
     "execution_count": 107,
     "metadata": {},
     "output_type": "execute_result"
    }
   ],
   "source": [
    "data = {\n",
    "    \"Total visites\": [total_unique_visits, 100],\n",
    "    \"P1 : Visites\": [total_unique_visits_agreements, (total_unique_visits_agreements / total_unique_visits * 100)],\n",
    "    \"P1 : Recherches\": [total_agreement_search, (total_agreement_search / total_unique_visits_agreements * 100)],\n",
    "    \"P1 : Click CC\": [total_unique_visits_agreements_select, (total_unique_visits_agreements_select / total_agreement_search * 100)],\n",
    "    \"P2 : Visites\": [total_unique_visits_enterprises, (total_unique_visits_enterprises / total_unique_visits * 100)],\n",
    "    \"P2 : Recherches\": [total_enterprise_search, (total_enterprise_search / total_unique_visits_enterprises * 100)],\n",
    "    \"P2 : Sélections entreprise\": [total_enterprise_select, (total_enterprise_select / total_enterprise_search * 100)],\n",
    "    \"P2 : Click CC\": [total_enterprise_cc_select, (total_enterprise_cc_select / total_enterprise_select * 100)],\n",
    "    \"P2 : 3239\": [total_enterprise_3239, (total_enterprise_3239 / total_unique_visits_enterprises * 100)],\n",
    "    \"Convertion globale\": [ total_enterprise_3239 + total_enterprise_cc_select + total_unique_visits_agreements_select, ((total_enterprise_3239 + total_enterprise_cc_select + total_unique_visits_agreements_select) / total_unique_visits * 100)]\n",
    "}\n",
    "\n",
    "df = pd.DataFrame(data)\n",
    "\n",
    "\n",
    "# Méthodes de formatage\n",
    "def format_numbers(value):\n",
    "    \"\"\"Formater les nombres bruts (première ligne).\"\"\"\n",
    "    if isinstance(value, float):\n",
    "        return f\"{int(value):,}\"  # Nombre sans décimales\n",
    "    return f\"{value:,}\"\n",
    "\n",
    "def format_percentages(value):\n",
    "    \"\"\"Formater les pourcentages (deuxième ligne).\"\"\"\n",
    "    return f\"{value:.2f}%\" if isinstance(value, float) else value\n",
    "\n",
    "# Appliquer les styles\n",
    "styled_df = (\n",
    "    df.style\n",
    "    .format(\n",
    "        {col: format_numbers for col in df.columns}, subset=pd.IndexSlice[0, :]  # Première ligne\n",
    "    )\n",
    "    .format(\n",
    "        {col: format_percentages for col in df.columns}, subset=pd.IndexSlice[1, :]  # Deuxième ligne\n",
    "    )\n",
    ")\n",
    "\n",
    "styled_df"
   ]
  },
  {
   "cell_type": "markdown",
   "id": "2da7131c-76fd-4d4b-b67f-13eb508ee41a",
   "metadata": {},
   "source": [
    "### Sauvegarde du tableau dans un fichier CSV\n",
    "\n",
    "Le fichier est disponible dans le dossier `explorations/outputs`"
   ]
  },
  {
   "cell_type": "code",
   "execution_count": 108,
   "id": "26d07d59-2f2d-4918-a894-6dd138d73ff2",
   "metadata": {},
   "outputs": [],
   "source": [
    "df.to_csv(f\"./outputs/ratio_completion_trouver_sa_convention_collective_{date_debut}_{date_fin}.csv\", index=False, encoding='utf-8')"
   ]
  },
  {
   "cell_type": "code",
   "execution_count": null,
   "id": "5957d5df-09ab-44eb-b3c1-bc549810eff7",
   "metadata": {},
   "outputs": [],
   "source": []
  }
 ],
 "metadata": {
  "kernelspec": {
   "display_name": "Python 3 (ipykernel)",
   "language": "python",
   "name": "python3"
  },
  "language_info": {
   "codemirror_mode": {
    "name": "ipython",
    "version": 3
   },
   "file_extension": ".py",
   "mimetype": "text/x-python",
   "name": "python",
   "nbconvert_exporter": "python",
   "pygments_lexer": "ipython3",
   "version": "3.9.6"
  }
 },
 "nbformat": 4,
 "nbformat_minor": 5
}
