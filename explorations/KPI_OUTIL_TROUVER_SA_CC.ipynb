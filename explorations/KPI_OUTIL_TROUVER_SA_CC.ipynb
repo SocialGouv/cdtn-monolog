{
 "cells": [
  {
   "cell_type": "markdown",
   "id": "19563213",
   "metadata": {},
   "source": [
    "# OUTIL - TROUVER SA CONVENTION COLLECTIVE\n",
    "\n",
    "**Définition** : \n",
    "\n",
    "Ce notebook permet de générer les KPIs autours de l'outil Trouver sa convention collective :\n",
    "\n",
    " * Convertion : Taux des visites où l'utilisateur a obtenu sa convention collective\n",
    "\n",
    "\n",
    "## Récupération des données"
   ]
  },
  {
   "cell_type": "code",
   "execution_count": null,
   "id": "123d1284",
   "metadata": {},
   "outputs": [],
   "source": [
    "import pandas as pd\n",
    "import time\n",
    "import json\n",
    "import math\n",
    "from tqdm.notebook import tqdm\n",
    "import plotly.express as px\n",
    "import plotly.graph_objects as go\n",
    "from datetime import datetime\n",
    "from src.elasticsearch_connector import ElasticsearchConnector\n",
    "#from typing import List, Dict\n",
    "\n",
    "\n",
    "pd.set_option('display.max_columns', 100)\n",
    "pd.set_option('display.max_rows', 100)"
   ]
  },
  {
   "cell_type": "markdown",
   "id": "127712e1",
   "metadata": {},
   "source": [
    "### Interval\n",
    "\n",
    "Renseignez la date de début (incluse) et de fin (non incluse) souhaitées pour la récupération des données"
   ]
  },
  {
   "cell_type": "code",
   "execution_count": null,
   "id": "d6941ff6",
   "metadata": {},
   "outputs": [],
   "source": [
    "date_debut = '2024-11-01'\n",
    "date_fin = '2024-12-01'"
   ]
  },
  {
   "cell_type": "markdown",
   "id": "5ad4c9d0",
   "metadata": {},
   "source": [
    "### Convention collectives supportées\n",
    "\n",
    "Utilisé pour filtrer dans la requête ES et allégé le processus"
   ]
  },
  {
   "cell_type": "code",
   "execution_count": null,
   "id": "075f6c2d",
   "metadata": {},
   "outputs": [],
   "source": [
    "cc_ids = ['2511','1596','1597','3127','1404','3043','1517','1527','2941','1043','2609','2596','2614','1483','3239','2264','2216','2148','2098','2120','1996','1979','1702','1672','1516','1518','1606','1501','1505','1486','1480','1351','1266','1147','1090','0843','0675','0292','0275','0176','0086','0044','0016','0029','3248','2420','0413','0787','0573']  # Liste des identifiants des conventions collectives"
   ]
  },
  {
   "cell_type": "markdown",
   "id": "542efaf6",
   "metadata": {},
   "source": [
    "### Requête ES"
   ]
  },
  {
   "cell_type": "code",
   "execution_count": null,
   "id": "2ca44b46",
   "metadata": {},
   "outputs": [],
   "source": [
    "es_connector = ElasticsearchConnector(env='monolog')\n",
    "\n",
    "QUERY = {\n",
    "  \"query\": {\n",
    "    \"bool\": { \n",
    "      \"must\": [\n",
    "        {\n",
    "          \"bool\": {\n",
    "            \"should\": [\n",
    "              {\n",
    "                \"prefix\": {\n",
    "                  \"url\": \"https://code.travail.gouv.fr/outils/convention-collective\"\n",
    "                }\n",
    "              },\n",
    "              {\n",
    "                \"prefix\": {\n",
    "                  \"url\": \"https://code.travail.gouv.fr/convention-collective/3239\"\n",
    "                }\n",
    "              }\n",
    "            ]\n",
    "          }\n",
    "        },\n",
    "        {\n",
    "          \"range\": {\n",
    "            \"logfile\": {\n",
    "              \"gte\": date_debut,\n",
    "              \"lt\": date_fin\n",
    "            }\n",
    "          }\n",
    "        }\n",
    "      ]\n",
    "    }\n",
    "  }\n",
    "}"
   ]
  },
  {
   "cell_type": "code",
   "execution_count": null,
   "id": "e3b73f7c",
   "metadata": {},
   "outputs": [],
   "source": [
    "inital_logs = es_connector.execute_query(QUERY, \"logs-new\")"
   ]
  },
  {
   "cell_type": "code",
   "execution_count": null,
   "id": "a5185868",
   "metadata": {},
   "outputs": [],
   "source": [
    "tmp_log = inital_logs.copy()\n",
    "# Nettoyer les URLs pour retirer tout ce qui suit \"?\"\n",
    "inital_logs['url'] = inital_logs['url'].apply(lambda x: x.split('?')[0].split('#')[0])"
   ]
  },
  {
   "cell_type": "markdown",
   "id": "873d1e0d",
   "metadata": {},
   "source": [
    "## Taux des visites où l'utilisateur a obtenu sa convention collective"
   ]
  },
  {
   "cell_type": "markdown",
   "id": "f2f99df7",
   "metadata": {},
   "source": [
    "### Nombre de visites sur l'outil"
   ]
  },
  {
   "cell_type": "code",
   "execution_count": null,
   "id": "d146fa21",
   "metadata": {},
   "outputs": [],
   "source": [
    "logs = inital_logs.copy()\n",
    "\n",
    "total_unique_visits = len(logs['idVisit'].unique())"
   ]
  },
  {
   "cell_type": "markdown",
   "id": "5a8347d3",
   "metadata": {},
   "source": [
    "### Nombre de visites sur l'étape \"Je ne connais pas\""
   ]
  },
  {
   "cell_type": "code",
   "execution_count": null,
   "id": "382be506",
   "metadata": {},
   "outputs": [],
   "source": [
    "logs_agreements = inital_logs[\n",
    "    inital_logs['url'] == 'https://code.travail.gouv.fr/outils/convention-collective/convention'\n",
    "]\n",
    "\n",
    "total_unique_visits_agreements = len(logs_agreements['idVisit'].unique())"
   ]
  },
  {
   "cell_type": "markdown",
   "id": "345d152b",
   "metadata": {},
   "source": [
    "### Nombre de visites sur l'étape \"Je ne connais pas\" provenant de l'outils \"Trouver sa CC\""
   ]
  },
  {
   "cell_type": "code",
   "execution_count": null,
   "id": "caf8ea8d",
   "metadata": {},
   "outputs": [],
   "source": [
    "logs_agreements_from_tool = inital_logs[\n",
    "    inital_logs['type'] == 'visit_content'\n",
    "]\n",
    "\n",
    "# Convertir timestamp en datetime pour trier facilement\n",
    "logs_agreements_from_tool['date'] = pd.to_datetime(logs_agreements_from_tool['timestamp'], unit='s')\n",
    "\n",
    "# Trier par idVisit et timestamp\n",
    "sorted_logs_agreements_from_tool = logs_agreements_from_tool.sort_values(by=['idVisit', 'date'])\n",
    "\n",
    "def filter_visits(group):\n",
    "    urls = group['url'].tolist()\n",
    "    # Parcourir la liste des URLs\n",
    "    for i in range(len(urls) - 1):\n",
    "        if urls[i] == \"https://code.travail.gouv.fr/outils/convention-collective\":\n",
    "            if urls[i + 1] == \"https://code.travail.gouv.fr/outils/convention-collective/convention\":\n",
    "                return True\n",
    "    return False\n",
    "\n",
    "# Appliquer le filtre sur les groupes\n",
    "grouped_sorted_logs_agreements_from_tool = sorted_logs_agreements_from_tool.groupby('idVisit')\n",
    "visits_agreements_from_tool = grouped_sorted_logs_agreements_from_tool.filter(filter_visits)\n",
    "\n",
    "# Trouver les valeurs uniques de la colonne 'idVisit'\n",
    "total_visits_agreements_from_tool = len(visits_agreements_from_tool['idVisit'].unique())"
   ]
  },
  {
   "cell_type": "markdown",
   "id": "089c19ea",
   "metadata": {},
   "source": [
    "### Nombre de visites ayant effectué une recherche de CC"
   ]
  },
  {
   "cell_type": "code",
   "execution_count": null,
   "id": "8eed3613",
   "metadata": {},
   "outputs": [],
   "source": [
    "logs_agreement_search = inital_logs[\n",
    "    inital_logs['type'] == 'cc_search'\n",
    "]\n",
    "\n",
    "total_agreement_search = len(logs_agreement_search['idVisit'].unique())"
   ]
  },
  {
   "cell_type": "markdown",
   "id": "54bb63ee",
   "metadata": {},
   "source": [
    "### Nombre de visites ayant cliqué sur une convention collective"
   ]
  },
  {
   "cell_type": "code",
   "execution_count": null,
   "id": "79c53985",
   "metadata": {},
   "outputs": [],
   "source": [
    "logs_agreements_select = inital_logs[\n",
    "    inital_logs['type'] == 'cc_select_p1'\n",
    "]\n",
    "\n",
    "total_unique_visits_agreements_select = len(logs_agreements_select['idVisit'].unique())"
   ]
  },
  {
   "cell_type": "markdown",
   "id": "6d9ae05a",
   "metadata": {},
   "source": [
    "### Nombre de visites passant par la recherche d'entreprise"
   ]
  },
  {
   "cell_type": "code",
   "execution_count": null,
   "id": "c29cecc2",
   "metadata": {},
   "outputs": [],
   "source": [
    "logs_enterprises = inital_logs[\n",
    "    inital_logs['url'] == 'https://code.travail.gouv.fr/outils/convention-collective/entreprise'\n",
    "]\n",
    "\n",
    "total_unique_visits_enterprises = len(logs_enterprises['idVisit'].unique())"
   ]
  },
  {
   "cell_type": "markdown",
   "id": "8045c2c6",
   "metadata": {},
   "source": [
    "### Nombre de visites passant par la recherche d'entreprise provenant de l'outils \"Trouver sa CC\""
   ]
  },
  {
   "cell_type": "code",
   "execution_count": null,
   "id": "4266ae6e",
   "metadata": {},
   "outputs": [],
   "source": [
    "logs_enterprises_from_tool = inital_logs[\n",
    "    inital_logs['type'] == 'visit_content'\n",
    "]\n",
    "\n",
    "# Convertir timestamp en datetime pour trier facilement\n",
    "logs_enterprises_from_tool['date'] = pd.to_datetime(logs_enterprises_from_tool['timestamp'], unit='s')\n",
    "\n",
    "# Trier par idVisit et timestamp\n",
    "sorted_logs_enterprises_from_tool = logs_enterprises_from_tool.sort_values(by=['idVisit', 'date'])\n",
    "\n",
    "def filter_visits(group):\n",
    "    urls = group['url'].tolist()\n",
    "    # Parcourir la liste des URLs\n",
    "    for i in range(len(urls) - 1):\n",
    "        if urls[i] == \"https://code.travail.gouv.fr/outils/convention-collective\":\n",
    "            if urls[i + 1] == \"https://code.travail.gouv.fr/outils/convention-collective/entreprise\":\n",
    "                return True\n",
    "    return False\n",
    "\n",
    "# Appliquer le filtre sur les groupes\n",
    "grouped_sorted_logs_enterprises_from_tool = sorted_logs_enterprises_from_tool.groupby('idVisit')\n",
    "visits_enterprises_from_tool = grouped_sorted_logs_enterprises_from_tool.filter(filter_visits)\n",
    "\n",
    "# Trouver les valeurs uniques de la colonne 'idVisit'\n",
    "total_visits_enterprises_from_tool = len(visits_enterprises_from_tool['idVisit'].unique())"
   ]
  },
  {
   "cell_type": "markdown",
   "id": "dde85212",
   "metadata": {},
   "source": [
    "### Nombre de visite avec une recherche d'entreprise"
   ]
  },
  {
   "cell_type": "code",
   "execution_count": null,
   "id": "dcae97de",
   "metadata": {},
   "outputs": [],
   "source": [
    "logs_enterprise_search = inital_logs[\n",
    "    inital_logs['type'] == 'enterprise_search'\n",
    "]\n",
    "\n",
    "total_enterprise_search = len(logs_enterprise_search['idVisit'].unique())"
   ]
  },
  {
   "cell_type": "markdown",
   "id": "5c33f735",
   "metadata": {},
   "source": [
    "### Nombre de visite avec une sélection d'entreprise"
   ]
  },
  {
   "cell_type": "code",
   "execution_count": null,
   "id": "b0f80a8e",
   "metadata": {},
   "outputs": [],
   "source": [
    "logs_enterprise_select = inital_logs[\n",
    "    inital_logs['type'] == 'enterprise_select'\n",
    "]\n",
    "\n",
    "total_enterprise_select = len(logs_enterprise_select['idVisit'].unique())"
   ]
  },
  {
   "cell_type": "code",
   "execution_count": null,
   "id": "4835cfc4",
   "metadata": {},
   "outputs": [],
   "source": [
    "logs_enterprise_cc_select = inital_logs[\n",
    "    inital_logs['type'] == 'cc_select_p2'\n",
    "]\n",
    "\n",
    "total_enterprise_cc_select = len(logs_enterprise_cc_select['idVisit'].unique())"
   ]
  },
  {
   "cell_type": "markdown",
   "id": "cf2e529f",
   "metadata": {},
   "source": [
    "### Nombre de visites arrivant sur la CC 3239 à partir de l'écran de recherche par entreprise\n",
    "\n",
    "Il existe un event du type : cc_search_type_of_users, avec l'action : click_je_n_ai_pas_d_entreprise\n",
    "\n",
    "Cependant l'action n'est pas disponible. Il faut donc trouver une autre méthode pour le trouver en attendant que l'action soit disponible directement.\n",
    "\n",
    "Dans le cas présent, on va regarder pour chaque visite sur la page de recherche entreprise, s'il y a la visite de la page de la convention collective 3239 juste après. Dans ce cas, on va déduire que l'utilisateur a utilisé ce lien."
   ]
  },
  {
   "cell_type": "code",
   "execution_count": null,
   "id": "f893d768",
   "metadata": {},
   "outputs": [],
   "source": [
    "no_enterprise_logs = inital_logs[\n",
    "    inital_logs['type'] == 'visit_content'\n",
    "]\n",
    "\n",
    "# Convertir timestamp en datetime pour trier facilement\n",
    "no_enterprise_logs['date'] = pd.to_datetime(no_enterprise_logs['timestamp'], unit='s')\n",
    "\n",
    "# Trier par idVisit et timestamp\n",
    "sorted_no_enterprise_logs = no_enterprise_logs.sort_values(by=['idVisit', 'date'])\n",
    "\n",
    "def filter_visits(group):\n",
    "    urls = group['url'].tolist()\n",
    "    # Parcourir la liste des URLs\n",
    "    for i in range(len(urls) - 1):\n",
    "        # Vérifier que l'URL actuelle est une recherche par entreprise\n",
    "        if urls[i].startswith(\"https://code.travail.gouv.fr/outils/convention-collective/entreprise\"):\n",
    "            # Vérifier que l'URL suivante est la convention collective 3239\n",
    "            if urls[i + 1].startswith(\"https://code.travail.gouv.fr/convention-collective/3239\"):\n",
    "                return True\n",
    "    return False\n",
    "\n",
    "# Appliquer le filtre sur les groupes\n",
    "grouped_no_enterprise_logs = sorted_no_enterprise_logs.groupby('idVisit')\n",
    "valid_visits = grouped_no_enterprise_logs.filter(filter_visits)\n",
    "\n",
    "# Trouver les valeurs uniques de la colonne 'idVisit'\n",
    "total_enterprise_3239 = len(valid_visits['idVisit'].unique())"
   ]
  },
  {
   "cell_type": "markdown",
   "id": "f94d615c",
   "metadata": {},
   "source": [
    "### Création du tableau contenant les données de convertion"
   ]
  },
  {
   "cell_type": "code",
   "execution_count": null,
   "id": "17c4159c",
   "metadata": {},
   "outputs": [],
   "source": [
    "# Méthodes de formatage\n",
    "def format_numbers(value):\n",
    "    \"\"\"Formater les nombres bruts (première ligne).\"\"\"\n",
    "    if isinstance(value, float):\n",
    "        return f\"{int(value):,}\"  # Nombre sans décimales\n",
    "    return f\"{value:,}\"\n",
    "\n",
    "def format_percentages(value):\n",
    "    \"\"\"Formater les pourcentages (deuxième ligne).\"\"\"\n",
    "    return f\"{value:.2f}%\" if isinstance(value, float) else value\n",
    "\n",
    "def display_result(data):\n",
    "    df = pd.DataFrame(data)\n",
    "\n",
    "    # Appliquer les styles\n",
    "    styled_df = (\n",
    "        df.style\n",
    "        .format(\n",
    "            {col: format_numbers for col in df.columns}, subset=pd.IndexSlice[0, :]  # Première ligne\n",
    "        )\n",
    "        .format(\n",
    "            {col: format_percentages for col in df.columns}, subset=pd.IndexSlice[1, :]  # Deuxième ligne\n",
    "        )\n",
    "        .hide(axis=\"index\")\n",
    "    )\n",
    "\n",
    "    return styled_df"
   ]
  },
  {
   "cell_type": "markdown",
   "id": "7a9329c4",
   "metadata": {},
   "source": [
    "### Taux de convertion de la 1er page \"Trouver sa CC\""
   ]
  },
  {
   "cell_type": "code",
   "execution_count": null,
   "id": "23edfb2b",
   "metadata": {},
   "outputs": [],
   "source": [
    "data1 = {\n",
    "    \"Total visites\": [total_unique_visits, 100],\n",
    "    \"P1 : Conversion\": [total_visits_agreements_from_tool, (total_visits_agreements_from_tool / total_unique_visits * 100)],\n",
    "    \"P2 : Conversion\": [total_visits_enterprises_from_tool, (total_visits_enterprises_from_tool / total_unique_visits * 100)],\n",
    "}\n",
    "display_result(data1)"
   ]
  },
  {
   "cell_type": "markdown",
   "id": "7f459e52",
   "metadata": {},
   "source": [
    "### Funnel du parcours \"Je connais ma CC\" \n",
    "Les visites correspondent au total des visites sur la page /outils/convention-collective/convention (qu'elles proviennent de l'outil ou non)"
   ]
  },
  {
   "cell_type": "code",
   "execution_count": null,
   "id": "ab71b3f8",
   "metadata": {},
   "outputs": [],
   "source": [
    "data2 = {\n",
    "    \"P1 : Visites\": [total_unique_visits_agreements, 100],\n",
    "    \"P1 : Recherches\": [total_agreement_search, (total_agreement_search / total_unique_visits_agreements * 100)],\n",
    "    \"P1 : Click CC\": [total_unique_visits_agreements_select, (total_unique_visits_agreements_select / total_agreement_search * 100)],\n",
    "}\n",
    "display_result(data2)"
   ]
  },
  {
   "cell_type": "markdown",
   "id": "c75bf9ef",
   "metadata": {},
   "source": [
    "### Funnel du parcours \"Je ne connais pas ma CC\"\n",
    "\n",
    "Les visites correspondent au total des visites sur la page /outils/convention-collective/entreprise (qu'elles proviennent de l'outil ou non)\n"
   ]
  },
  {
   "cell_type": "code",
   "execution_count": null,
   "id": "bd0a26c4",
   "metadata": {},
   "outputs": [],
   "source": [
    "data3 = {\n",
    "    \"P2 : Visites\": [total_unique_visits_enterprises, 100],\n",
    "    \"P2 : Recherches\": [total_enterprise_search, (total_enterprise_search / total_unique_visits_enterprises * 100)],\n",
    "    \"P2 : Sélections entreprise\": [total_enterprise_select, (total_enterprise_select / total_enterprise_search * 100)],\n",
    "    \"P2 : Click CC\": [total_enterprise_cc_select, (total_enterprise_cc_select / total_enterprise_select * 100)],\n",
    "    \"P2 : 3239\": [total_enterprise_3239, (total_enterprise_3239 / total_unique_visits_enterprises * 100)],\n",
    "}\n",
    "display_result(data3)"
   ]
  },
  {
   "cell_type": "markdown",
   "id": "3da7bfb5",
   "metadata": {},
   "source": [
    "### Résultats\n",
    "\n",
    "à copier directement dans le googlesheet"
   ]
  },
  {
   "cell_type": "code",
   "execution_count": null,
   "id": "01b2df45",
   "metadata": {
    "scrolled": true
   },
   "outputs": [],
   "source": [
    "from IPython.display import display\n",
    "print(\"Période \",date_debut, date_fin, \"\\n\")\n",
    "print(\"\\nTaux de convertion de la 1er page \\\"Trouver sa CC\\\"\")\n",
    "display(display_result(data1))\n",
    "\n",
    "print(\"\\nFunnel du parcours \\\"Je connais ma CC\\\"\")\n",
    "display(display_result(data2))\n",
    "\n",
    "print(\"\\nFunnel du parcours \\\"Je ne connais pas ma CC\\\"\")\n",
    "display(display_result(data3))"
   ]
  },
  {
   "cell_type": "code",
   "execution_count": null,
   "id": "5b444757",
   "metadata": {},
   "outputs": [],
   "source": []
  }
 ],
 "metadata": {
  "kernelspec": {
   "display_name": "Python 3 (ipykernel)",
   "language": "python",
   "name": "python3"
  },
  "language_info": {
   "codemirror_mode": {
    "name": "ipython",
    "version": 3
   },
   "file_extension": ".py",
   "mimetype": "text/x-python",
   "name": "python",
   "nbconvert_exporter": "python",
   "pygments_lexer": "ipython3",
   "version": "3.10.12"
  }
 },
 "nbformat": 4,
 "nbformat_minor": 5
}
