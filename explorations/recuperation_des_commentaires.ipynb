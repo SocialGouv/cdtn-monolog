{
 "cells": [
  {
   "cell_type": "markdown",
   "id": "3506335e",
   "metadata": {},
   "source": [
    "# Nom du notebook\n",
    "\n",
    "**Définition** : Ce que je veux faire\n",
    "\n",
    "**Formule** : \n",
    "\n",
    "## On commence par le chargement des données\n",
    "on décommente ce dont on a besoin"
   ]
  },
  {
   "cell_type": "code",
   "execution_count": null,
   "id": "5c35ae28",
   "metadata": {},
   "outputs": [],
   "source": [
    "import pandas as pd\n",
    "import time\n",
    "import json\n",
    "import math\n",
    "from tqdm.notebook import tqdm\n",
    "import plotly.express as px\n",
    "import plotly.graph_objects as go\n",
    "from datetime import datetime\n",
    "#from typing import List, Dict\n",
    "\n",
    "\n",
    "pd.set_option('display.max_columns', 100)\n",
    "pd.set_option('display.max_rows', 100)"
   ]
  },
  {
   "cell_type": "markdown",
   "id": "15c0e92c",
   "metadata": {},
   "source": [
    "## Récupération des logs pour le mois de février et pour plus tard"
   ]
  },
  {
   "cell_type": "code",
   "execution_count": null,
   "id": "1b85f980",
   "metadata": {},
   "outputs": [],
   "source": [
    "from query_elastic_search import load_file_if_exists_or_execute_query\n",
    "\n",
    "QUERY = {\n",
    "    \"query\": {\n",
    "        \"bool\": { \n",
    "          \"must\": [\n",
    "            {\n",
    "              \"range\": {\n",
    "               \"logfile\": {\n",
    "                  \"gte\": \"2023-02-01\"\n",
    "               }\n",
    "              }\n",
    "            }\n",
    "          ]\n",
    "        }\n",
    "      }\n",
    "}"
   ]
  },
  {
   "cell_type": "code",
   "execution_count": null,
   "id": "dbb6e714",
   "metadata": {},
   "outputs": [],
   "source": [
    "logs = load_file_if_exists_or_execute_query(\"\", QUERY)"
   ]
  },
  {
   "cell_type": "code",
   "execution_count": null,
   "id": "a61e279b",
   "metadata": {},
   "outputs": [],
   "source": [
    "logs"
   ]
  },
  {
   "cell_type": "code",
   "execution_count": null,
   "id": "baa8381d",
   "metadata": {},
   "outputs": [],
   "source": [
    "logs[logs[\"feedbackType\"].isin([\"positive\", \"negative\", \"\"])]"
   ]
  },
  {
   "cell_type": "code",
   "execution_count": null,
   "id": "c6dd31b5",
   "metadata": {},
   "outputs": [],
   "source": [
    "comments = logs[logs[\"type\"] == \"feedback_suggestion\"][[\"url\", \"logfile\", \"feedbackType\"]]"
   ]
  },
  {
   "cell_type": "code",
   "execution_count": null,
   "id": "27514c9e",
   "metadata": {},
   "outputs": [],
   "source": [
    "comments.to_csv(\"comments_fevrier.csv\", sep=\";\", index=False)"
   ]
  },
  {
   "cell_type": "code",
   "execution_count": null,
   "id": "615eeae7",
   "metadata": {},
   "outputs": [],
   "source": []
  },
  {
   "cell_type": "code",
   "execution_count": null,
   "id": "cf6e6093",
   "metadata": {},
   "outputs": [],
   "source": []
  }
 ],
 "metadata": {
  "kernelspec": {
   "display_name": "Python 3 (ipykernel)",
   "language": "python",
   "name": "python3"
  },
  "language_info": {
   "codemirror_mode": {
    "name": "ipython",
    "version": 3
   },
   "file_extension": ".py",
   "mimetype": "text/x-python",
   "name": "python",
   "nbconvert_exporter": "python",
   "pygments_lexer": "ipython3",
   "version": "3.9.16"
  }
 },
 "nbformat": 4,
 "nbformat_minor": 5
}
