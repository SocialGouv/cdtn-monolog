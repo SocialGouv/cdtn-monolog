{
 "cells": [
  {
   "cell_type": "markdown",
   "id": "dd9061b0",
   "metadata": {},
   "source": [
    "# Récupération de tous les commentaires\n",
    "\n",
    "**Définition** : On récupère tous les events qui ont le champs `feedbackType` définit\n"
   ]
  },
  {
   "cell_type": "code",
   "execution_count": null,
   "id": "b9be2c1a",
   "metadata": {},
   "outputs": [],
   "source": [
    "import pandas as pd\n",
    "import time\n",
    "import json\n",
    "import math\n",
    "from tqdm.notebook import tqdm\n",
    "import plotly.express as px\n",
    "import plotly.graph_objects as go\n",
    "from datetime import datetime\n",
    "from src.elasticsearch_connector import ElasticsearchConnector\n",
    "#from typing import List, Dict\n",
    "\n",
    "\n",
    "pd.set_option('display.max_columns', 100)\n",
    "pd.set_option('display.max_rows', 100)"
   ]
  },
  {
   "cell_type": "markdown",
   "id": "b852c52d",
   "metadata": {},
   "source": [
    "## Récupération des logs pour le mois de février et pour plus tard"
   ]
  },
  {
   "cell_type": "code",
   "execution_count": null,
   "id": "3040b02d",
   "metadata": {},
   "outputs": [],
   "source": [
    "es_connector = ElasticsearchConnector(env='monolog')\n",
    "\n",
    "QUERY = {\n",
    "    \"query\": {\n",
    "        \"bool\": { \n",
    "          \"must\": [\n",
    "             {\n",
    "                  \"exists\": {\n",
    "                    \"field\": \"feedbackType\"\n",
    "                  }\n",
    "            }\n",
    "          ]\n",
    "        }\n",
    "      }\n",
    "}"
   ]
  },
  {
   "cell_type": "code",
   "execution_count": null,
   "id": "1ee54149",
   "metadata": {},
   "outputs": [],
   "source": [
    "logs = es_connector.execute_query(QUERY, \"logs-new\")"
   ]
  },
  {
   "cell_type": "code",
   "execution_count": null,
   "id": "10e672af",
   "metadata": {},
   "outputs": [],
   "source": [
    "grouped = (logs.groupby(['idVisit', 'url']) # on group ensemble les idvisit sur les m^me url\n",
    "    .agg(\n",
    "        feedbackTypes=('feedbackType', lambda x: list(x)),  # Agréger toutes les valeurs de feedbackType\n",
    "        maxLastActionDateTime=('lastActionDateTime', 'max')  # Trouver la valeur maximale de lastActionDateTime\n",
    "    )\n",
    "    .reset_index())"
   ]
  },
  {
   "cell_type": "code",
   "execution_count": null,
   "id": "fb36fdd1",
   "metadata": {},
   "outputs": [],
   "source": [
    "filtered_grouped = grouped[grouped['feedbackTypes'].apply(lambda x: any(v not in [\"negative\", \"positive\"] for v in x))]\n",
    "\n",
    "# On sépare en 2 colonnes la colonne 'feedbackTypes' qui contient la liste des commenatires\n",
    "filtered_grouped = filtered_grouped.copy()\n",
    "filtered_grouped.loc[:, 'answer'] = filtered_grouped['feedbackTypes'].apply(\n",
    "    lambda x: x[0] if x[0] in [\"negative\", \"positive\"] else \"\"\n",
    ")\n",
    "filtered_grouped.loc[:, 'feedback'] = filtered_grouped['feedbackTypes'].apply(\n",
    "    lambda x: x[1:] if x[0] in [\"negative\", \"positive\"] and len(x) > 1 else x\n",
    ")\n",
    "filtered_grouped = filtered_grouped.drop(columns=['feedbackTypes', 'idVisit'])\n"
   ]
  },
  {
   "cell_type": "code",
   "execution_count": null,
   "id": "9790e4fe",
   "metadata": {},
   "outputs": [],
   "source": [
    "filtered_grouped = filtered_grouped.rename(columns={'maxLastActionDateTime': 'date'})\n",
    "filtered_grouped = filtered_grouped.sort_values(by='date', ascending=True)"
   ]
  },
  {
   "cell_type": "code",
   "execution_count": null,
   "id": "0c733f8f",
   "metadata": {},
   "outputs": [],
   "source": [
    "filtered_grouped"
   ]
  },
  {
   "cell_type": "code",
   "execution_count": null,
   "id": "d37b888c",
   "metadata": {},
   "outputs": [],
   "source": [
    "current_date = datetime.now().strftime(\"%d-%m-%Y\")\n",
    "\n",
    "# Définir le nom du fichier avec la date\n",
    "file_name = f\"commentaires-{current_date}.csv\"\n",
    "\n",
    "# Sauvegarder le DataFrame dans un fichier CSV avec le nom de fichier formaté\n",
    "filtered_grouped.to_csv(file_name, sep=\";\", index=False)"
   ]
  },
  {
   "cell_type": "code",
   "execution_count": null,
   "id": "528874af",
   "metadata": {},
   "outputs": [],
   "source": []
  }
 ],
 "metadata": {
  "kernelspec": {
   "display_name": "Python 3 (ipykernel)",
   "language": "python",
   "name": "python3"
  },
  "language_info": {
   "codemirror_mode": {
    "name": "ipython",
    "version": 3
   },
   "file_extension": ".py",
   "mimetype": "text/x-python",
   "name": "python",
   "nbconvert_exporter": "python",
   "pygments_lexer": "ipython3",
   "version": "3.10.12"
  }
 },
 "nbformat": 4,
 "nbformat_minor": 5
}
