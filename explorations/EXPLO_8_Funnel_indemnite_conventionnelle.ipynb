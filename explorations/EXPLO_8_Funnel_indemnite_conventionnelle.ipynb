{
 "cells": [
  {
   "cell_type": "markdown",
   "id": "6357c55d",
   "metadata": {},
   "source": [
    "# Funnel sur l’outil de calcul de l’indemnité conventionnelle\n",
    "\n",
    "**Objectif** : En filtrant par session (ne pas avoir plusieurs fois un même event pour un même utilisateur) on voudrait avoir le nombre d’utilisateurs présents à chaque étape\n",
    "\n",
    "Ceci doit nous permettre d’avoir le taux de complétion sur cette période\n",
    "\n",
    "**Attention** : Les utilisateurs ne passent pas tous par toutes les étapes (certains ne passent pas par l’étape « infos » d’autres ne passent pas par l’étape « salaires »)\n",
    "=> Ça ne change rien pour l’analyse, c’est pour l’interprétation après\n",
    "\n",
    "**Les events à utiliser** : \n",
    "- event_category : outil\n",
    "- event_action : view_step_Indemnité de licenciement\n",
    "- event_name :\n",
    "  - start\n",
    "  - contrat_travail\n",
    "  - info_cc\n",
    "  - infos\n",
    "  - anciennete\n",
    "  - salaires\n",
    "  - results\n",
    "\n",
    "## On commence par le chargement des données"
   ]
  },
  {
   "cell_type": "code",
   "execution_count": null,
   "id": "026568a5",
   "metadata": {},
   "outputs": [],
   "source": [
    "import pandas as pd\n",
    "import numpy as np\n",
    "import time\n",
    "import json\n",
    "import math\n",
    "from tqdm.notebook import tqdm\n",
    "import plotly.express as px\n",
    "import plotly.graph_objects as go\n",
    "from datetime import datetime\n",
    "from src.elasticsearch_connector import ElasticsearchConnector\n",
    "#from typing import List, Dict\n",
    "\n",
    "tqdm.pandas()\n",
    "\n",
    "\n",
    "pd.set_option('display.max_columns', 100)\n",
    "pd.set_option('display.max_rows', 100)\n",
    "pd.set_option('display.width', 200)"
   ]
  },
  {
   "cell_type": "markdown",
   "id": "bcb29777",
   "metadata": {},
   "source": [
    "## Si on veut lire en requêtant Elastic Search"
   ]
  },
  {
   "cell_type": "code",
   "execution_count": null,
   "id": "7a396326",
   "metadata": {},
   "outputs": [],
   "source": [
    "es_connector = ElasticsearchConnector(env='monolog')\n",
    "\n",
    "QUERY = {\n",
    "  \"query\": {\n",
    "    \"bool\": { \n",
    "      \"must\": [\n",
    "        {\n",
    "          \"prefix\": {\n",
    "            \"url\": \"https://code.travail.gouv.fr/outils/indemnite-licenciement\" \n",
    "          }\n",
    "        },\n",
    "        {\n",
    "          \"range\": {\n",
    "           \"logfile\": {\n",
    "              \"gte\": \"2023-01-02\",\n",
    "              \"lt\": \"2023-03-19\"\n",
    "           }\n",
    "          }\n",
    "        }\n",
    "      ]\n",
    "    }\n",
    "  }\n",
    "}"
   ]
  },
  {
   "cell_type": "code",
   "execution_count": null,
   "id": "edc1c0d3",
   "metadata": {
    "scrolled": true
   },
   "outputs": [],
   "source": [
    "logs = es_connector.execute_query(QUERY, \"logs-new\")"
   ]
  },
  {
   "cell_type": "markdown",
   "id": "3b29df8c",
   "metadata": {},
   "source": [
    "# Début de l'exploration du funnel pour l'indemnite licenciement\n",
    "## 1. Funnel sur l’outil de calcul de l’indemnité conventionnelle : du 18/02 au 18/03"
   ]
  },
  {
   "cell_type": "markdown",
   "id": "fffc0646",
   "metadata": {},
   "source": [
    "### Préparation des données"
   ]
  },
  {
   "cell_type": "code",
   "execution_count": null,
   "id": "248c13a6",
   "metadata": {},
   "outputs": [],
   "source": [
    "def format_url_and_get_month_and_datetime_columns(df: pd.DataFrame):\n",
    "    df['url'] = df['url'].str.split('#').str[0].str.split('?').str[0]\n",
    "    df['month'] = pd.DatetimeIndex(df['logfile']).month\n",
    "    df['datetime'] = df['timestamp'].apply(datetime.fromtimestamp)\n",
    "    return df"
   ]
  },
  {
   "cell_type": "code",
   "execution_count": null,
   "id": "25166d37",
   "metadata": {},
   "outputs": [],
   "source": [
    "logs = format_url_and_get_month_and_datetime_columns(logs.copy())"
   ]
  },
  {
   "cell_type": "code",
   "execution_count": null,
   "id": "1aa1c520",
   "metadata": {},
   "outputs": [],
   "source": [
    "logs = logs.drop(columns=['timestamp', 'lastActionTimestamp', 'referrerName', 'referrerTypeName', \n",
    "                          'query', 'timeSpent', 'feedbackType', 'visited', 'recoSelection', 'recoType',\n",
    "                          'suggestionPrefix', 'suggestionSelection', 'resultSelection', 'lastActionDateTime', \n",
    "                          'serverTimePretty'])"
   ]
  },
  {
   "cell_type": "code",
   "execution_count": null,
   "id": "84807ce7",
   "metadata": {},
   "outputs": [],
   "source": [
    "logs_feb_mar = logs[logs['logfile'] > '2023-02-17'].copy()"
   ]
  },
  {
   "cell_type": "markdown",
   "id": "adf73289",
   "metadata": {},
   "source": [
    "### Comptage du nombre de visiteurs uniques à chacune des étapes du parcours"
   ]
  },
  {
   "cell_type": "code",
   "execution_count": null,
   "id": "eedcbab3",
   "metadata": {},
   "outputs": [],
   "source": [
    "logs_indem_licen_view_step = logs_feb_mar[logs_feb_mar['outilAction']=='view_step'].copy()"
   ]
  },
  {
   "cell_type": "code",
   "execution_count": null,
   "id": "0e393151",
   "metadata": {},
   "outputs": [],
   "source": [
    "unique_visits_by_event_indem_licen = logs_indem_licen_view_step.groupby(\n",
    "    by=['outilEvent']\n",
    ")[['idVisit']].agg('nunique')\n",
    "\n",
    "unique_visits_by_event_indem_licen = unique_visits_by_event_indem_licen.rename(\n",
    "    columns={\"idVisit\": \"Nombre de visiteurs uniques\"})"
   ]
  },
  {
   "cell_type": "code",
   "execution_count": null,
   "id": "281a8a68",
   "metadata": {},
   "outputs": [],
   "source": [
    "step_outil_indemnite_licenciement = {\n",
    "    'start': 0, 'contrat_travail': 1, 'info_cc': 2, 'infos': 3, 'anciennete': 4, 'salaires': 5, 'results': 6\n",
    "} \n",
    "\n",
    "unique_visits_by_event_indem_licen\\\n",
    "    .sort_values(by=['outilEvent'], key=lambda x: x.map(step_outil_indemnite_licenciement))"
   ]
  },
  {
   "cell_type": "markdown",
   "id": "c2d72659",
   "metadata": {},
   "source": [
    "## 2. Séparer ceux qui passent/ne passent pas par « infos » du funnel sur l’outil de calcul de l’indemnité conventionnelle : du 18/02 au 18/03"
   ]
  },
  {
   "cell_type": "code",
   "execution_count": null,
   "id": "de072546",
   "metadata": {},
   "outputs": [],
   "source": [
    "logs_indem_licen_view_step = logs_feb_mar[(logs_feb_mar['outilAction']=='view_step')].copy()"
   ]
  },
  {
   "cell_type": "code",
   "execution_count": null,
   "id": "3c408d57",
   "metadata": {},
   "outputs": [],
   "source": [
    "# On récupère la liste de visiteurs étant passé par l'étape infos\n",
    "users_having_selected_a_cc = logs_indem_licen_view_step[\n",
    "    logs_indem_licen_view_step['outilEvent'].apply(lambda x: x == 'infos')\n",
    "].idVisit.unique()\n",
    "\n",
    "users_having_selected_a_cc = set(users_having_selected_a_cc)"
   ]
  },
  {
   "cell_type": "code",
   "execution_count": null,
   "id": "1f3570fb",
   "metadata": {},
   "outputs": [],
   "source": [
    "# on va voir si nos utilisateurs ont selectionné une CC\n",
    "\n",
    "logs_indem_licen_view_step['Est passé par l étape infos'] = logs_indem_licen_view_step.idVisit.progress_apply(\n",
    "    lambda visiteur: 'Oui' if visiteur in users_having_selected_a_cc else 'Non')"
   ]
  },
  {
   "cell_type": "code",
   "execution_count": null,
   "id": "7ec9b6c9",
   "metadata": {},
   "outputs": [],
   "source": [
    "unique_visits_by_event_indem_licen = logs_indem_licen_view_step.groupby(\n",
    "    by=['Est passé par l étape infos', 'outilEvent']\n",
    ")[['idVisit']].agg('nunique')\n",
    "\n",
    "unique_visits_by_event_indem_licen = unique_visits_by_event_indem_licen.rename(\n",
    "    columns={\"idVisit\": \"Nombre de visiteurs uniques\"})"
   ]
  },
  {
   "cell_type": "code",
   "execution_count": null,
   "id": "f01f7e84",
   "metadata": {},
   "outputs": [],
   "source": [
    "step_outil_indemnite_licenciement = {\n",
    "    'start': 0, 'contrat_travail': 1, 'info_cc': 2, 'infos': 3, 'anciennete': 4, 'salaires': 5, 'results': 6\n",
    "} \n",
    "\n",
    "dict_selection_cc = {\n",
    "    'Oui': 0, 'Non': 1\n",
    "} \n",
    "\n",
    "unique_visits_by_event_indem_licen\\\n",
    "    .sort_values(by=['outilEvent'], key=lambda x: x.map(step_outil_indemnite_licenciement))\\\n",
    "    .sort_values(by=['Est passé par l étape infos'], key=lambda x: x.map(dict_selection_cc))"
   ]
  },
  {
   "cell_type": "markdown",
   "id": "c6a912c5",
   "metadata": {},
   "source": [
    "## 3. Funnel sur l’outil de calcul de l’indemnité légale : du 02/01/23 au 30/01/23\n",
    "\n",
    "### Préparation des données"
   ]
  },
  {
   "cell_type": "code",
   "execution_count": null,
   "id": "9188cc6d",
   "metadata": {},
   "outputs": [],
   "source": [
    "logs_jan = logs[(logs['logfile'] > '2023-01-01') & (logs['logfile'] < '2023-02-01')].copy()"
   ]
  },
  {
   "cell_type": "markdown",
   "id": "1f2c5c07",
   "metadata": {},
   "source": [
    "### Comptage du nombre de visiteurs uniques à chacune des étapes du parcours"
   ]
  },
  {
   "cell_type": "code",
   "execution_count": null,
   "id": "01b8abd8",
   "metadata": {},
   "outputs": [],
   "source": [
    "logs_indem_licen_view_step = logs_jan[logs_jan['outilAction']=='view_step'].copy()"
   ]
  },
  {
   "cell_type": "code",
   "execution_count": null,
   "id": "ab8bb8a9",
   "metadata": {},
   "outputs": [],
   "source": [
    "unique_visits_by_event_indem_licen = logs_indem_licen_view_step.groupby(\n",
    "    by=['outilEvent']\n",
    ")[['idVisit']].agg('nunique')\n",
    "\n",
    "unique_visits_by_event_indem_licen = unique_visits_by_event_indem_licen.rename(\n",
    "    columns={\"idVisit\": \"Nombre de visiteurs uniques\"})"
   ]
  },
  {
   "cell_type": "code",
   "execution_count": null,
   "id": "cb859832",
   "metadata": {},
   "outputs": [],
   "source": [
    "step_outil_indemnite_licenciement = {\n",
    "    'start': 0, 'contrat_travail': 1, 'anciennete': 4, 'salaires': 5, 'results': 6\n",
    "} \n",
    "\n",
    "unique_visits_by_event_indem_licen\\\n",
    "    .sort_values(by=['outilEvent'], key=lambda x: x.map(step_outil_indemnite_licenciement))"
   ]
  },
  {
   "cell_type": "markdown",
   "id": "e7787d22",
   "metadata": {},
   "source": [
    "## 4. Taux de sélection de CC sur l’outil de calul de l’indemnité de licenciement conventionnelle  : du 18/02 au 18/03\n",
    "\n",
    "On cherche a avoir le nombre de cc_select_p1 + cc_select_p2 sur le nombre total de visiteurs de la page info_cc de l'outil indemnité de licenciement conventionnelle.\n",
    "\n",
    "Commencons par le calcul du dénominateur soit le nombre de visits uniques sur la page info_cc. "
   ]
  },
  {
   "cell_type": "code",
   "execution_count": null,
   "id": "4adfa1d2",
   "metadata": {},
   "outputs": [],
   "source": [
    "nb_visits_info_cc = logs_feb_mar[\n",
    "    (logs_feb_mar['outilAction']=='view_step') &\n",
    "    (logs_feb_mar['outilEvent']=='info_cc')\n",
    "].idVisit.nunique()\n",
    "nb_visits_info_cc"
   ]
  },
  {
   "cell_type": "markdown",
   "id": "47a58e73",
   "metadata": {},
   "source": [
    "Calculons maintenant le numérateur."
   ]
  },
  {
   "cell_type": "code",
   "execution_count": null,
   "id": "f0684ef6",
   "metadata": {},
   "outputs": [],
   "source": [
    "nb_select_cc = logs_feb_mar[\n",
    "    (logs_feb_mar['type']=='cc_select_p1') | \n",
    "    (logs_feb_mar['type']=='cc_select_p2') \n",
    "].idVisit.nunique()\n",
    "nb_select_cc"
   ]
  }
 ],
 "metadata": {
  "kernelspec": {
   "display_name": "Python 3 (ipykernel)",
   "language": "python",
   "name": "python3"
  },
  "language_info": {
   "codemirror_mode": {
    "name": "ipython",
    "version": 3
   },
   "file_extension": ".py",
   "mimetype": "text/x-python",
   "name": "python",
   "nbconvert_exporter": "python",
   "pygments_lexer": "ipython3",
   "version": "3.10.10"
  }
 },
 "nbformat": 4,
 "nbformat_minor": 5
}
