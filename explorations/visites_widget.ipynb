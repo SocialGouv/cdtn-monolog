{
 "cells": [
  {
   "cell_type": "markdown",
   "id": "113ba23d",
   "metadata": {},
   "source": [
    "# Visite des widgets\n",
    "\n",
    "**Définition** : Ce que je veux faire\n",
    "\n",
    "**Formule** : \n",
    "\n",
    "## On commence par le chargement des données\n",
    "on décommente ce dont on a besoin"
   ]
  },
  {
   "cell_type": "code",
   "execution_count": null,
   "id": "95ea9c72",
   "metadata": {},
   "outputs": [],
   "source": [
    "import pandas as pd\n",
    "import time\n",
    "import json\n",
    "import math\n",
    "from tqdm.notebook import tqdm\n",
    "import plotly.express as px\n",
    "import plotly.graph_objects as go\n",
    "from datetime import datetime\n",
    "from src.elasticsearch_connector import ElasticsearchConnector\n",
    "#from typing import List, Dict\n",
    "\n",
    "\n",
    "pd.set_option('display.max_columns', 100)\n",
    "pd.set_option('display.max_rows', 100)\n",
    "pd.set_option('display.max_colwidth', 1000)"
   ]
  },
  {
   "cell_type": "markdown",
   "id": "b24d6de4",
   "metadata": {},
   "source": [
    "## Si on veut lire en requêtant Elastic Search"
   ]
  },
  {
   "cell_type": "code",
   "execution_count": null,
   "id": "588ba9ca",
   "metadata": {},
   "outputs": [],
   "source": [
    "es_connector = ElasticsearchConnector(env='monolog')\n",
    "\n",
    "QUERY = {\n",
    "    \"query\": {\n",
    "        \"bool\": { \n",
    "          \"must\": [\n",
    "            {\n",
    "              \"prefix\": {\n",
    "                \"url\": \"https://code.travail.gouv.fr/widgets\" \n",
    "              }\n",
    "            },\n",
    "            {\n",
    "              \"range\": {\n",
    "               \"logfile\": {\n",
    "                  \"gte\": \"2023-01-01\"\n",
    "               }\n",
    "              }\n",
    "            }\n",
    "          ]\n",
    "        }\n",
    "      }\n",
    "}"
   ]
  },
  {
   "cell_type": "code",
   "execution_count": null,
   "id": "48d48a87",
   "metadata": {},
   "outputs": [],
   "source": [
    "logs_widgets = es_connector.execute_query(QUERY, \"logs-new\")"
   ]
  },
  {
   "cell_type": "code",
   "execution_count": null,
   "id": "a33545da",
   "metadata": {},
   "outputs": [],
   "source": [
    "websites = logs_widgets[logs_widgets[\"referrerTypeName\"] == \"Websites\"]"
   ]
  },
  {
   "cell_type": "code",
   "execution_count": null,
   "id": "03c3fa0e",
   "metadata": {},
   "outputs": [],
   "source": [
    "websites"
   ]
  },
  {
   "cell_type": "code",
   "execution_count": null,
   "id": "21e6c331",
   "metadata": {},
   "outputs": [],
   "source": [
    "websites.groupby(by=[\"url\", \"referrerName\"]).agg({\"idVisit\": \"nunique\"})"
   ]
  }
 ],
 "metadata": {
  "kernelspec": {
   "display_name": "Python 3 (ipykernel)",
   "language": "python",
   "name": "python3"
  },
  "language_info": {
   "codemirror_mode": {
    "name": "ipython",
    "version": 3
   },
   "file_extension": ".py",
   "mimetype": "text/x-python",
   "name": "python",
   "nbconvert_exporter": "python",
   "pygments_lexer": "ipython3",
   "version": "3.9.5"
  }
 },
 "nbformat": 4,
 "nbformat_minor": 5
}
