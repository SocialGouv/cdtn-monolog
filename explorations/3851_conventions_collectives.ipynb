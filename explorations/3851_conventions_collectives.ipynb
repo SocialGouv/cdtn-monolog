{
 "cells": [
  {
   "cell_type": "code",
   "execution_count": null,
   "id": "537ef646",
   "metadata": {},
   "outputs": [],
   "source": [
    "import pandas as pd\n",
    "import time\n",
    "import json\n",
    "import math\n",
    "from tqdm.notebook import tqdm\n",
    "import plotly.express as px\n",
    "import plotly.graph_objects as go\n",
    "from typing import List, Dict\n",
    "\n",
    "\n",
    "pd.set_option('display.max_columns', 100)\n",
    "pd.set_option('display.max_rows', 100)"
   ]
  },
  {
   "cell_type": "code",
   "execution_count": null,
   "id": "34de13de",
   "metadata": {},
   "outputs": [],
   "source": [
    "from query_elastic_search import load_file_if_exists_or_execute_query"
   ]
  },
  {
   "cell_type": "code",
   "execution_count": null,
   "id": "0cfda9d1",
   "metadata": {},
   "outputs": [],
   "source": [
    "FILE_NAME = 'log_urls_convention_collective_from_2021_01_to_2022_03.csv'"
   ]
  },
  {
   "cell_type": "code",
   "execution_count": null,
   "id": "873eb5e5",
   "metadata": {},
   "outputs": [],
   "source": [
    "QUERY = {\n",
    "    \"query\": {\n",
    "        \"bool\": { \n",
    "          \"must\": [\n",
    "            {\n",
    "              \"prefix\": {\n",
    "                \"url\": \"https://code.travail.gouv.fr/outils/convention-collective\" \n",
    "              }\n",
    "            },\n",
    "            {\n",
    "              \"range\": {\n",
    "               \"lastActionDateTime\": {\n",
    "                  \"gte\": \"2021-01-01 00:00:00\",\n",
    "                  \"lt\": \"2022-04-01 00:00:00\"\n",
    "               }\n",
    "              }\n",
    "            }\n",
    "          ]\n",
    "        }\n",
    "      }\n",
    "}"
   ]
  },
  {
   "cell_type": "code",
   "execution_count": null,
   "id": "661d0f33",
   "metadata": {},
   "outputs": [],
   "source": [
    "df = load_file_if_exists_or_execute_query(FILE_NAME, QUERY)"
   ]
  },
  {
   "cell_type": "code",
   "execution_count": null,
   "id": "262a26a3",
   "metadata": {},
   "outputs": [],
   "source": [
    "df.to_csv(FILE_NAME)"
   ]
  },
  {
   "cell_type": "code",
   "execution_count": null,
   "id": "814f8050",
   "metadata": {},
   "outputs": [],
   "source": [
    "logs_cc = df.copy()"
   ]
  },
  {
   "cell_type": "code",
   "execution_count": null,
   "id": "fb36ed33",
   "metadata": {},
   "outputs": [],
   "source": [
    "logs_cc.shape"
   ]
  },
  {
   "cell_type": "code",
   "execution_count": null,
   "id": "f9d88d1e",
   "metadata": {},
   "outputs": [],
   "source": [
    "logs_cc.head()"
   ]
  },
  {
   "cell_type": "markdown",
   "id": "43b96824",
   "metadata": {},
   "source": [
    "from elasticsearch import Elasticsearch\n",
    "ES_HOST = \"https://804b8d99b80941e2a99f551cd481fb5b.westeurope.azure.elastic-cloud.com:9243\"\n",
    "es = Elasticsearch([ES_HOST], http_auth=('fabienroussel', \"cdtn-team\"), timeout=36600)\n",
    "\n",
    "es.ping()"
   ]
  },
  {
   "cell_type": "markdown",
   "id": "ffeaae07",
   "metadata": {},
   "source": [
    "FILE_NAME = 'logs_new_from_2021_01_to_2022_04.csv'"
   ]
  },
  {
   "cell_type": "markdown",
   "id": "61ba10c6",
   "metadata": {},
   "source": [
    "def init_query():\n",
    "    search_body = {\n",
    "       \"query\":{\n",
    "          \"range\":{\n",
    "             \"lastActionDateTime\":{\n",
    "                \"gte\":\"2021-04-01 00:00:00\",\n",
    "                \"lt\":\"2022-01-01 00:00:00\"\n",
    "             }\n",
    "          }\n",
    "       }\n",
    "    }\n",
    "    resp = es.search(\n",
    "            index = \"logs-new\",\n",
    "            body = search_body,\n",
    "            scroll = '100m', # time value for search\n",
    "            size=10000,\n",
    "        )\n",
    "    scroll_id = resp[\"_scroll_id\"]\n",
    "    num_hits = resp[\"hits\"][\"total\"][\"value\"]\n",
    "    return scroll_id, num_hits\n",
    "\n",
    "def scroll_query(scroll_id):\n",
    "    resp = es.scroll(\n",
    "        scroll_id = scroll_id,\n",
    "        scroll=\"10m\",\n",
    "    )\n",
    "    return resp[\"hits\"][\"hits\"]"
   ]
  },
  {
   "cell_type": "markdown",
   "id": "4a4873a2",
   "metadata": {},
   "source": [
    "try:\n",
    "    logs_new = pd.read_csv(FILE_NAME)\n",
    "except:\n",
    "    scroll_id, num_hits = init_query()\n",
    "    step_size = 10_000\n",
    "    data = []\n",
    "    with tqdm(total=num_hits) as pbar:\n",
    "        for i in range(math.ceil(num_hits/step_size)):\n",
    "            data.extend(scroll_query(scroll_id))\n",
    "            # voir comment sauvegarder au fur et a mesure\n",
    "            pbar.update(step_size)\n",
    "    \n",
    "    logs_new = pd.DataFrame([d['_source'] for d in data])\n",
    "    logs_new.to_csv(FILE_NAME)"
   ]
  },
  {
   "cell_type": "code",
   "execution_count": null,
   "id": "7bfee93f",
   "metadata": {},
   "outputs": [],
   "source": [
    "logs_cc.info()"
   ]
  },
  {
   "cell_type": "code",
   "execution_count": null,
   "id": "6bda876f",
   "metadata": {},
   "outputs": [],
   "source": [
    "logs_cc.type.value_counts()"
   ]
  },
  {
   "cell_type": "code",
   "execution_count": null,
   "id": "53ff9a44",
   "metadata": {},
   "outputs": [],
   "source": [
    "logs_cc['lastActionDate'] = pd.to_datetime(logs_cc['lastActionDateTime']).dt.date"
   ]
  },
  {
   "cell_type": "markdown",
   "id": "ce8c3ca1",
   "metadata": {},
   "source": [
    "cc_logs_new = logs_new[\n",
    "    logs_new['url'].str.startswith('https://code.travail.gouv.fr/outils/convention-collective', na=False)\n",
    "].copy()\n",
    "cc_logs_new"
   ]
  },
  {
   "cell_type": "markdown",
   "id": "41addb79",
   "metadata": {},
   "source": [
    "## Séparation du jeux de données des logs avant vs après 30.06.2021"
   ]
  },
  {
   "cell_type": "code",
   "execution_count": null,
   "id": "6713d5bc",
   "metadata": {},
   "outputs": [],
   "source": [
    "date_2021_06_30 = pd.to_datetime(\"2021-06-30\").date()\n",
    "logs_cc_before_30_06_2021 = logs_cc[logs_cc['lastActionDate']<date_2021_06_30]\n",
    "logs_cc_after_30_06_2021 = logs_cc[logs_cc['lastActionDate']>date_2021_06_30]"
   ]
  },
  {
   "cell_type": "code",
   "execution_count": null,
   "id": "662dfc0e",
   "metadata": {},
   "outputs": [],
   "source": [
    "logs_cc_before_30_06_2021.lastActionDateTime.max()"
   ]
  },
  {
   "cell_type": "code",
   "execution_count": null,
   "id": "42597c70",
   "metadata": {},
   "outputs": [],
   "source": [
    "logs_cc_after_30_06_2021.lastActionDateTime.min()"
   ]
  },
  {
   "cell_type": "markdown",
   "id": "b81fa7c6",
   "metadata": {},
   "source": [
    "## Taux de complétion de l'outil convention collective sur l'ancien parcours (avant 30.06.2021)"
   ]
  },
  {
   "cell_type": "code",
   "execution_count": null,
   "id": "2acd701b",
   "metadata": {},
   "outputs": [],
   "source": [
    "column = ['Mois', 'cc_select/cc_search', 'cc_select/nb_visiteurs', 'nb visiteurs', 'nb cc_search', 'nb cc_select']"
   ]
  },
  {
   "cell_type": "code",
   "execution_count": null,
   "id": "7aa41017",
   "metadata": {},
   "outputs": [],
   "source": [
    "logs_cc_before_30_06_2021.type.value_counts()"
   ]
  },
  {
   "cell_type": "code",
   "execution_count": null,
   "id": "71d0cdf9",
   "metadata": {},
   "outputs": [],
   "source": [
    "cc_logs_by_id_visit = logs_cc_before_30_06_2021.groupby(by=['idVisit']).agg({\n",
    "        'lastActionDate': 'first',\n",
    "        'type': lambda x: list(x),\n",
    "        'timeSpent': lambda x: list(x),\n",
    "        'url': lambda x: list(x),\n",
    "    }).reset_index()\n",
    "\n",
    "cc_logs_by_id_visit['month'] = pd.DatetimeIndex(cc_logs_by_id_visit['lastActionDate']).month\n",
    "cc_logs_by_id_visit['year'] = pd.DatetimeIndex(cc_logs_by_id_visit['lastActionDate']).year\n",
    "\n",
    "cc_logs_by_id_visit"
   ]
  },
  {
   "cell_type": "code",
   "execution_count": null,
   "id": "c822d362",
   "metadata": {},
   "outputs": [],
   "source": [
    "cc_logs_by_id_visit = cc_logs_by_id_visit.assign(has_visit=True)\n",
    "\n",
    "cc_logs_by_id_visit['has_user_done_a_cc_search'] = cc_logs_by_id_visit['type'].apply(\n",
    "    lambda types: 'cc_search' in types\n",
    ")\n",
    "\n",
    "cc_logs_by_id_visit['has_user_done_a_cc_select'] = cc_logs_by_id_visit['type'].apply(\n",
    "    lambda types: 'cc_select' in types\n",
    ")"
   ]
  },
  {
   "cell_type": "code",
   "execution_count": null,
   "id": "081446d6",
   "metadata": {},
   "outputs": [],
   "source": [
    "nb_of_visits_with_action = cc_logs_by_id_visit.groupby(by=['year', 'month']).agg({\n",
    "    'has_visit': sum,\n",
    "    'has_user_done_a_cc_search': sum,\n",
    "    'has_user_done_a_cc_select': sum,\n",
    "})\n",
    "\n",
    "nb_of_visits_with_action['cc_select/cc_search'] = nb_of_visits_with_action.apply(\n",
    "    lambda x: f\"{round(x['has_user_done_a_cc_select']/x['has_user_done_a_cc_search']*100, 2)}%\", axis=1\n",
    ")\n",
    "\n",
    "nb_of_visits_with_action['cc_select/nb_visites'] = nb_of_visits_with_action.apply(\n",
    "    lambda x: f\"{round(x['has_user_done_a_cc_select']/x['has_visit']*100, 2)}%\", axis=1\n",
    ")\n",
    "\n",
    "nb_of_visits_with_action"
   ]
  },
  {
   "cell_type": "markdown",
   "id": "f4fee129",
   "metadata": {},
   "source": [
    "count_number_of_cc_search = cc_logs_by_id_visit['has_user_done_a_cc_search'].sum()\n",
    "count_number_of_cc_select = cc_logs_by_id_visit['has_user_done_a_cc_select'].sum()"
   ]
  },
  {
   "cell_type": "markdown",
   "id": "b741270a",
   "metadata": {},
   "source": [
    "taux_de_completion_cc = round(count_number_of_cc_select / count_number_of_cc_search, 4)*100\n",
    "print(f'Le taux de complétion de l\\'ancien outil Convention Collective est de {taux_de_completion_cc}%')"
   ]
  },
  {
   "cell_type": "code",
   "execution_count": null,
   "id": "d093c6dc",
   "metadata": {},
   "outputs": [],
   "source": []
  },
  {
   "cell_type": "markdown",
   "id": "05f3bdd7",
   "metadata": {},
   "source": [
    "## Taux de complétion de l'outil convention collective sur le nouveau parcours (après 30.06.2021)"
   ]
  },
  {
   "cell_type": "code",
   "execution_count": null,
   "id": "4d8b8494",
   "metadata": {},
   "outputs": [],
   "source": [
    "cc_logs_after_by_id_visit = logs_cc_after_30_06_2021.groupby(by=['idVisit']).agg({\n",
    "        'lastActionDate': 'first',\n",
    "        'type': lambda x: list(x),\n",
    "        'timeSpent': lambda x: list(x),\n",
    "        'url': lambda x: list(x),\n",
    "    }).reset_index()\n",
    "\n",
    "cc_logs_after_by_id_visit['month'] = pd.DatetimeIndex(cc_logs_after_by_id_visit['lastActionDate']).month\n",
    "cc_logs_after_by_id_visit['year'] = pd.DatetimeIndex(cc_logs_after_by_id_visit['lastActionDate']).year\n",
    "\n",
    "cc_logs_after_by_id_visit"
   ]
  },
  {
   "cell_type": "code",
   "execution_count": null,
   "id": "52398358",
   "metadata": {},
   "outputs": [],
   "source": [
    "cc_logs_after_by_id_visit = cc_logs_after_by_id_visit.assign(has_visit=True)\n",
    "\n",
    "cc_logs_after_by_id_visit['has_user_done_a_cc_or_enterprise_search'] = cc_logs_after_by_id_visit['type'].apply(\n",
    "    lambda types: 'cc_search' in types or 'enterprise_search' in types\n",
    ")\n",
    "\n",
    "cc_logs_after_by_id_visit['has_user_done_a_cc_select_px'] = cc_logs_after_by_id_visit['type'].apply(\n",
    "    lambda types: 'cc_select_p1' in types or 'cc_select_p2' in types\n",
    ")"
   ]
  },
  {
   "cell_type": "code",
   "execution_count": null,
   "id": "61914dca",
   "metadata": {},
   "outputs": [],
   "source": [
    "def count_times_words_are_present_at_least_one_time_in_list_of_words(\n",
    "    list_of_list_of_words: List[List[str]], words: List[str]) -> int:\n",
    "    return len([True for list_of_words in list_of_list_of_words if any(w in words for w in list_of_words)])"
   ]
  },
  {
   "cell_type": "code",
   "execution_count": null,
   "id": "09f4b329",
   "metadata": {},
   "outputs": [],
   "source": [
    "nb_of_visits_after_with_action = cc_logs_after_by_id_visit.groupby(by=['year', 'month']).agg({\n",
    "    'idVisit': 'nunique',\n",
    "    'has_user_done_a_cc_or_enterprise_search': sum,\n",
    "    'has_user_done_a_cc_select_px': sum,\n",
    "}).rename(columns={\n",
    "    'idVisit': 'has_visit',\n",
    "    #'nb_cc_search': 'nombre de cc_search',\n",
    "    #'type_cc_select_px': 'nombre de sélection de CC (nouveau process)',\n",
    "})\n",
    "\n",
    "nb_of_visits_after_with_action['cc_select_pX/(cc_search+enterprise)'] = nb_of_visits_after_with_action.apply(\n",
    "    lambda x: f\"{round(x['has_user_done_a_cc_select_px']/x['has_user_done_a_cc_or_enterprise_search']*100, 2)}%\", axis=1\n",
    ")\n",
    "\n",
    "nb_of_visits_after_with_action['cc_select_pX/nb_visites'] = nb_of_visits_after_with_action.apply(\n",
    "    lambda x: f\"{round(x['has_user_done_a_cc_select_px']/x['has_visit']*100, 2)}%\", axis=1\n",
    ")\n",
    "\n",
    "nb_of_visits_after_with_action\n"
   ]
  },
  {
   "cell_type": "code",
   "execution_count": null,
   "id": "54e1c168",
   "metadata": {},
   "outputs": [],
   "source": [
    "logs_cc.type.value_counts()"
   ]
  },
  {
   "cell_type": "markdown",
   "id": "03ab0892",
   "metadata": {},
   "source": [
    "## legacy  graphe"
   ]
  },
  {
   "cell_type": "code",
   "execution_count": null,
   "id": "780f71d6",
   "metadata": {},
   "outputs": [],
   "source": [
    "cc_logs_by_id_visit = logs_cc.groupby(by=['idVisit']).agg({\n",
    "        'lastActionDate': 'first',\n",
    "        'type': lambda x: list(x),\n",
    "        'timeSpent': lambda x: list(x),\n",
    "        'url': lambda x: list(x),\n",
    "    }).reset_index()\n",
    "cc_logs_by_id_visit"
   ]
  },
  {
   "cell_type": "code",
   "execution_count": null,
   "id": "4335dec3",
   "metadata": {},
   "outputs": [],
   "source": [
    "cc_searches_by_id_visit = cc_logs_by_id_visit[cc_logs_by_id_visit['type'].apply(lambda types: 'cc_search' in types)].copy()\n",
    "cc_searches_by_id_visit\n"
   ]
  },
  {
   "cell_type": "code",
   "execution_count": null,
   "id": "6247fda5",
   "metadata": {},
   "outputs": [],
   "source": [
    "def count_times_words_are_present_at_least_one_time_in_list_of_words(\n",
    "    list_of_list_of_words: List[List[str]], words: List[str]) -> int:\n",
    "    return len([True for list_of_words in list_of_list_of_words if any(w in words for w in list_of_words)])"
   ]
  },
  {
   "cell_type": "code",
   "execution_count": null,
   "id": "85528dc5",
   "metadata": {},
   "outputs": [],
   "source": [
    "cc_searches_by_id_visit['type_cc_select_px'] = cc_searches_by_id_visit['type'].copy()\n",
    "\n",
    "cc_searches_by_date = cc_searches_by_id_visit.groupby(by=['lastActionDate']).agg({\n",
    "    'idVisit': 'nunique',\n",
    "    'type': lambda list_of_types: count_times_words_are_present_at_least_one_time_in_list_of_words(list_of_types, ['cc_select']),\n",
    "    'type_cc_select_px': lambda list_of_types: count_times_words_are_present_at_least_one_time_in_list_of_words(list_of_types, ['cc_select_p1', 'cc_select_p2']),\n",
    "}).reset_index().rename(columns={\n",
    "    'idVisit': 'nb_de_recherche_de_cc',\n",
    "    'type': 'nombre de sélection de CC (ancien process)',\n",
    "    'type_cc_select_px': 'nombre de sélection de CC (nouveau process)',\n",
    "})\n",
    "\n",
    "cc_searches_by_date\n"
   ]
  },
  {
   "cell_type": "code",
   "execution_count": null,
   "id": "59d1e6ef",
   "metadata": {},
   "outputs": [],
   "source": [
    "cc_logs_by_id_visit['type_cc_select_px'] = cc_logs_by_id_visit['type'] \n",
    "cc_logs_by_id_visit['nb_cc_search'] = cc_logs_by_id_visit['type'] \n",
    "\n",
    "cc_visites_by_date = cc_logs_by_id_visit.groupby(by=['lastActionDate']).agg({\n",
    "    'nb_cc_search': lambda list_of_types: count_times_words_are_present_at_least_one_time_in_list_of_words(list_of_types, ['cc_search']),\n",
    "    'type': lambda list_of_types: count_times_words_are_present_at_least_one_time_in_list_of_words(list_of_types, ['cc_select']),\n",
    "    'type_cc_select_px': lambda list_of_types: count_times_words_are_present_at_least_one_time_in_list_of_words(list_of_types, ['cc_select_p1', 'cc_select_p2']),\n",
    "}).reset_index().rename(columns={\n",
    "    'nb_cc_search': 'nombre de cc_search',\n",
    "    'type': 'nombre de sélection de CC (ancien process)',\n",
    "    'type_cc_select_px': 'nombre de sélection de CC (nouveau process)',\n",
    "})\n",
    "\n",
    "cc_visites_by_date\n"
   ]
  },
  {
   "cell_type": "code",
   "execution_count": null,
   "id": "78139f29",
   "metadata": {},
   "outputs": [],
   "source": [
    "fig = go.Figure()\n",
    "fig.add_trace(go.Scatter(\n",
    "    x=cc_searches_by_date['lastActionDate'], \n",
    "    y=cc_searches_by_date['nombre de sélection de CC (ancien process)'], \n",
    "    mode='lines+markers',\n",
    "    name='Nb de sélection de CC (ancien)'))\n",
    "fig.add_trace(go.Scatter(\n",
    "    x=cc_searches_by_date['lastActionDate'], \n",
    "    y=cc_searches_by_date['nombre de sélection de CC (nouveau process)'],\n",
    "    mode='lines+markers',\n",
    "    name='Nb de sélection de CC (nv)'))\n",
    "\n",
    "fig.show()"
   ]
  },
  {
   "cell_type": "code",
   "execution_count": null,
   "id": "37451fcd",
   "metadata": {},
   "outputs": [],
   "source": [
    "fig = go.Figure()\n",
    "fig.add_trace(go.Scatter(\n",
    "    x=cc_searches_by_date['lastActionDate'], \n",
    "    y=cc_searches_by_date['nombre de sélection de CC (ancien process)'] / cc_searches_by_date['nb_de_recherche_de_cc'], \n",
    "    mode='lines+markers',\n",
    "    name='Ratio de sélection de CC (ancien)'))\n",
    "fig.add_trace(go.Scatter(\n",
    "    x=cc_searches_by_date['lastActionDate'], \n",
    "    y=cc_searches_by_date['nombre de sélection de CC (nouveau process)'] / cc_searches_by_date['nb_de_recherche_de_cc'],\n",
    "    mode='lines+markers',\n",
    "    name='Ratio de sélection de CC (nv)'))\n",
    "\n",
    "fig.show()"
   ]
  },
  {
   "cell_type": "markdown",
   "id": "9d3b9a60",
   "metadata": {},
   "source": [
    "## Par semaine"
   ]
  },
  {
   "cell_type": "code",
   "execution_count": null,
   "id": "89113566",
   "metadata": {},
   "outputs": [],
   "source": [
    "cc_searches_by_date['week_number'] = cc_searches_by_date['lastActionDate'].apply(\n",
    "    lambda date: date.isocalendar()[1]\n",
    ")"
   ]
  },
  {
   "cell_type": "code",
   "execution_count": null,
   "id": "07cee02b",
   "metadata": {
    "scrolled": true
   },
   "outputs": [],
   "source": [
    "cc_searches_by_week = cc_searches_by_date.groupby(by=['week_number']).agg({\n",
    "    'nb_de_recherche_de_cc': 'sum', \n",
    "    'nombre de sélection de CC (ancien process)': 'sum', \n",
    "    'nombre de sélection de CC (nouveau process)': 'sum',\n",
    "}).reset_index()\n",
    "\n",
    "cc_searches_by_week"
   ]
  },
  {
   "cell_type": "code",
   "execution_count": null,
   "id": "4f33daef",
   "metadata": {},
   "outputs": [],
   "source": [
    "fig = go.Figure()\n",
    "fig.add_trace(go.Scatter(\n",
    "    x=cc_searches_by_week['week_number'], \n",
    "    y=cc_searches_by_week['nb_de_recherche_de_cc'],\n",
    "    mode='lines+markers',\n",
    "    name='Nb de sélection de CC (nv)'))\n",
    "fig.show()"
   ]
  },
  {
   "cell_type": "code",
   "execution_count": null,
   "id": "65057414",
   "metadata": {},
   "outputs": [],
   "source": [
    "fig = go.Figure()\n",
    "fig.add_trace(go.Scatter(\n",
    "    x=cc_searches_by_week['week_number'], \n",
    "    y=cc_searches_by_week['nombre de sélection de CC (ancien process)'] / cc_searches_by_week['nb_de_recherche_de_cc'], \n",
    "    mode='lines+markers',\n",
    "    name='Ratio de sélection de CC (ancien)'))\n",
    "fig.add_trace(go.Scatter(\n",
    "    x=cc_searches_by_week['week_number'], \n",
    "    y=cc_searches_by_week['nombre de sélection de CC (nouveau process)'] / cc_searches_by_week['nb_de_recherche_de_cc'],\n",
    "    mode='lines+markers',\n",
    "    name='Ratio de sélection de CC (nv)'))\n",
    "\n",
    "fig.show()"
   ]
  },
  {
   "cell_type": "code",
   "execution_count": null,
   "id": "f167d3c2",
   "metadata": {},
   "outputs": [],
   "source": []
  }
 ],
 "metadata": {
  "kernelspec": {
   "display_name": "explorations-cdtn",
   "language": "python",
   "name": "explorations-cdtn"
  },
  "language_info": {
   "codemirror_mode": {
    "name": "ipython",
    "version": 3
   },
   "file_extension": ".py",
   "mimetype": "text/x-python",
   "name": "python",
   "nbconvert_exporter": "python",
   "pygments_lexer": "ipython3",
   "version": "3.9.13"
  }
 },
 "nbformat": 4,
 "nbformat_minor": 5
}
