{
 "cells": [
  {
   "cell_type": "markdown",
   "id": "5685d737",
   "metadata": {},
   "source": [
    "# TUTORIAL joindre de multiple fichier à partir de données en local\n",
    "\n",
    "## 1. sans appel à une librairie"
   ]
  },
  {
   "cell_type": "code",
   "execution_count": null,
   "id": "119fba88",
   "metadata": {},
   "outputs": [],
   "source": [
    "import pandas as pd\n",
    "import glob"
   ]
  },
  {
   "cell_type": "code",
   "execution_count": null,
   "id": "f907030e",
   "metadata": {},
   "outputs": [],
   "source": [
    "def pd_read_pattern(pattern):\n",
    "    files = glob.glob(pattern)\n",
    "\n",
    "    list_of_df = []\n",
    "    for f in files:\n",
    "        list_of_df.append(pd.read_csv(f))\n",
    "        \n",
    "    df = pd.concat(list_of_df)\n",
    "    return df.reset_index(drop=True)"
   ]
  },
  {
   "cell_type": "code",
   "execution_count": null,
   "id": "0ef4e7ee",
   "metadata": {},
   "outputs": [],
   "source": [
    "df = pd_read_pattern(\"data-january/2022-01-*\")"
   ]
  },
  {
   "cell_type": "code",
   "execution_count": null,
   "id": "b2562f1f",
   "metadata": {},
   "outputs": [],
   "source": [
    "df.to_csv('big_file.csv')"
   ]
  },
  {
   "cell_type": "markdown",
   "id": "e99ad8cb",
   "metadata": {},
   "source": [
    "## 2. Avec un appel à une librairie"
   ]
  },
  {
   "cell_type": "code",
   "execution_count": null,
   "id": "5961e68c",
   "metadata": {},
   "outputs": [],
   "source": [
    "from join_multiple_file import pd_read_pattern, PATH_CDTN_MONOLOG"
   ]
  },
  {
   "cell_type": "code",
   "execution_count": null,
   "id": "dfb93cab",
   "metadata": {},
   "outputs": [],
   "source": [
    "df = pd_read_pattern(PATH_CDTN_MONOLOG + \"/data-outils-january/2022-01-*\")"
   ]
  },
  {
   "cell_type": "code",
   "execution_count": null,
   "id": "9e98a18b",
   "metadata": {},
   "outputs": [],
   "source": [
    "df.shape"
   ]
  }
 ],
 "metadata": {
  "kernelspec": {
   "display_name": "explorations-cdtn",
   "language": "python",
   "name": "explorations-cdtn"
  },
  "language_info": {
   "codemirror_mode": {
    "name": "ipython",
    "version": 3
   },
   "file_extension": ".py",
   "mimetype": "text/x-python",
   "name": "python",
   "nbconvert_exporter": "python",
   "pygments_lexer": "ipython3",
   "version": "3.9.13"
  }
 },
 "nbformat": 4,
 "nbformat_minor": 5
}
