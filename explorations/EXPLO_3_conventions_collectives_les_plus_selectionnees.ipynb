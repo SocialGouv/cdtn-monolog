{
 "cells": [
  {
   "cell_type": "markdown",
   "id": "3506335e",
   "metadata": {},
   "source": [
    "# Nom du notebook\n",
    "\n",
    "**Définition** : Ce que je veux faire\n",
    "\n",
    "**Formule** : \n",
    "\n",
    "## On commence par le chargement des données\n",
    "on décommente ce dont on a besoin"
   ]
  },
  {
   "cell_type": "code",
   "execution_count": null,
   "id": "5c35ae28",
   "metadata": {},
   "outputs": [],
   "source": [
    "import pandas as pd\n",
    "import time\n",
    "import json\n",
    "import math\n",
    "from tqdm.notebook import tqdm\n",
    "import plotly.express as px\n",
    "import plotly.graph_objects as go\n",
    "from datetime import datetime\n",
    "#from typing import List, Dict\n",
    "\n",
    "\n",
    "pd.set_option('display.max_columns', 100)\n",
    "pd.set_option('display.max_rows', 100)"
   ]
  },
  {
   "cell_type": "markdown",
   "id": "17642d56",
   "metadata": {},
   "source": [
    "## On récupère les données via celle déjà télécharger"
   ]
  },
  {
   "cell_type": "code",
   "execution_count": null,
   "id": "464db23e",
   "metadata": {},
   "outputs": [],
   "source": [
    "from join_multiple_file import pd_read_pattern, PATH_CDTN_MONOLOG\n",
    "\n",
    "logs_may = pd_read_pattern(PATH_CDTN_MONOLOG + \"/data-all-logs-may/*\")\n",
    "logs_june = pd_read_pattern(PATH_CDTN_MONOLOG + \"/data-all-logs-june/*\")\n",
    "logs_july = pd_read_pattern(PATH_CDTN_MONOLOG + \"/data-all-logs-july/*\") \n",
    "#logs_april_contrib = logs_april[\n",
    "#    logs_april['url'].str.match('^https://code.travail.gouv.fr/contribution/', na=False)\n",
    "#].copy()"
   ]
  },
  {
   "cell_type": "code",
   "execution_count": null,
   "id": "23283439",
   "metadata": {},
   "outputs": [],
   "source": [
    "logs_july.head()"
   ]
  },
  {
   "cell_type": "code",
   "execution_count": null,
   "id": "7898add8",
   "metadata": {},
   "outputs": [],
   "source": [
    "def format_url_and_get_month_and_datetime_columns(df: pd.DataFrame):\n",
    "    df['url'] = df['url'].str.split('#').str[0].str.split('?').str[0]\n",
    "    df['month'] = pd.DatetimeIndex(df['logfile']).month\n",
    "    df['datetime'] = df['timestamp'].apply(datetime.fromtimestamp)"
   ]
  },
  {
   "cell_type": "code",
   "execution_count": null,
   "id": "0a1896e5",
   "metadata": {},
   "outputs": [],
   "source": [
    "logs = pd.concat([logs_may, logs_june, logs_july])"
   ]
  },
  {
   "cell_type": "code",
   "execution_count": null,
   "id": "d14eedf7",
   "metadata": {},
   "outputs": [],
   "source": [
    "logs = format_url_and_get_month_and_datetime_columns(logs)"
   ]
  },
  {
   "cell_type": "markdown",
   "id": "1f4f8488",
   "metadata": {},
   "source": [
    "# Début de l'explo\n",
    "\n",
    "On souhaite voir quelles conventions collectives sont les plus populaires."
   ]
  },
  {
   "cell_type": "markdown",
   "id": "86879596",
   "metadata": {},
   "source": [
    "### Préparation des données"
   ]
  },
  {
   "cell_type": "code",
   "execution_count": null,
   "id": "9d3dd86a",
   "metadata": {},
   "outputs": [],
   "source": [
    "logs_july[logs_july['type']=='cc_select'].shape"
   ]
  },
  {
   "cell_type": "code",
   "execution_count": null,
   "id": "92206de6",
   "metadata": {},
   "outputs": [],
   "source": [
    "logs_july['cc'].value_counts()[:25]"
   ]
  },
  {
   "cell_type": "markdown",
   "id": "365fa443",
   "metadata": {},
   "source": [
    "### Présentation des résultats"
   ]
  },
  {
   "cell_type": "code",
   "execution_count": null,
   "id": "033edc72",
   "metadata": {
    "scrolled": true
   },
   "outputs": [],
   "source": [
    "print(f\"{round(( cc_select_on_contrib_without_idcc) / nb_total_visits_on_contrib_without_idcc * 100 , 2)} %\")"
   ]
  },
  {
   "cell_type": "markdown",
   "id": "440cd848",
   "metadata": {},
   "source": [
    "### Présentation Graphique du résultat"
   ]
  },
  {
   "cell_type": "code",
   "execution_count": null,
   "id": "aac8620e",
   "metadata": {},
   "outputs": [],
   "source": []
  }
 ],
 "metadata": {
  "kernelspec": {
   "display_name": "explorations-cdtn",
   "language": "python",
   "name": "explorations-cdtn"
  },
  "language_info": {
   "codemirror_mode": {
    "name": "ipython",
    "version": 3
   },
   "file_extension": ".py",
   "mimetype": "text/x-python",
   "name": "python",
   "nbconvert_exporter": "python",
   "pygments_lexer": "ipython3",
   "version": "3.9.13"
  }
 },
 "nbformat": 4,
 "nbformat_minor": 5
}
