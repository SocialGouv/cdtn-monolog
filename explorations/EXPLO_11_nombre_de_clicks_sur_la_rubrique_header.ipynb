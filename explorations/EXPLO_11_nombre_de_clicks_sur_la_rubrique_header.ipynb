{
 "cells": [
  {
   "attachments": {},
   "cell_type": "markdown",
   "id": "5b607bee",
   "metadata": {},
   "source": [
    "# Nombre de clics sur les rubriques du header : du 02/02/23 à ajd\n",
    "\n",
    "**Définition** : \n",
    "- On souhaite enlever toutes les visites qui n'ont qu'une seule action (un seul log)\n",
    "\n",
    "**Formule** : \n",
    "\n",
    "## On commence par le chargement des données\n",
    "on décommente ce dont on a besoin"
   ]
  },
  {
   "cell_type": "code",
   "execution_count": null,
   "id": "b7eeed59",
   "metadata": {},
   "outputs": [],
   "source": [
    "import pandas as pd\n",
    "import time\n",
    "import json\n",
    "import math\n",
    "from tqdm.notebook import tqdm\n",
    "import plotly.express as px\n",
    "import plotly.graph_objects as go\n",
    "from datetime import datetime\n",
    "from src.elasticsearch_connector import ElasticsearchConnector\n",
    "#from typing import List, Dict\n",
    "tqdm.pandas()\n",
    "\n",
    "\n",
    "pd.set_option('display.max_columns', 100)\n",
    "pd.set_option('display.max_rows', 100)"
   ]
  },
  {
   "cell_type": "markdown",
   "id": "47652211",
   "metadata": {},
   "source": [
    "## Si on veut lire en requêtant Elastic Search"
   ]
  },
  {
   "cell_type": "code",
   "execution_count": null,
   "id": "0fd2d381",
   "metadata": {},
   "outputs": [],
   "source": [
    "es_connector = ElasticsearchConnector(env='monolog')\n",
    "\n",
    "QUERY = {\n",
    "    \"query\": {\n",
    "        \"bool\": { \n",
    "          \"must\": [\n",
    "            {\n",
    "              \"range\": {\n",
    "               \"logfile\": {\n",
    "                  \"gte\": \"2023-02-01\",\n",
    "                  \"lt\": \"2023-03-01\"\n",
    "               }\n",
    "              }\n",
    "            }\n",
    "          ]\n",
    "        }\n",
    "      }\n",
    "}"
   ]
  },
  {
   "cell_type": "code",
   "execution_count": null,
   "id": "94b95295",
   "metadata": {},
   "outputs": [],
   "source": [
    "logs = es_connector.execute_query(QUERY, \"logs-new\")"
   ]
  },
  {
   "cell_type": "code",
   "execution_count": null,
   "id": "6b62d104",
   "metadata": {},
   "outputs": [],
   "source": [
    "logs.shape"
   ]
  },
  {
   "cell_type": "code",
   "execution_count": null,
   "id": "a4c53168",
   "metadata": {},
   "outputs": [],
   "source": [
    "logs.head()"
   ]
  },
  {
   "cell_type": "code",
   "execution_count": null,
   "id": "8f413a5e",
   "metadata": {},
   "outputs": [],
   "source": [
    "def filter_df_startwith_url(df: pd.DataFrame, url):\n",
    "    return df[df['url'].str.match(f'^{url}', na=False)].copy()"
   ]
  },
  {
   "cell_type": "code",
   "execution_count": null,
   "id": "43548051",
   "metadata": {},
   "outputs": [],
   "source": [
    "def format_url_and_get_month_and_datetime_columns(df: pd.DataFrame):\n",
    "    df['url'] = df['url'].str.split('#').str[0].str.split('?').str[0]\n",
    "    df['month'] = pd.DatetimeIndex(df['logfile']).month\n",
    "    df['datetime'] = df['timestamp'].apply(datetime.fromtimestamp)\n",
    "    return df"
   ]
  },
  {
   "cell_type": "code",
   "execution_count": null,
   "id": "ebacc467",
   "metadata": {},
   "outputs": [],
   "source": [
    "logs_formated = format_url_and_get_month_and_datetime_columns(logs)"
   ]
  },
  {
   "cell_type": "code",
   "execution_count": null,
   "id": "7466d849",
   "metadata": {},
   "outputs": [],
   "source": [
    "#logs_april_contrib = filter_df_startwith_url(logs_april, 'https://code.travail.gouv.fr/contribution/')\n",
    "#logs_april_contrib_without_duplicates = logs_april_contrib.drop_duplicates(subset=['idVisit', 'url', 'type']).copy()"
   ]
  },
  {
   "cell_type": "markdown",
   "id": "cb3ad595",
   "metadata": {},
   "source": [
    "# Début de l'explo\n",
    "\n",
    "D'abord on souhaite enlever toutes les visites qui n'ont qu'une seule action (un seul log)"
   ]
  },
  {
   "cell_type": "markdown",
   "id": "fdd07f94",
   "metadata": {},
   "source": [
    "### Préparation des données"
   ]
  },
  {
   "cell_type": "code",
   "execution_count": null,
   "id": "534c5023",
   "metadata": {},
   "outputs": [],
   "source": [
    "urls_header = [\n",
    "        'https://code.travail.gouv.fr/outils',\n",
    "        'https://code.travail.gouv.fr/modeles-de-courriers',\n",
    "        'https://code.travail.gouv.fr/contribution',\n",
    "        'https://code.travail.gouv.fr/convention-collective',\n",
    "        'https://code.travail.gouv.fr/themes',\n",
    "    ]\n",
    "\n",
    "logs_copy = logs_formated.copy()"
   ]
  },
  {
   "cell_type": "code",
   "execution_count": null,
   "id": "5be5a35e",
   "metadata": {},
   "outputs": [],
   "source": [
    "def cut_first_row_if_in_urls_header(df):\n",
    "    if df.iloc[0].url in urls_header:\n",
    "        return df.iloc[1:]\n",
    "    return df"
   ]
  },
  {
   "cell_type": "code",
   "execution_count": null,
   "id": "0db5c927",
   "metadata": {},
   "outputs": [],
   "source": [
    "visits_list = []\n",
    "\n",
    "for i in range(1, 29):\n",
    "    print('2023-02-'+str(i).zfill(2))\n",
    "    visits_list.append(logs_copy[logs_copy['logfile']=='2023-02-'+str(i).zfill(2)]\\\n",
    "        .groupby(['idVisit'])\\\n",
    "        .filter(lambda g: len(g) > 1)\\\n",
    "        .groupby(['idVisit'])\\\n",
    "        .progress_apply(cut_first_row_if_in_urls_header))"
   ]
  },
  {
   "cell_type": "code",
   "execution_count": null,
   "id": "6e93d8ca",
   "metadata": {},
   "outputs": [],
   "source": [
    "visits = pd.concat(visits_list)"
   ]
  },
  {
   "cell_type": "code",
   "execution_count": null,
   "id": "2cd767b3",
   "metadata": {},
   "outputs": [],
   "source": [
    "visits[\n",
    "    visits['url'].isin([\n",
    "        'https://code.travail.gouv.fr/outils',\n",
    "        'https://code.travail.gouv.fr/modeles-de-courriers',\n",
    "        'https://code.travail.gouv.fr/contribution',\n",
    "        'https://code.travail.gouv.fr/convention-collective',\n",
    "        'https://code.travail.gouv.fr/themes',\n",
    "    ])\n",
    "].url.value_counts()"
   ]
  },
  {
   "cell_type": "code",
   "execution_count": null,
   "id": "95e14d40",
   "metadata": {},
   "outputs": [],
   "source": [
    "visits.idVisit.nunique()"
   ]
  }
 ],
 "metadata": {
  "kernelspec": {
   "display_name": "Python 3 (ipykernel)",
   "language": "python",
   "name": "python3"
  },
  "language_info": {
   "codemirror_mode": {
    "name": "ipython",
    "version": 3
   },
   "file_extension": ".py",
   "mimetype": "text/x-python",
   "name": "python",
   "nbconvert_exporter": "python",
   "pygments_lexer": "ipython3",
   "version": "3.10.10"
  }
 },
 "nbformat": 4,
 "nbformat_minor": 5
}
